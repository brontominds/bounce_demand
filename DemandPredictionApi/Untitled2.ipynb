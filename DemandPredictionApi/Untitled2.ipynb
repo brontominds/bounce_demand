{
 "cells": [
  {
   "cell_type": "code",
   "execution_count": 10,
   "metadata": {},
   "outputs": [],
   "source": [
    "import pandas as pd\n",
    "import numpy as np"
   ]
  },
  {
   "cell_type": "code",
   "execution_count": 21,
   "metadata": {},
   "outputs": [],
   "source": [
    "def list_of_features():\n",
    "    data=(np.zeros((59,), dtype=int))\n",
    "    \n",
    "    df=pd.DataFrame([data],columns=['holiday', 'workingday', 'temp', 'atemp', 'humidity', 'windspeed',\n",
    "           'year', 'day', 'season_1', 'season_2', 'season_3', 'season_4',\n",
    "           'weather_1', 'weather_2', 'weather_3', 'weather_4', 'hour_0', 'hour_1',\n",
    "           'hour_2', 'hour_3', 'hour_4', 'hour_5', 'hour_6', 'hour_7', 'hour_8',\n",
    "           'hour_9', 'hour_10', 'hour_11', 'hour_12', 'hour_13', 'hour_14',\n",
    "           'hour_15', 'hour_16', 'hour_17', 'hour_18', 'hour_19', 'hour_20',\n",
    "           'hour_21', 'hour_22', 'hour_23', 'dayofweek_0', 'dayofweek_1',\n",
    "           'dayofweek_2', 'dayofweek_3', 'dayofweek_4', 'dayofweek_5',\n",
    "           'dayofweek_6', 'month_1', 'month_2', 'month_3', 'month_4', 'month_5',\n",
    "           'month_6', 'month_7', 'month_8', 'month_9', 'month_10', 'month_11',\n",
    "           'month_12'])\n",
    "    meanFileName = r'C:\\Users\\Shrweta\\Documents\\GitHub\\bounce_demand\\DemandPredictionApi\\data_mean_std.csv'\n",
    "    dfMeans=pd.read_csv(meanFileName, header=0)\n",
    "    mean_temp=dfMeans['mean_temp'][0]\n",
    "    mean_atemp=dfMeans['mean_atemp'][0]\n",
    "    mean_humidity=dfMeans['mean_humidity'][0]\n",
    "    mean_windspeed=dfMeans['mean_windspeed'][0]\n",
    "    sd_temp=dfMeans['sd_temp'][0]\n",
    "    sd_humidity=dfMeans['sd_humidity'][0]\n",
    "    sd_windspeed=dfMeans['sd_windspeed'][0]\n",
    "    sd_atemp=dfMeans['sd_atemp'][0]\n",
    "\n",
    "    df['holiday'][0] = holiday\n",
    "    df['workingday'][0] = workingday\n",
    "    df['temp'][0]=(temp-mean_temp)/sd_temp\n",
    "    df['atemp'][0]=(atemp-mean_atemp)/sd_atemp\n",
    "    df['humidity'][0]=(humidity-mean_humidity)/sd_humidity\n",
    "    df['windspeed'][0]=(windspeed-mean_windspeed)/sd_windspeed          \n",
    "    df[\"season_\" + str(season)][0]=1\n",
    "    df[\"weather_\" + str(weather)][0]=1\n",
    "    df[\"hour_\" + str(hour)][0]=1\n",
    "    df[\"dayofweek_\" + str(dayofweek)][0]=1\n",
    "    df[\"month_\" + str(dayofweek)][0]=1\n",
    "\n",
    "    df=df.values.tolist()\n",
    "\n",
    "    return df"
   ]
  },
  {
   "cell_type": "code",
   "execution_count": 25,
   "metadata": {},
   "outputs": [],
   "source": [
    "from flask import Flask, render_template,url_for,request,jsonify\n",
    "import pandas as pd\n",
    "import numpy as np\n",
    "import pickle\n",
    "from sklearn.externals import joblib"
   ]
  },
  {
   "cell_type": "code",
   "execution_count": 26,
   "metadata": {},
   "outputs": [
    {
     "name": "stdout",
     "output_type": "stream",
     "text": [
      " * Serving Flask app \"__main__\" (lazy loading)\n",
      " * Environment: production\n",
      "   WARNING: Do not use the development server in a production environment.\n",
      "   Use a production WSGI server instead.\n",
      " * Debug mode: on\n"
     ]
    },
    {
     "name": "stderr",
     "output_type": "stream",
     "text": [
      " * Restarting with stat\n"
     ]
    },
    {
     "ename": "SystemExit",
     "evalue": "1",
     "output_type": "error",
     "traceback": [
      "An exception has occurred, use %tb to see the full traceback.\n",
      "\u001b[1;31mSystemExit\u001b[0m\u001b[1;31m:\u001b[0m 1\n"
     ]
    },
    {
     "name": "stderr",
     "output_type": "stream",
     "text": [
      "C:\\Users\\Shrweta\\Anaconda3\\lib\\site-packages\\IPython\\core\\interactiveshell.py:3304: UserWarning: To exit: use 'exit', 'quit', or Ctrl-D.\n",
      "  warn(\"To exit: use 'exit', 'quit', or Ctrl-D.\", stacklevel=1)\n"
     ]
    }
   ],
   "source": [
    "  app = Flask(__name__)\n",
    "#Machine Learning code goes here\n",
    "if __name__ == '__main__':\n",
    "    app.run(debug=True)\n",
    "    #app.run(host='0.0.0.1', port=5005)"
   ]
  },
  {
   "cell_type": "code",
   "execution_count": 28,
   "metadata": {},
   "outputs": [],
   "source": [
    "#def predict():\n",
    "    #list=list_of_features()\n",
    "    NN_model=joblib.load('NN_model.pkl')\n",
    "    if request.method == 'POST':\n",
    "        holiday=request.form['holiday']\n",
    "        workingday=request.form['workingDay']\n",
    "        temp=request.form['temp']\n",
    "        atemp=request.form['atemp']\n",
    "        humidity=request.form['humidity']\n",
    "        windspeed=request.form['windspeed']\n",
    "        year=request.form['year']\n",
    "        day=request.form['day']\n",
    "        season=request.form['season']\n",
    "        weather=request.form['weather']\n",
    "        hour=request.form['hour']\n",
    "        dayofweek=request.form['dayofweek']\n",
    "        month=request.form['month']\n",
    "        data=(np.zeros((59,), dtype=int))\n",
    "    \n",
    "    df=pd.DataFrame([data],columns=['holiday', 'workingday', 'temp', 'atemp', 'humidity', 'windspeed',\n",
    "           'year', 'day', 'season_1', 'season_2', 'season_3', 'season_4',\n",
    "           'weather_1', 'weather_2', 'weather_3', 'weather_4', 'hour_0', 'hour_1',\n",
    "           'hour_2', 'hour_3', 'hour_4', 'hour_5', 'hour_6', 'hour_7', 'hour_8',\n",
    "           'hour_9', 'hour_10', 'hour_11', 'hour_12', 'hour_13', 'hour_14',\n",
    "           'hour_15', 'hour_16', 'hour_17', 'hour_18', 'hour_19', 'hour_20',\n",
    "           'hour_21', 'hour_22', 'hour_23', 'dayofweek_0', 'dayofweek_1',\n",
    "           'dayofweek_2', 'dayofweek_3', 'dayofweek_4', 'dayofweek_5',\n",
    "           'dayofweek_6', 'month_1', 'month_2', 'month_3', 'month_4', 'month_5',\n",
    "           'month_6', 'month_7', 'month_8', 'month_9', 'month_10', 'month_11',\n",
    "           'month_12'])\n",
    "    meanFileName = r'C:\\Users\\Shrweta\\Documents\\GitHub\\bounce_demand\\DemandPredictionApi\\data_mean_std.csv'\n",
    "    dfMeans=pd.read_csv(meanFileName, header=0)\n",
    "    mean_temp=dfMeans['mean_temp'][0]\n",
    "    mean_atemp=dfMeans['mean_atemp'][0]\n",
    "    mean_humidity=dfMeans['mean_humidity'][0]\n",
    "    mean_windspeed=dfMeans['mean_windspeed'][0]\n",
    "    sd_temp=dfMeans['sd_temp'][0]\n",
    "    sd_humidity=dfMeans['sd_humidity'][0]\n",
    "    sd_windspeed=dfMeans['sd_windspeed'][0]\n",
    "    sd_atemp=dfMeans['sd_atemp'][0]\n",
    "\n",
    "    df['holiday'][0] = holiday\n",
    "    df['workingday'][0] = workingday\n",
    "    df['temp'][0]=(temp-mean_temp)/sd_temp\n",
    "    df['atemp'][0]=(atemp-mean_atemp)/sd_atemp\n",
    "    df['humidity'][0]=(humidity-mean_humidity)/sd_humidity\n",
    "    df['windspeed'][0]=(windspeed-mean_windspeed)/sd_windspeed          \n",
    "    df[\"season_\" + str(season)][0]=1\n",
    "    df[\"weather_\" + str(weather)][0]=1\n",
    "    df[\"hour_\" + str(hour)][0]=1\n",
    "    df[\"dayofweek_\" + str(dayofweek)][0]=1\n",
    "    df[\"month_\" + str(dayofweek)][0]=1\n",
    "\n",
    "    df=df.values.tolist()\n",
    "\n",
    " \n",
    "    predict_rest=df\n",
    "\n",
    "\n",
    "    predict_rest=np.array(predict_rest)\n",
    "    predict_rest=predict_rest.reshape((1, -1))\n",
    "    prediction=NN_model.predict(predict_rest)\n",
    "    return render_template('result.html', prediction = prediction)"
   ]
  },
  {
   "cell_type": "code",
   "execution_count": 29,
   "metadata": {},
   "outputs": [
    {
     "ename": "NameError",
     "evalue": "name 'mean_temp' is not defined",
     "output_type": "error",
     "traceback": [
      "\u001b[1;31m---------------------------------------------------------------------------\u001b[0m",
      "\u001b[1;31mNameError\u001b[0m                                 Traceback (most recent call last)",
      "\u001b[1;32m<ipython-input-29-b57b9363052c>\u001b[0m in \u001b[0;36m<module>\u001b[1;34m\u001b[0m\n\u001b[1;32m----> 1\u001b[1;33m \u001b[0mmean_temp\u001b[0m\u001b[1;33m\u001b[0m\u001b[1;33m\u001b[0m\u001b[0m\n\u001b[0m",
      "\u001b[1;31mNameError\u001b[0m: name 'mean_temp' is not defined"
     ]
    }
   ],
   "source": [
    "mean_temp"
   ]
  },
  {
   "cell_type": "code",
   "execution_count": null,
   "metadata": {},
   "outputs": [],
   "source": []
  }
 ],
 "metadata": {
  "kernelspec": {
   "display_name": "Python 3",
   "language": "python",
   "name": "python3"
  },
  "language_info": {
   "codemirror_mode": {
    "name": "ipython",
    "version": 3
   },
   "file_extension": ".py",
   "mimetype": "text/x-python",
   "name": "python",
   "nbconvert_exporter": "python",
   "pygments_lexer": "ipython3",
   "version": "3.7.3"
  }
 },
 "nbformat": 4,
 "nbformat_minor": 2
}
