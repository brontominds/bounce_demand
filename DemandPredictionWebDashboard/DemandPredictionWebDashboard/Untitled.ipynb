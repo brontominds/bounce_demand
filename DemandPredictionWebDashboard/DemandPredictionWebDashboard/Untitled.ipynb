{
 "cells": [
  {
   "cell_type": "code",
   "execution_count": 181,
   "metadata": {},
   "outputs": [],
   "source": [
    "import pandas as pd"
   ]
  },
  {
   "cell_type": "code",
   "execution_count": 189,
   "metadata": {},
   "outputs": [],
   "source": [
    "df=pd.read_csv(r\"output.csv\")"
   ]
  },
  {
   "cell_type": "code",
   "execution_count": 190,
   "metadata": {
    "scrolled": true
   },
   "outputs": [
    {
     "data": {
      "text/plain": [
       "Index(['Unnamed: 0', 'app_temp', 'clouds', 'clouds_hi', 'clouds_low',\n",
       "       'clouds_mid', 'datetime', 'dewpt', 'dhi', 'dni', 'ghi', 'ozone', 'pod',\n",
       "       'pop', 'precip', 'pres', 'rh', 'slp', 'snow', 'snow_depth', 'solar_rad',\n",
       "       'temp', 'timestamp_local', 'timestamp_utc', 'ts', 'uv', 'vis',\n",
       "       'weather.code', 'weather.description', 'weather.icon', 'wind_cdir',\n",
       "       'wind_cdir_full', 'wind_dir', 'wind_gust_spd', 'wind_spd', 'city',\n",
       "       'lon', 'lat', 'place', 'weather_code', 'season', 'season_code',\n",
       "       'dayofweek', 'workingday', 'holiday', 'year', 'month', 'day', 'hour'],\n",
       "      dtype='object')"
      ]
     },
     "execution_count": 190,
     "metadata": {},
     "output_type": "execute_result"
    }
   ],
   "source": [
    "df.columns"
   ]
  },
  {
   "cell_type": "code",
   "execution_count": 191,
   "metadata": {},
   "outputs": [],
   "source": [
    "from datetime import datetime"
   ]
  },
  {
   "cell_type": "code",
   "execution_count": 192,
   "metadata": {},
   "outputs": [],
   "source": [
    "df['datetime'] = pd.to_datetime(df['datetime'])\n",
    "df['date'] = df['datetime'].dt.date"
   ]
  },
  {
   "cell_type": "code",
   "execution_count": 193,
   "metadata": {
    "scrolled": true
   },
   "outputs": [
    {
     "data": {
      "text/plain": [
       "Index(['Unnamed: 0', 'app_temp', 'clouds', 'clouds_hi', 'clouds_low',\n",
       "       'clouds_mid', 'datetime', 'dewpt', 'dhi', 'dni', 'ghi', 'ozone', 'pod',\n",
       "       'pop', 'precip', 'pres', 'rh', 'slp', 'snow', 'snow_depth', 'solar_rad',\n",
       "       'temp', 'timestamp_local', 'timestamp_utc', 'ts', 'uv', 'vis',\n",
       "       'weather.code', 'weather.description', 'weather.icon', 'wind_cdir',\n",
       "       'wind_cdir_full', 'wind_dir', 'wind_gust_spd', 'wind_spd', 'city',\n",
       "       'lon', 'lat', 'place', 'weather_code', 'season', 'season_code',\n",
       "       'dayofweek', 'workingday', 'holiday', 'year', 'month', 'day', 'hour',\n",
       "       'date'],\n",
       "      dtype='object')"
      ]
     },
     "execution_count": 193,
     "metadata": {},
     "output_type": "execute_result"
    }
   ],
   "source": [
    "df.columns"
   ]
  },
  {
   "cell_type": "code",
   "execution_count": 194,
   "metadata": {},
   "outputs": [],
   "source": [
    "def filtering_the_data(df,location,date,hour):\n",
    "    \n",
    "    if df['place'].str.contains(location).any():\n",
    "        df=df[df['datetime'].dt.date.astype(str) == date]\n",
    "        df=df[df['hour']==(hour)]\n",
    "        return df\n",
    "    else:\n",
    "        print('Location not present')"
   ]
  },
  {
   "cell_type": "code",
   "execution_count": 195,
   "metadata": {},
   "outputs": [
    {
     "data": {
      "text/html": [
       "<div>\n",
       "<style scoped>\n",
       "    .dataframe tbody tr th:only-of-type {\n",
       "        vertical-align: middle;\n",
       "    }\n",
       "\n",
       "    .dataframe tbody tr th {\n",
       "        vertical-align: top;\n",
       "    }\n",
       "\n",
       "    .dataframe thead th {\n",
       "        text-align: right;\n",
       "    }\n",
       "</style>\n",
       "<table border=\"1\" class=\"dataframe\">\n",
       "  <thead>\n",
       "    <tr style=\"text-align: right;\">\n",
       "      <th></th>\n",
       "      <th>Unnamed: 0</th>\n",
       "      <th>app_temp</th>\n",
       "      <th>clouds</th>\n",
       "      <th>clouds_hi</th>\n",
       "      <th>clouds_low</th>\n",
       "      <th>clouds_mid</th>\n",
       "      <th>datetime</th>\n",
       "      <th>dewpt</th>\n",
       "      <th>dhi</th>\n",
       "      <th>dni</th>\n",
       "      <th>...</th>\n",
       "      <th>season</th>\n",
       "      <th>season_code</th>\n",
       "      <th>dayofweek</th>\n",
       "      <th>workingday</th>\n",
       "      <th>holiday</th>\n",
       "      <th>year</th>\n",
       "      <th>month</th>\n",
       "      <th>day</th>\n",
       "      <th>hour</th>\n",
       "      <th>date</th>\n",
       "    </tr>\n",
       "  </thead>\n",
       "  <tbody>\n",
       "    <tr>\n",
       "      <th>20</th>\n",
       "      <td>20</td>\n",
       "      <td>26.0</td>\n",
       "      <td>72</td>\n",
       "      <td>22</td>\n",
       "      <td>10</td>\n",
       "      <td>66</td>\n",
       "      <td>2019-07-20 05:00:00</td>\n",
       "      <td>18.9</td>\n",
       "      <td>116.06</td>\n",
       "      <td>910.36</td>\n",
       "      <td>...</td>\n",
       "      <td>Monsoon</td>\n",
       "      <td>3</td>\n",
       "      <td>5</td>\n",
       "      <td>1</td>\n",
       "      <td>0</td>\n",
       "      <td>2019</td>\n",
       "      <td>7</td>\n",
       "      <td>10</td>\n",
       "      <td>10</td>\n",
       "      <td>2019-07-20</td>\n",
       "    </tr>\n",
       "  </tbody>\n",
       "</table>\n",
       "<p>1 rows × 50 columns</p>\n",
       "</div>"
      ],
      "text/plain": [
       "    Unnamed: 0  app_temp  clouds  clouds_hi  clouds_low  clouds_mid  \\\n",
       "20          20      26.0      72         22          10          66   \n",
       "\n",
       "              datetime  dewpt     dhi     dni  ...   season  season_code  \\\n",
       "20 2019-07-20 05:00:00   18.9  116.06  910.36  ...  Monsoon            3   \n",
       "\n",
       "   dayofweek  workingday  holiday  year  month  day  hour        date  \n",
       "20         5           1        0  2019      7   10    10  2019-07-20  \n",
       "\n",
       "[1 rows x 50 columns]"
      ]
     },
     "execution_count": 195,
     "metadata": {},
     "output_type": "execute_result"
    }
   ],
   "source": [
    "filtering_the_data(df,'Bellandur','2019-07-20',10)"
   ]
  },
  {
   "cell_type": "code",
   "execution_count": 4,
   "metadata": {},
   "outputs": [],
   "source": [
    "def length_of_dataframe(df):\n",
    "    if len(df)==0:\n",
    "        return render_template(\n",
    "        'contact.html')\n",
    "    elif len(df)>1:\n",
    "        return render_template(\n",
    "        'contact.html')\n",
    "    else:\n",
    "        return df"
   ]
  },
  {
   "cell_type": "code",
   "execution_count": null,
   "metadata": {},
   "outputs": [],
   "source": []
  }
 ],
 "metadata": {
  "kernelspec": {
   "display_name": "Python 3",
   "language": "python",
   "name": "python3"
  },
  "language_info": {
   "codemirror_mode": {
    "name": "ipython",
    "version": 3
   },
   "file_extension": ".py",
   "mimetype": "text/x-python",
   "name": "python",
   "nbconvert_exporter": "python",
   "pygments_lexer": "ipython3",
   "version": "3.7.3"
  }
 },
 "nbformat": 4,
 "nbformat_minor": 2
}
