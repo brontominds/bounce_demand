{
 "cells": [
  {
   "cell_type": "code",
   "execution_count": 1,
   "metadata": {},
   "outputs": [],
   "source": [
    "import pandas as pd"
   ]
  },
  {
   "cell_type": "code",
   "execution_count": 2,
   "metadata": {},
   "outputs": [],
   "source": [
    "df=pd.read_csv(r\"output.csv\")"
   ]
  },
  {
   "cell_type": "code",
   "execution_count": 10,
   "metadata": {
    "scrolled": true
   },
   "outputs": [
    {
     "data": {
      "text/plain": [
       "Index(['Unnamed: 0', 'app_temp', 'clouds', 'clouds_hi', 'clouds_low',\n",
       "       'clouds_mid', 'datetime', 'dewpt', 'dhi', 'dni', 'ghi', 'ozone', 'pod',\n",
       "       'pop', 'precip', 'pres', 'rh', 'slp', 'snow', 'snow_depth', 'solar_rad',\n",
       "       'temp', 'timestamp_local', 'timestamp_utc', 'ts', 'uv', 'vis',\n",
       "       'weather.code', 'weather.description', 'weather.icon', 'wind_cdir',\n",
       "       'wind_cdir_full', 'wind_dir', 'wind_gust_spd', 'wind_spd', 'city',\n",
       "       'lon', 'lat', 'place', 'weather_code', 'season', 'season_code',\n",
       "       'dayofweek', 'workingday', 'holiday', 'year', 'month', 'day', 'hour'],\n",
       "      dtype='object')"
      ]
     },
     "execution_count": 10,
     "metadata": {},
     "output_type": "execute_result"
    }
   ],
   "source": [
    "df.columns"
   ]
  },
  {
   "cell_type": "code",
   "execution_count": 11,
   "metadata": {},
   "outputs": [],
   "source": [
    "hour=10"
   ]
  },
  {
   "cell_type": "code",
   "execution_count": 13,
   "metadata": {},
   "outputs": [],
   "source": [
    "hour=df['hour'].isin([hour])"
   ]
  },
  {
   "cell_type": "code",
   "execution_count": 18,
   "metadata": {},
   "outputs": [
    {
     "data": {
      "text/plain": [
       "5"
      ]
     },
     "execution_count": 18,
     "metadata": {},
     "output_type": "execute_result"
    }
   ],
   "source": [
    "hour[hour==True].count()"
   ]
  },
  {
   "cell_type": "code",
   "execution_count": 20,
   "metadata": {
    "scrolled": true
   },
   "outputs": [
    {
     "data": {
      "text/html": [
       "<div>\n",
       "<style scoped>\n",
       "    .dataframe tbody tr th:only-of-type {\n",
       "        vertical-align: middle;\n",
       "    }\n",
       "\n",
       "    .dataframe tbody tr th {\n",
       "        vertical-align: top;\n",
       "    }\n",
       "\n",
       "    .dataframe thead th {\n",
       "        text-align: right;\n",
       "    }\n",
       "</style>\n",
       "<table border=\"1\" class=\"dataframe\">\n",
       "  <thead>\n",
       "    <tr style=\"text-align: right;\">\n",
       "      <th></th>\n",
       "      <th>Unnamed: 0</th>\n",
       "      <th>app_temp</th>\n",
       "      <th>clouds</th>\n",
       "      <th>clouds_hi</th>\n",
       "      <th>clouds_low</th>\n",
       "      <th>clouds_mid</th>\n",
       "      <th>datetime</th>\n",
       "      <th>dewpt</th>\n",
       "      <th>dhi</th>\n",
       "      <th>dni</th>\n",
       "      <th>...</th>\n",
       "      <th>weather_code</th>\n",
       "      <th>season</th>\n",
       "      <th>season_code</th>\n",
       "      <th>dayofweek</th>\n",
       "      <th>workingday</th>\n",
       "      <th>holiday</th>\n",
       "      <th>year</th>\n",
       "      <th>month</th>\n",
       "      <th>day</th>\n",
       "      <th>hour</th>\n",
       "    </tr>\n",
       "  </thead>\n",
       "  <tbody>\n",
       "    <tr>\n",
       "      <th>20</th>\n",
       "      <td>20</td>\n",
       "      <td>26.0</td>\n",
       "      <td>72</td>\n",
       "      <td>22</td>\n",
       "      <td>10</td>\n",
       "      <td>66</td>\n",
       "      <td>2019-07-20 05:00:00</td>\n",
       "      <td>18.9</td>\n",
       "      <td>116.06</td>\n",
       "      <td>910.36</td>\n",
       "      <td>...</td>\n",
       "      <td>1</td>\n",
       "      <td>Monsoon</td>\n",
       "      <td>3</td>\n",
       "      <td>5</td>\n",
       "      <td>1</td>\n",
       "      <td>0</td>\n",
       "      <td>2019</td>\n",
       "      <td>7</td>\n",
       "      <td>10</td>\n",
       "      <td>10</td>\n",
       "    </tr>\n",
       "    <tr>\n",
       "      <th>44</th>\n",
       "      <td>44</td>\n",
       "      <td>25.9</td>\n",
       "      <td>49</td>\n",
       "      <td>12</td>\n",
       "      <td>44</td>\n",
       "      <td>0</td>\n",
       "      <td>2019-07-21 05:00:00</td>\n",
       "      <td>19.7</td>\n",
       "      <td>116.09</td>\n",
       "      <td>910.56</td>\n",
       "      <td>...</td>\n",
       "      <td>1</td>\n",
       "      <td>Monsoon</td>\n",
       "      <td>3</td>\n",
       "      <td>6</td>\n",
       "      <td>1</td>\n",
       "      <td>0</td>\n",
       "      <td>2019</td>\n",
       "      <td>7</td>\n",
       "      <td>10</td>\n",
       "      <td>10</td>\n",
       "    </tr>\n",
       "    <tr>\n",
       "      <th>68</th>\n",
       "      <td>68</td>\n",
       "      <td>26.1</td>\n",
       "      <td>100</td>\n",
       "      <td>100</td>\n",
       "      <td>49</td>\n",
       "      <td>5</td>\n",
       "      <td>2019-07-22 05:00:00</td>\n",
       "      <td>19.8</td>\n",
       "      <td>116.13</td>\n",
       "      <td>910.78</td>\n",
       "      <td>...</td>\n",
       "      <td>1</td>\n",
       "      <td>Monsoon</td>\n",
       "      <td>3</td>\n",
       "      <td>0</td>\n",
       "      <td>0</td>\n",
       "      <td>0</td>\n",
       "      <td>2019</td>\n",
       "      <td>7</td>\n",
       "      <td>10</td>\n",
       "      <td>10</td>\n",
       "    </tr>\n",
       "    <tr>\n",
       "      <th>92</th>\n",
       "      <td>92</td>\n",
       "      <td>23.3</td>\n",
       "      <td>92</td>\n",
       "      <td>76</td>\n",
       "      <td>31</td>\n",
       "      <td>42</td>\n",
       "      <td>2019-07-23 05:00:00</td>\n",
       "      <td>18.5</td>\n",
       "      <td>116.16</td>\n",
       "      <td>911.01</td>\n",
       "      <td>...</td>\n",
       "      <td>1</td>\n",
       "      <td>Monsoon</td>\n",
       "      <td>3</td>\n",
       "      <td>1</td>\n",
       "      <td>0</td>\n",
       "      <td>0</td>\n",
       "      <td>2019</td>\n",
       "      <td>7</td>\n",
       "      <td>10</td>\n",
       "      <td>10</td>\n",
       "    </tr>\n",
       "    <tr>\n",
       "      <th>116</th>\n",
       "      <td>116</td>\n",
       "      <td>23.2</td>\n",
       "      <td>100</td>\n",
       "      <td>42</td>\n",
       "      <td>26</td>\n",
       "      <td>99</td>\n",
       "      <td>2019-07-24 05:00:00</td>\n",
       "      <td>18.9</td>\n",
       "      <td>116.20</td>\n",
       "      <td>911.25</td>\n",
       "      <td>...</td>\n",
       "      <td>1</td>\n",
       "      <td>Monsoon</td>\n",
       "      <td>3</td>\n",
       "      <td>2</td>\n",
       "      <td>0</td>\n",
       "      <td>0</td>\n",
       "      <td>2019</td>\n",
       "      <td>7</td>\n",
       "      <td>10</td>\n",
       "      <td>10</td>\n",
       "    </tr>\n",
       "  </tbody>\n",
       "</table>\n",
       "<p>5 rows × 49 columns</p>\n",
       "</div>"
      ],
      "text/plain": [
       "     Unnamed: 0  app_temp  clouds  clouds_hi  clouds_low  clouds_mid  \\\n",
       "20           20      26.0      72         22          10          66   \n",
       "44           44      25.9      49         12          44           0   \n",
       "68           68      26.1     100        100          49           5   \n",
       "92           92      23.3      92         76          31          42   \n",
       "116         116      23.2     100         42          26          99   \n",
       "\n",
       "                datetime  dewpt     dhi     dni  ...  weather_code   season  \\\n",
       "20   2019-07-20 05:00:00   18.9  116.06  910.36  ...             1  Monsoon   \n",
       "44   2019-07-21 05:00:00   19.7  116.09  910.56  ...             1  Monsoon   \n",
       "68   2019-07-22 05:00:00   19.8  116.13  910.78  ...             1  Monsoon   \n",
       "92   2019-07-23 05:00:00   18.5  116.16  911.01  ...             1  Monsoon   \n",
       "116  2019-07-24 05:00:00   18.9  116.20  911.25  ...             1  Monsoon   \n",
       "\n",
       "    season_code  dayofweek  workingday  holiday  year  month  day  hour  \n",
       "20            3          5           1        0  2019      7   10    10  \n",
       "44            3          6           1        0  2019      7   10    10  \n",
       "68            3          0           0        0  2019      7   10    10  \n",
       "92            3          1           0        0  2019      7   10    10  \n",
       "116           3          2           0        0  2019      7   10    10  \n",
       "\n",
       "[5 rows x 49 columns]"
      ]
     },
     "execution_count": 20,
     "metadata": {},
     "output_type": "execute_result"
    }
   ],
   "source": [
    "df[hour==True]"
   ]
  },
  {
   "cell_type": "code",
   "execution_count": 40,
   "metadata": {},
   "outputs": [],
   "source": [
    "from datetime import datetime"
   ]
  },
  {
   "cell_type": "code",
   "execution_count": 41,
   "metadata": {},
   "outputs": [],
   "source": [
    "df['datetime'] = pd.to_datetime(df['datetime'])\n",
    "df['date'] = df['datetime'].dt.date"
   ]
  },
  {
   "cell_type": "code",
   "execution_count": 42,
   "metadata": {},
   "outputs": [
    {
     "data": {
      "text/plain": [
       "Index(['Unnamed: 0', 'app_temp', 'clouds', 'clouds_hi', 'clouds_low',\n",
       "       'clouds_mid', 'datetime', 'dewpt', 'dhi', 'dni', 'ghi', 'ozone', 'pod',\n",
       "       'pop', 'precip', 'pres', 'rh', 'slp', 'snow', 'snow_depth', 'solar_rad',\n",
       "       'temp', 'timestamp_local', 'timestamp_utc', 'ts', 'uv', 'vis',\n",
       "       'weather.code', 'weather.description', 'weather.icon', 'wind_cdir',\n",
       "       'wind_cdir_full', 'wind_dir', 'wind_gust_spd', 'wind_spd', 'city',\n",
       "       'lon', 'lat', 'place', 'weather_code', 'season', 'season_code',\n",
       "       'dayofweek', 'workingday', 'holiday', 'year', 'month', 'day', 'hour',\n",
       "       'date'],\n",
       "      dtype='object')"
      ]
     },
     "execution_count": 42,
     "metadata": {},
     "output_type": "execute_result"
    }
   ],
   "source": [
    "df.columns"
   ]
  },
  {
   "cell_type": "code",
   "execution_count": 92,
   "metadata": {},
   "outputs": [],
   "source": [
    "date='2019-07-19'"
   ]
  },
  {
   "cell_type": "code",
   "execution_count": 93,
   "metadata": {},
   "outputs": [],
   "source": [
    "date=df['datetime'].dt.date.astype(str) == date"
   ]
  },
  {
   "cell_type": "code",
   "execution_count": 87,
   "metadata": {},
   "outputs": [],
   "source": [
    "date=date.values.tolist()"
   ]
  },
  {
   "cell_type": "code",
   "execution_count": 95,
   "metadata": {},
   "outputs": [
    {
     "data": {
      "text/plain": [
       "False    106\n",
       "True      15\n",
       "Name: datetime, dtype: int64"
      ]
     },
     "execution_count": 95,
     "metadata": {},
     "output_type": "execute_result"
    }
   ],
   "source": [
    "date.value_counts()"
   ]
  },
  {
   "cell_type": "code",
   "execution_count": null,
   "metadata": {},
   "outputs": [],
   "source": []
  }
 ],
 "metadata": {
  "kernelspec": {
   "display_name": "Python 3",
   "language": "python",
   "name": "python3"
  },
  "language_info": {
   "codemirror_mode": {
    "name": "ipython",
    "version": 3
   },
   "file_extension": ".py",
   "mimetype": "text/x-python",
   "name": "python",
   "nbconvert_exporter": "python",
   "pygments_lexer": "ipython3",
   "version": "3.7.3"
  }
 },
 "nbformat": 4,
 "nbformat_minor": 2
}
