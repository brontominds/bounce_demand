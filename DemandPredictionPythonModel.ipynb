{
  "nbformat": 4,
  "nbformat_minor": 0,
  "metadata": {
    "colab": {
      "name": "Untitled5.ipynb",
      "version": "0.3.2",
      "provenance": [],
      "include_colab_link": true
    },
    "kernelspec": {
      "name": "python3",
      "display_name": "Python 3"
    }
  },
  "cells": [
    {
      "cell_type": "markdown",
      "metadata": {
        "id": "view-in-github",
        "colab_type": "text"
      },
      "source": [
        "<a href=\"https://colab.research.google.com/github/brontominds/bounce_demand/blob/v0.01/DemandPredictionPythonModel.ipynb\" target=\"_parent\"><img src=\"https://colab.research.google.com/assets/colab-badge.svg\" alt=\"Open In Colab\"/></a>"
      ]
    },
    {
      "cell_type": "code",
      "metadata": {
        "id": "-utKQafzbKAm",
        "colab_type": "code",
        "colab": {}
      },
      "source": [
        "import pandas as pd\n",
        "from sklearn.utils import shuffle\n",
        "import matplotlib.pyplot as plt  # For plotting graphs \n",
        "from datetime import datetime    # To access datetime \n",
        "\n",
        "#Add date time specific columns to the dataframe\n",
        "def datetime(df):\n",
        "  from datetime import datetime\n",
        "  df['datetime'] = pd.to_datetime(df['datetime'])\n",
        "  df['year'] = df['datetime'].dt.year\n",
        "  df['month']=df['datetime'].dt.month\n",
        "  df['day'] = df['datetime'].dt.day \n",
        "  df['hour'] = df['datetime'].dt.hour\n",
        "  df['dayofweek'] = df['datetime'].dt.dayofweek\n",
        "  return df\n",
        "\n",
        "#Normalize a column of dataframe and return mean and sd\n",
        "def normalize(df,feature_name):\n",
        "  mean_value = df[feature_name].mean()\n",
        "  std_value = df[feature_name].std()\n",
        "  df[feature_name] = (df[feature_name] - mean_value) / std_value        \n",
        "  return (df, mean_value, std_value)\n",
        "\n",
        "\n",
        "#Read Training Data\n",
        "data=pd.read_csv(\"train.csv\")\n",
        "data_original=data\n",
        "\n",
        "data=datetime(data)\n",
        "data=data.drop('datetime',axis=1)\n",
        "\n",
        "data, mean_temp, sd_temp=normalize(data,[\"temp\"])\n",
        "data,mean_atemp,sd_atemp=normalize(data,[\"atemp\"])\n",
        "data,mean_humidity,sd_humidity=normalize(data,[\"humidity\"])\n",
        "data,mean_windspeed,sd_windspeed=normalize(data,[\"windspeed\"])\n",
        "\n"
      ],
      "execution_count": 0,
      "outputs": []
    },
    {
      "cell_type": "code",
      "metadata": {
        "id": "s5Zl-EG3cBUI",
        "colab_type": "code",
        "colab": {}
      },
      "source": [
        ""
      ],
      "execution_count": 0,
      "outputs": []
    },
    {
      "cell_type": "code",
      "metadata": {
        "id": "w-xtDn0VbkRV",
        "colab_type": "code",
        "colab": {
          "base_uri": "https://localhost:8080/",
          "height": 326
        },
        "outputId": "94e05363-7789-4174-d5ac-9ced2e482409"
      },
      "source": [
        "\n",
        "#For debugging only\n",
        "print(mean_temp, sd_temp, mean_atemp, sd_atemp, mean_humidity, sd_humidity, mean_windspeed, sd_windspeed)\n",
        "print(data.head())\n",
        "#"
      ],
      "execution_count": 10,
      "outputs": [
        {
          "output_type": "stream",
          "text": [
            "temp    20.23086\n",
            "dtype: float64 temp    7.79159\n",
            "dtype: float64 atemp    23.655084\n",
            "dtype: float64 atemp    8.474601\n",
            "dtype: float64 humidity    61.88646\n",
            "dtype: float64 humidity    19.245033\n",
            "dtype: float64 windspeed    12.799395\n",
            "dtype: float64 windspeed    8.164537\n",
            "dtype: float64\n",
            "   season  holiday  workingday  weather  ...  month  day  hour  dayofweek\n",
            "0       1        0           0        1  ...      1    1     0          5\n",
            "1       1        0           0        1  ...      1    1     1          5\n",
            "2       1        0           0        1  ...      1    1     2          5\n",
            "3       1        0           0        1  ...      1    1     3          5\n",
            "4       1        0           0        1  ...      1    1     4          5\n",
            "\n",
            "[5 rows x 16 columns]\n"
          ],
          "name": "stdout"
        }
      ]
    }
  ]
}