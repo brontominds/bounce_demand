{
  "nbformat": 4,
  "nbformat_minor": 0,
  "metadata": {
    "colab": {
      "name": "DemandPredictionPythonModel.ipynb",
      "version": "0.3.2",
      "provenance": [],
      "collapsed_sections": [],
      "include_colab_link": true
    },
    "kernelspec": {
      "name": "python3",
      "display_name": "Python 3"
    }
  },
  "cells": [
    {
      "cell_type": "markdown",
      "metadata": {
        "id": "view-in-github",
        "colab_type": "text"
      },
      "source": [
<<<<<<< HEAD
        "<a href=\"https://colab.research.google.com/github/brontominds/bounce_demand/blob/master/DemandPredictionPythonModel.ipynb\" target=\"_parent\"><img src=\"https://colab.research.google.com/assets/colab-badge.svg\" alt=\"Open In Colab\"/></a>"
=======
        "<a href=\"https://colab.research.google.com/github/brontominds/bounce_demand/blob/v0.01/DemandPredictionPythonModel.ipynb\" target=\"_parent\"><img src=\"https://colab.research.google.com/assets/colab-badge.svg\" alt=\"Open In Colab\"/></a>"
>>>>>>> v0.01
      ]
    },
    {
      "cell_type": "code",
      "metadata": {
        "id": "-utKQafzbKAm",
        "colab_type": "code",
        "colab": {}
      },
      "source": [
        "import pandas as pd\n",
        "import seaborn as sns\n",
        "from sklearn.utils import shuffle\n",
        "import matplotlib.pyplot as plt  # For plotting graphs \n",
        "from datetime import datetime    # To access datetime \n",
        "import numpy as np\n",
        "\n",
        "from keras.models import Sequential\n",
        "from keras.layers import Dense, Activation\n",
        "from keras.callbacks import ModelCheckpoint,EarlyStopping\n",
        "from keras.optimizers import Adam,SGD,RMSprop,Adagrad\n",
        "\n",
        "\n",
        "\n",
        "#Add date time specific columns to the dataframe\n",
        "def datetime(df):\n",
        "  from datetime import datetime\n",
        "  df['datetime'] = pd.to_datetime(df['datetime'])\n",
        "  df['year'] = df['datetime'].dt.year\n",
        "  df['month']=df['datetime'].dt.month\n",
        "  df['day'] = df['datetime'].dt.day \n",
        "  df['hour'] = df['datetime'].dt.hour\n",
        "  df['dayofweek'] = df['datetime'].dt.dayofweek\n",
        "  return df\n",
        "\n",
        "#Normalize a column of dataframe and return mean and sd\n",
        "def normalize(df,feature_name):\n",
        "  mean_value = df[feature_name].mean()\n",
        "  std_value = df[feature_name].std()\n",
        "  df[feature_name] = (df[feature_name] - mean_value) / std_value        \n",
        "  return (df, mean_value, std_value)\n",
        "\n",
        "\n",
        "#One hot encode data\n",
        "def dummy_data(data, columns):\n",
        "    for column in columns:\n",
        "        data = pd.concat([data, pd.get_dummies(data[column], prefix=column)], axis=1)\n",
        "        data = data.drop(column, axis=1)\n",
        "    return data\n",
        "\n",
        "#Drop Redundant Columns\n",
        "def drop_redundantcolumns(data):\n",
        "  return (data.drop([\"casual\",\"registered\"], axis=1))  \n",
        "\n",
        "#Create target variable and convert features dataframe to a numpy array\n",
        "def create_targetvariable(data, fraction=0.2):\n",
        "    data_y = data[\"count\"]\n",
        "    data_x = data.drop([\"count\"], axis=1)\n",
        "    return data_x.values, data_y\n",
        "\n",
        "\n"
      ],
      "execution_count": 0,
      "outputs": []
    },
    {
      "cell_type": "code",
      "metadata": {
        "id": "j0YEUZ1IUKSe",
        "colab_type": "code",
        "colab": {}
      },
      "source": [
        "#PLotting functions\n",
        "%matplotlib inline\n",
        "def plotOutliers(df):\n",
        "  plt.figure(1)\n",
        "  plt.subplot(121)\n",
        "  sns.distplot(df); \n",
        "  plt.subplot(122)\n",
        "  df.plot.box(figsize=(16,5)) \n",
        "  plt.show()\n",
        "  \n",
        "def plotScatter(df1, dfTarget):\n",
        "  plt.scatter(df1,dfTarget,alpha=0.1,cmap='viridis')\n",
        "  \n",
        "def plotCorrelationHeatmap(df):\n",
        "  matrix = df.corr()\n",
        "  f, ax = plt.subplots(figsize=(30, 10))\n",
        "  sns.heatmap(matrix, vmax=.8, square=True, cmap=\"Greens\")\n",
        "  \n",
        "def plotCorrelationHeatMap1d(df):\n",
        "  corrMat = df.corr()\n",
        "  mask = np.array(corrMat)\n",
        "  mask[np.tril_indices_from(mask)] = False\n",
        "  fig, ax= plt.subplots(figsize=(60, 20))\n",
        "  sns.heatmap(corrMat, mask=mask,vmax=1., square=True,annot=True)"
      ],
      "execution_count": 0,
      "outputs": []
    },
    {
      "cell_type": "code",
      "metadata": {
        "id": "s5Zl-EG3cBUI",
        "colab_type": "code",
        "colab": {}
      },
      "source": [
        "#Read Training Data\n",
        "data=pd.read_csv(\"train.csv\")\n",
        "data_original=data\n",
        "\n",
        "#Add new features of date time\n",
        "data=datetime(data)\n",
        "data=data.drop('datetime',axis=1)\n",
        "\n"
      ],
      "execution_count": 0,
      "outputs": []
    },
    {
      "cell_type": "code",
      "metadata": {
        "id": "hv_OBBjFVEE8",
        "colab_type": "code",
<<<<<<< HEAD
        "outputId": "b9850cac-a631-4d4e-c6ad-08e646a52406",
        "colab": {
          "base_uri": "https://localhost:8080/",
          "height": 1000
        }
=======
        "colab": {
          "base_uri": "https://localhost:8080/",
          "height": 1000
        },
        "outputId": "b9850cac-a631-4d4e-c6ad-08e646a52406"
>>>>>>> v0.01
      },
      "source": [
        "#Plot graphs if required\n",
        "#plotOutliers(data['atemp'])\n",
        "#plotScatter(data['humidity'], data['count'])\n",
        "#plotCorrelationHeatmap(data)\n",
        "#plotCorrelationHeatMap1d(data)"
      ],
<<<<<<< HEAD
      "execution_count": 0,
=======
      "execution_count": 32,
>>>>>>> v0.01
      "outputs": [
        {
          "output_type": "display_data",
          "data": {
            "image/png": "iVBORw0KGgoAAAANSUhEUgAABVsAAARiCAYAAAC6WyetAAAABHNCSVQICAgIfAhkiAAAAAlwSFlz\nAAALEgAACxIB0t1+/AAAADl0RVh0U29mdHdhcmUAbWF0cGxvdGxpYiB2ZXJzaW9uIDMuMC4zLCBo\ndHRwOi8vbWF0cGxvdGxpYi5vcmcvnQurowAAIABJREFUeJzs3Xm4lWW9N/DvDYKAgoCIoDgAab2a\nA06pWQ5lWuZQ9lZaluVJy6xOerRBO02mNvl20lNmo5UNNhxPmpblmKYpOGupiTMgIqCMMuz7/YMt\ngSmsZK29WZvP57rWxX6eda/9fJ/d5o++3vyeUmsNAAAAAACrpld3BwAAAAAA6AmUrQAAAAAATaBs\nBQAAAABoAmUrAAAAAEATKFsBAAAAAJpA2QoAAAAA0ATKVgAAAACAJlC2AgAAAAA0gbIVAAAAAKAJ\nlK0AAAAAAE2wVqsvsHDaxNrqa7SbPsPGdHcEAAAAoHlKdweAF9JTu7k+w8asln/v7GwFAAAAAGgC\nZSsAAAAAQBMoWwEAAAAAmqDlM1sBAAAAgG7Ssbi7E6xR7GwFAAAAAGgCZSsAAAAAQBMoWwEAAAAA\nmkDZCgAAAADQBB6QBQAAAAA9Ve3o7gRrFDtbAQAAAACaQNkKAAAAANAEylYAAAAAgCYwsxUAAAAA\neqoOM1u7kp2tAAAAAABNoGwFAAAAAGgCZSsAAAAAQBOY2QoAAAAAPVStZrZ2JTtbAQAAAACaQNkK\nAAAAANAEylYAAAAAgCYwsxUAAAAAeqoOM1u7kp2tAAAAAABNoGwFAAAAAGgCZSsAAAAAQBMoWwEA\nAAAAmsADsgAAAACgp6oekNWV7GwFAAAAAGgCZSsAAAAAQBP0+LL1lNPOzKsPeHsOeef7uzsKAAAA\nANCD9fiy9ZA37Jtzzjy1u2MAAAAAQNfrWNwzX6upHl+27rT9Nllv0MDujgEAAAAA9HBrNbqwlLJx\nks2W/Uyt9ZpWhAIAAAAAaDcNla2llC8meVuSu5M8u0+3JlG2AgAAAACk8Z2thyR5aa31mUYWl1KO\nTnJ0knzjq6fm39512IuMBwAAAAC8aLWjuxOsURotWycm6ZOkobK11npuknOTZOG0ifXFRQMAAAAA\naB+Nlq1zk9xaSrk8yxSutdYPtyRVE5346TNy0y23Z+bMp/OaQ96ZY486IoceuF93xwIAAAAAephS\n68o3npZS3v1852ut563ss3a2/rM+w8Z0dwQAAACgeUp3B4AXsuDB8T2ym+u7+U6r5d+7hna21lrP\nK6X0TbJl56l7aq0LWxcLAAAAAFhlHWa2dqWGytZSyl5JzkvyYJb815pNSinvrrVe07poAAAAAADt\no9GZrV9N8rpa6z1JUkrZMslPk+zYqmAAAAAAAO2kV4Pr+jxbtCZJrfXeJH1aEwkAAAAAoP00urN1\nfCnlO0l+3Hn8ziTjWxMJAAAAAKD9NFq2fiDJB5N8uPP4T0m+0ZJEAAAAAEBT1OoBWV2pobK11vpM\nkjOTnFlKGZpkVOc5AAAAAADS4MzWUspVpZRBnUXrhCTfLqX8v9ZGAwAAAABoH40+IGu9WuvTSd6c\n5Ie11lckeU3rYgEAAAAAtJdGZ7auVUoZmeStSU5uYR4AAAAAoFk6zGztSo3ubP1ckt8n+Xut9aZS\nypgk97UuFgAAAABAe2n0AVm/SPKLZY4nJjm0VaEAAAAAANpNQ2VrKaVfkqOSbJ2k37Pna63vbVEu\nAAAAAIC20ugYgR8lGZFkvyRXJxmVZFarQgEAAAAATVA7euZrNdVo2fqSWuunksyptZ6X5IAkr2hd\nLAAAAACA9tJo2bqw88+ZpZSXJ1kvyfDWRAIAAAAAaD8NzWxNcm4pZUiSTyX5TZJ1k/xny1IBAAAA\nALSZhsrWWut3Or+8OsmY1sUBAAAAAJqmY3F3J1ijNDRGoJSyYSnlu6WUSzuPtyqlHNXaaAAAAAAA\n7aPRma0/SPL7JBt1Ht+b5N9bEQgAAAAAoB01WrYOq7VekKQjSWqti5LYgwwAAAAA0KnRsnVOKWX9\nJDVJSim7JnmqZakAAAAAAFZBKWX/Uso9pZS/l1I+/jzvb1ZKubyUcnsp5apSyqhVvWZDD8hKcnyS\n3yQZW0q5LskGSd6yqhcHAAAAAFqodnR3gm5RSumd5L+T7Jvk0SQ3lVJ+U2u9e5llX0nyw1rreaWU\nfZKcnuSIVbluoztbxyZ5fZLds2R2631pvKgFAAAAAOhKuyT5e611Yq11QZKfJTn4OWu2SnJF59dX\nPs/7/7JGy9ZP1VqfTjIkyd5JvpHkm6t6cQAAAACAFtg4ySPLHD/aeW5ZtyV5c+fXb0oysHOU6ovW\naNn67MOwDkjy7Vrrb5P0XZULAwAAAAC8GKWUo0sp45d5Hf0ivs1/JNmzlHJLkj2TPJZ/9KAvSqOj\nAB4rpXwrS2YcfLGUsnYaL2oBAAAAgO7Q0TNnttZaz01y7gqWPJZkk2WOR3WeW/Z7TErnztZSyrpJ\nDq21zlyVXI0Wpm/Nklmt+3VecGiSE1flwgAAAAAALXJTki1KKaNLKX2TvD3Jb5ZdUEoZVkp5th/9\nRJLvrepFGypba61za62/rrXe13k8udZ62apeHAAAAACg2Wqti5IclyUbSP+a5IJa612llM+VUg7q\nXLZXkntKKfcm2TDJF1b1uqXWuqrfY4UuHHF4ay/QZg6489TujrDa6TNsTHdHAAAAgFVRujsAvJBn\n7rq8R3Zza2/9mtXy712jM1sBAAAAgHZTe+bM1tWVh1wBAAAAADSBshUAAAAAoAmUrQAAAAAATWBm\nKwAAAAD0VB1mtnYlO1sBAAAAAJpA2QoAAAAA0ATKVgAAAACAJlC2AgAAAAA0gQdkAQAAAEAPVevi\n7o6wRrGzFQAAAACgCZStAAAAAABNoGwFAAAAAGgCM1sBAAAAoKeqHd2dYI1iZysAAAAAQBMoWwEA\nAAAAmkDZCgAAAADQBGa2AgAAAEBP1WFma1eysxUAAAAAoAmUrQAAAAAATaBsBQAAAABoAjNbAQAA\nAKCnqma2diU7WwEAAAAAmkDZCgAAAADQBMpWAAAAAIAmULYCAAAAADSBB2QBAAAAQE/Vsbi7E6xR\n7GwFAAAAAGgCZSsAAAAAQBO07RiB4Xtvm20+/66U3r3y0PlX5r6zL1ru/V5918oOZ30gg7cdnQUz\nZmf8MV/P3EemZYNXvzxbn3xYSt/eqQsW587PnZ9p192dJNn44F2z5UcOSendK1P+cHPuPvVn3XFr\nLXXKaWfmmutuzNAhg3Phj8/p7jgAAAAA0GO0587WXiXbnf6eXH/4l3L5q0/MqDftnoFbbrzcks0O\n3ysLZ87JH3c7Pvd/69JsdcphSZIF02flhnd9OVfu/fFM+Mg3s+PZxyZJ+gxZN1t/6vBc93+/kCv2\nPCn9hg/OsD227vJba7VD3rBvzjnz1O6OAQAAAEBXqB0987WaaqhsLaWs3+og/4oh416S2Q88nrkP\nT01duDiPXnh9Ruy343JrRuy3Ux6+4E9JkkkX/yUb7PHyJMlTdz6U+Y/PTJLM+tuj6d2vb3r1XSvr\nbDY8cx6YkgVPzkqSPHHNndnojbt04V11jZ223ybrDRrY3TEAAAAAoMdpdGfrDaWUX5RS3lBKKS1N\n1ID+I4dk3qQnlx7Pnzw9/UcOfcE1dXFHFs2am75Dly8ZN3rjLpl5x4PpWLAocx54POuOHZkBmwxL\n6d0rI/ffKQM2Wq06ZgAAAABgNdbozNYtk7w2yXuTfL2UckGSH9Ra721ZshYb+NKNs/Uph+W6t52e\nJFn41Jzc9rHvZ6dvfTjpqJk+/t6ss9mG3ZwSAAAAAGgXDZWttdaa5A9J/lBK2TvJj5McW0q5LcnH\na63XL7u+lHJ0kqOT5AMDd87rBrykqaHnTZ6R/svsOu03cmjmTZ7+vGvmT56e0rtX1ho4IAumz1q6\n/hXfOz4TPvTNzH1o6tLPTPnDzZnyh5uTJJu9c5/Uxavv/AcAAAAAWKkO/VZXanhmaynlI6WU8Un+\nI8mHkgxLckKSnzx3fa313FrrTrXWnZpdtCbJzFvvz7pjRmTAphuk9OmdUYfslimXTVhuzZTLJmTT\nt74qSbLRG1+RadfdlSTpM2hAdvvxibnrCz/L9JuW35jbd9igJWvWWydjjnxtHjz/yqZnBwAAAAB6\npkbHCFyf5EdJDqm1PrrM+fGllHOaH2vF6uKO3P7JH2T3n348pXevPPTTqzLrnsfyspPekpm3TsyU\ny27OQz+5KjuefWxee/2ZWThzTm465qwkyej3vi7rjN4wLzv+TXnZ8W9Kklz39jOyYNrT2fbz78qg\nrTdNktzz1f/JnIlTuvrWWu7ET5+Rm265PTNnPp3XHPLOHHvUETn0wP26OxYAAAAAtL2yZELAShaV\nUmojC5/HhSMOf1Gf66kOuPPU7o6w2ukzbEx3RwAAAIBV0e0PE4cXMv+Gn/fIbq7frm9bLf/eNbqz\ndVgp5aQkWyfp9+zJWus+LUkFAAAAAKy6amZrV2poZmuS85P8LcnoJJ9N8mCSm1qUCQAAAACg7TRa\ntq5fa/1ukoW11qtrre9NYlcrAAAAAECnRscILOz8c3Ip5YAkk5IMbU0kAAAAAID202jZemopZb0k\nJyQ5K8mgJB9tWSoAAAAAgDbTUNlaa72488unkuzdujgAAAAAQNN0eEBWV1ph2VpKOStJfaH3a60f\nbnoiAAAAAIA2tLIHZI1PMiFJvyQ7JLmv87V9kr6tjQYAAAAA0D5WuLO11npekpRSPpBkj1rros7j\nc5L8qfXxAAAAAADaQ6MPyBqSJQ/Fmt55vG7nOQAAAABgdWVma5dqtGw9I8ktpZQrk5Qkr07ymVaF\nAgAAAABoNw2VrbXW75dSLk3yis5TH6u1TmldLAAAAACA9rLCB2SVUl7W+ecOSTZK8kjna6POcwAA\nAAAAZOU7W09I8r4kX32e92qSfZqeCAAAAABoiloXd3eENcoKy9Za6/s6/9y7a+IAAAAAALSnFZat\npZQ3r+j9WuuvmxsHAAAAAKA9rWyMwIEreK8mUbYCAAAAAGTlYwTe01VBAAAAAIAm6+jo7gRrlF6N\nLCqlrFdKObOUMr7z9dVSynqtDgcAAAAA0C4aKluTfC/JrCRv7Xw9neT7rQoFAAAAANBuVjaz9Vlj\na62HLnP82VLKra0IBAAAAADQjhrd2TqvlLLHswellFcmmdeaSAAAAAAA7afRna0fSHLeMnNaZyR5\nd2siAQAAAABNUT0gqys1Wrb+NcmXkoxNMjjJU0kOSXJ7i3IBAAAAALSVRsvW/00yM8nNSR5rXRwA\nAAAAgPbUaNk6qta6f0uTAAAAAAC0sUbL1j+XUraptd7R0jQAAAAAQPN0mNnalVZYtpZS7khSO9e9\np5QyMckzSUqSWmvdtvURAQAAAABWfyvb2frGLkkBAAAAANDmVli21lofWtULzOnVa1W/RY/y4Z0+\n3t0RVitfH39GFk6b2N0xVit9ho3p7ggAAAAAvAiNzmwFAAAAANpNNbO1K9l2CgAAAADQBMpWAAAA\nAIAmULYCAAAAADSBma0AAAAA0FN1mNnalexsBQAAAABoAmUrAAAAAEATKFsBAAAAAJrAzFYAAAAA\n6Kmqma1dyc5WAAAAAIAmULYCAAAAADSBshUAAAAAoAmUrQAAAAAATeABWQAAAADQU3V4QFZXsrMV\nAAAAAKAJlK0AAAAAAE2gbAUAAAAAaAIzWwEAAACgpzKztUvZ2QoAAAAA0ATKVgAAAACAJlC2AgAA\nAAA0gZmtAAAAANBTVTNbu5KdrQAAAAAATaBsBQAAAABoAmUrAAAAAEATmNkKAAAAAD1Vh5mtXcnO\nVgAAAACAJlC2AgAAAAA0gbIVAAAAAKAJ2m5m646fPyIb77N9Fs17Jtd/9NzMuOPBf1ozdJvNs9vX\njknvfn3z2BW3ZsKnfpQk6Tt4nexxznFZZ9QGmfPoE7n2mLOy4Km56TOwf3Y/+wNZZ6P1U9bqnb+e\nc0km/vyaJMne55+UYTuMzRM33pur3v3VrrzVVfLWT78nW+89LgvmPZMf/sc38shdDyz3fp9+ffO+\nbxyfDTbbMB2LO3LH5RNy4Rd/kiTZ9S175s2fOCIzH5+eJLn6vN/lup9f0eX30BVOOe3MXHPdjRk6\nZHAu/PE53R0HAAAAgDbWVjtbN9pnuwwaPSK/eeUJ+ctJ380upx/5vOt2PuM9ueHE7+Q3rzwhg0aP\nyEZ7b5sk2fq4AzPl2rtz0R7/kSnX3p2tjjswSbLlkfvmqXsfyyX7npw/HvqF7PCfh6dXn95Jkru/\n+dv8+cPtVcJtvde4DB89Ip/e68P5ySfPzWFf+LfnXffHb1+Uz77mozntgJMydseXZuu9tl/63oSL\n/5zT3nBSTnvDST22aE2SQ96wb84589TujgEAAADQGrWjZ75WU21Vto7ab8dM/OW1SZInb74/fddb\nJ/2GD15uTb/hg9NnYP88efP9SZKJv7w2o/bf6R+fv+BPS85f8Kds0nk+tabPOv2TJGut0y8LZs5J\nx6Il/6M9fu1dWTh7fsvvrZm2e91OueHXS3bmPnDLfRkwcJ0M2mD5n9PC+Qty7/V3JUkWL1ych+96\nIINHrN/lWbvbTttvk/UGDezuGAAAAAD0AA2VraWUr5ZStm51mJUZMGJI5k56cunx3EnTM2DEkH9e\nM3n6867pN2xQ5k+dmSSZP3Vm+g0blCS55/t/yKAtNsqbbzk7B1xxesb/54+SWlt9Oy0zeMOhmTFp\n2tLjGVOezOARQ19wff9BA7Lta3bMPdfdsfTcuNe/Iidf+uW87xvHZ8jINa+EBQAAAIB/VaM7W/+a\n5NxSyl9KKe8vpay3osWllKNLKeNLKeOvmHvfqqdskWf71JF7bZMZdz2UX487Lpfse3J2/sK7sta6\n/bs3XBfp1btXjvr6R3LlDy7NtEemJknu+OOEnLLHB/OF15+Yv157e9791Q92c0oAAAAAWP019ICs\nWut3knynlPLSJO9Jcnsp5bok3661Xvk8689Ncm6SnL/RO1dpi+iWR742Y9+xd5Jk+q0TM2Cjf+yy\nHLDR0MydMmO59XOnzMiAkUOfd838aU+n3/DBS3a1Dh+cZ558Okky9m175q6zL0qSzH7w8cx++Ims\n95KRefLWiasSvUvtecR+eeVhr0mSPHTb/Rmy0bAk9yRJhoxYPzOnTH/ez73j9GMy9YEpueJ7lyw9\nN2fm7KVfX/ezy/Pmj7+zdcEBAAAAaJ2O1Xe+aU/U8MzWUkrvJC/rfE1LcluS40spP2tRtiTJvT/4\nYy7d9+Rcuu/JeeR3EzLmLXskSdbfYWwWPD136ViAZ82fOjMLZ83L+juMTZKMecseefT3E5Ikj152\nc8a89VVLzr/1VUvPz3lsWka8asmUhH7DBmXQ2JGZ/fDUVt5W0139o98vfaDVbZfdmF3f/Ookyehx\nW2TerLl5+omZ//SZg054W/oPHJBffO4Hy51fdr7rtvvulCn3P9rS7AAAAADQE5TawGzSUsr/S/LG\nJFck+W6t9cZl3run1vrSF/rsqu5sfa6dT3t3Ru61bRbPW5DrP3pupt/+QJLk9X/4Qi7d9+QkydBt\nR2e3rx2d3v36ZtKVt2X8yT9MkvQdsm5edc6HMmDj9TPnsWm59pizsmDmnPTfcHB2+9ox6T98cFKS\nu86+OA/++rokyb7/86kMesnIrDWgXxbMmJ0bTvh2Jl99x/OHa8C1fRes4k+gMW//3FHZas/tsmDe\ngvzwxG/k4TuW7NL95CVfymlvOCmDRwzN6Teck8l/fzSLFixKklx93u9y3c+vyMEnHZZtX7tTOhYv\nzpyZs/PTU76Tx++f1JKcXx9/Rku+b6NO/PQZuemW2zNz5tNZf+jgHHvUETn0wP26NVOfYWO69foA\nAAD8y0p3B4AXMu9/zmjfBxOtQP83fXy1/HvXaNn6niQX1FrnPM9769Van3qhzza7bG13XVW2tovu\nLltXR8pWAACAtrNalj6QKFu7WqMzW79fShlSStk6Sb9lzl+zoqIVAAAAAOhG1czWrtRQ2VpK+bck\nH0kyKsmtSXZNcn2SfVoXDQAAAACgfTT6gKyPJNk5yUO11r2TjEvyz09cAgAAAABYQzVats6vtc5P\nklLK2rXWvyV5wYdiAQAAAACsaRoaI5Dk0VLK4CQXJvlDKWVGkodaFwsAAAAAWGUdZrZ2pUYfkPWm\nzi8/U0q5Msl6SX7XslQAAAAAAG1mhWVrKWXo85y+o/PPdZNMb3oiAAAAAIA2tLKdrROS1CQlyaZJ\nZnR+PTjJw0lGtzQdAAAAAECbWOEDsmqto2utY5L8McmBtdZhtdb1k7wxyWVdERAAAAAAoB00+oCs\nXWut73v2oNZ6aSnlSy3KBAAAAAA0gwdkdalGy9ZJpZRTkvy48/gdSSa1JhIAAAAAQPtZ4RiBZRyW\nZIMk/9P5Gt55DgAAAACANLiztdY6PclHWpwFAAAAAKBtNVS2llIuSlKfc/qpJOOTfKvWOr/ZwQAA\nAACAVVSfW+nRSo2OEZiYZHaSb3e+nk4yK8mWnccAAAAAAGu0Rh+QtXutdedlji8qpdxUa925lHJX\nK4IBAAAAALSTRne2rltK2fTZg86v1+08XND0VAAAAAAAbabRna0nJLm2lHJ/kpJkdJJjSynrJDmv\nVeEAAAAAgFXQ0dHdCdYoDZWttdZLSilbJHlZ56l7lnko1tdakgwAAAAAoI00urM1SXZMsnnnZ7Yr\npaTW+sOWpAIAAAAAaDMNla2llB8lGZvk1iSLO0/XJMpWAAAAAIA0vrN1pyRb1VprK8MAAAAAAE1k\nZmuX6tXgujuTjGhlEAAAAACAdtboztZhSe4updyY5JlnT9ZaD2pJKgAAAACANtNo2fqZVoYAAAAA\nAGh3DZWttdarWx0EAAAAAKCdrbBsLaVcW2vdo5QyK8myD8cqSWqtdVBL0wEAAAAAL171gKyutMKy\ntda6R+efA7smDgAAAABAe+rVyKJSylHPc+6M5scBAAAAAGhPjT4g69BSyvxa6/lJUkr57yT9G/lg\n31pXvmgNsseCvt0dYbXy25ef0t0RVisH3HlqFk6b2N0xVht9ho3p7ggAAAAADWu4bE3ym1JKR5L9\nk8ystb63dbEAAAAAgFXWYWZrV1rZA7KGLnP4b0kuTHJdks+WUobWWqe3MhwAAAAAQLtY2c7WCUmW\nnQNQkhzQ+apJ/BtfAAAAAICspGyttY4upfRKslut9bouygQAAAAA0HZWOrO11tpRSjk7ybguyAMA\nAAAANIuH13epXg2uu7yUcmgppbQ0DQAAAABAm2q0bD0myS+SLCilPF1KmVVKebqFuQAAAAAA2spK\nxwgkSa11YKuDAAAAAAC0s4bK1iQppRyU5NWdh1fVWi9uTSQAAAAAoCk6Oro7wRqloTECpZQzknwk\nyd2dr4+UUk5vZTAAAAAAgHbS6M7WNyTZvtbakSSllPOS3JLkE60KBgAAAADQThp9QFaSDF7m6/Wa\nHQQAAAAAoJ01urP1tCQ3l1KuSlKyZHbrx1sVCgAAAACg3TRatr4xyfeSzEjyYJKP1VqntCoUAAAA\nANAEHpDVpRotW7+b5FVJDkoyNsktpZRraq3/1bJkAAAAAABtpKGytdZ6ZSnlmiQ7J9k7yfuTbJ1E\n2QoAAAAAkAbL1lLK5UnWSXJ9kj8l2bnWOrWVwQAAAAAA2kmjYwRuT7JjkpcneSrJzFLK9bXWeS1L\nBgAAAACsmmpma1dqdIzAR5OklDIwyZFJvp9kRJK1W5YMAAAAAKCNNDpG4LgseUDWjkkeTPK9LBkn\nAAAAAABAGh8j0C/JmUkm1FoXtTAPAAAAAEBbanSMwFdaHQQAAAAAaK7aUbs7whqlV3cHAAAAAADo\nCZStAAAAAABNoGwFAAAAAGiCRh+QBQAAAAC0m46O7k6wRrGzFQAAAACgCZStAAAAAABNoGwFAAAA\nAGiCtpnZuuHe22bc545I6d0rE39yVe45+6Ll3u/Vd63s8vUPZMi2m+eZGbNzwzFnZe6j05IkL/vQ\nQRl92J6piztyy6d+mMevuiNJssXR+2f04Xsnteapvz6Smz56bjqeWZgNXrlVtvv04enVZ63MuP2B\njD/+26mLV7/5Fjt+/ohsvM/2WTTvmVz/0XMz444H/2nN0G02z25fOya9+/XNY1fcmgmf+lGSpO/g\ndbLHOcdlnVEbZM6jT+TaY87Kgqfm5v984IBs/ubdkyS9evfKoC02zq+2+UAWzJyTXc98XzZ+7faZ\nP+3p/HafT3Tlrf7Lhu+9bbb5/LtSevfKQ+dfmfue5/dlh7M+kMHbjs6CGbMz/pivZ+4j0zJ43NiM\n+/JRSxaVkr995VeZfOn4ZT5Ystfvv5D5U6bnhiO+0oV31DVOOe3MXHPdjRk6ZHAu/PE53R0HAAAA\noK20x87WXiU7nHZk/vSOL+V3e56UTQ/ZLQO33Hi5JaMP2ysLnpqTS3c/Ifede2m2PeWwJMnALTfO\nJgfvmt/v9bFcc/iXssPp70l6lfQbMSRbHLVf/rj/Kbls74+n9O6VTQ7eLSklu/zX+3PD+8/OZXt/\nPHMfnZbN3vqq7rjrFdpon+0yaPSI/OaVJ+QvJ303u5x+5POu2/mM9+SGE7+T37zyhAwaPSIb7b1t\nkmTr4w7MlGvvzkV7/EemXHt3tjruwCTJX7/521y678m5dN+Tc+vpF2Tq9X/NgplzkiQTf35NrnjH\nl7vk/lZJr5LtTn9Prj/8S7n81Sdm1Jt2/6ffl80O3ysLZ87JH3c7Pvd/69Js1fn7Mutvj+Sq/U7J\nla/9ZP582Bez/ZePSun9j78mY9/3+sy677EuvZ2udMgb9s05Z57a3TEAAACAZqkdPfO1mlpp2VpK\n6V1KubIrwryQoePGZvaDj2fOw0+kLlycR/73hmy8347Lrdlo/x3z4AXXJEkevfjGDH/V1kmSjffb\nMY/87w3pWLAocx95IrMffDxDx41NkpTevdO7X9+U3r3Su//amf/4jPQdum46Fi7K7IlTkiSPX3Nn\nRh2wSxfebWNG7bdjJv7y2iTJkzffn77rrZN+wwcvt6bf8MHpM7B/nrz5/iTJxF9em1H77/SPz1/w\npyXnL/hTNuk8v6zND9ktD14aHcLhAAAgAElEQVR4/dLjqX+5JwtmzG7J/TTTkHEvyewHHs/ch6em\nLlycRy+8PiOe8/syYr+d8nDn/U+6+C/ZYI+XJ0kWz1uwdBdz7359Uus/PtNv5NCMeO32eej8bv3r\n0FI7bb9N1hs0sLtjAAAAALSllZattdbFSTpKKet1QZ7n1X/E0Mx97Mmlx3MnT0//EUOes2ZI5k2a\nniSpizuy8Om56Tt03fQfMSRzJ/3js/MmTU//EUMzf8qM3HPOb/PG8V/Pgbf9dxbOmpvHr74jC56c\nlbJW7wzZbnSSZNQbd8mAjdbvgrv81wx4zn3NnTQ9A57zMxkwYkjmTp7+vGv6DRuU+VNnJknmT52Z\nfsMGLffZ3v37ZuRe2+aRS25q1S20TP+RQzJvmZ/N/MnT03/k0BdcUxd3ZNGsuek7dEnJOGTc2Oxz\n9Zeyz5VfzG0nfXdp+brN54/InZ//aZZrYAEAAACgU6NjBGYnuaOU8t1Syteffb3Q4lLK0aWU8aWU\n8X+c+/fmJG2yPusNyMb77ZjfvuLfc9H2x2WtAWtn00NfmSS54f1nZbvPvjOvueRzWTh7/mo5r7XZ\nntsfjtp3XJ4Yf+/SEQJrkhm33J8r9jwpV+1/Srb88MHptXafbLjvuDwz7ek8dfsD3R0PAAAAgNVU\now/I+nXnqyG11nOTnJskvxj5jlXeBjhvyvQM2Pgfu0sHjByaeVNmPGfNjPTfaGjmTZ6e0rtX+gwa\nkAXTZ2felBnL7Uztv9HQzJsyPRu+6uWZ8/ATWfDkrCTJY5fclPV32iIP/+q6TJ/w91x1yOeTJBvu\nuU0GjhmxqrfQFFse+dqMfcfeSZLpt05c7r4GbDQ0c5/zM5k7ZUYGLLOjc9k186c9nX7DBy/Z1Tp8\ncJ558unlPrvZwbvloWVGCLSTeZNnpP8yP5t+I5f8Xjzfmvmdvy9rDRyQBdNnLbdm9n2TsmjO/Ax6\n2aisv/OWGfm6HTLiNdun19p9sta6/bPj2cdmwnHf6JJ7AgAAAHhROvwL3a7U0M7WWut5SS5IckOt\n9bxnX62N9g8zbp2YdUePyIBNNkjp0zubHLxrJv1+wnJrJv3+5mz+1lcnWfJP/6dee1fn+QnZ5OBd\n06vvWhmwyQZZd/SITL/l/sx97MkM3fEl6d2/b5Jk+B5bZ9Z9k5Ika6+/5J/U9+q7Vl76wTfm/h9e\n3lW3ukL3/uCPSx9e9cjvJmTMW/ZIkqy/w9gseHru0rEAz5o/dWYWzpqX9XdYMqN2zFv2yKOdP7dH\nL7s5Yzof/DXmra9aej5J+gzsn+G7viyP/O7mrritppt56/1Zd8yIDNh0ye/LqEN2y5TLlv99mXLZ\nhGzaef8bvfEVmXbdkt+XAZtusPSBWP1HDcu6L9kocx+ZlrtP+3l+v8OHctnOH8n495+VadfdpWgF\nAAAAYDkN7WwtpRyY5CtJ+iYZXUrZPsnnaq0HtTLcs+rijtzyyR/k1T/9WErvXnngZ1fn6Xsfy9Yn\nHprptz2QyZfdnAd+elV2OesDef2fv5oFM+fkhveflSR5+t7H8shFf8l+V38pddHi3PLJHyQdNdNv\nuT+PXnxjXnvZF1IXLc7MOx/KxB9fkSR56bEHZOS+41JKyf0/vDxPXHd3V9zmv2TS5bdm49dsl4P+\n/NUsnrcg13/03KXvvf4PX8il+56cJLnpEz/Ibl87Or379c2kK2/LpCtuS5LcdfZFedU5H8rYt++Z\nOY9Ny7XHnLX085u8fqdMvuaOLJ73zHLXfOU3PpgNd/s/WXvounnT+K/n9q/+Kvf/9OouuNt/TV3c\nkds/+YPs/tOPp/TulYd+elVm3fNYXnbSWzLz1omZctnNeegnV2XHs4/Na68/MwtnzslNnfe//i4v\nzRYfOih14aLUjprbP/79f9rx2pOd+OkzctMtt2fmzKfzmkPemWOPOiKHHrhfd8cCAAAAaAulNvCw\nn1LKhCT7JLmq1jqu89ydtdaXr+yzzRgj0JMsKKW7I6xW1uno+fNw/xUH3Hlqd0dYrfQZNqa7IwAA\nADTC/9lntTX3v4/rkd3cgA+evVr+vWt0ZuvCWutTZfmiUEsGAAAAAKszG926VKNl612llMOT9C6l\nbJHkw0n+3LpYAAAAAADtpaEHZCX5UJKtkzyT5KdJnk7y760KBQAAAADQbhra2VprnZvk5M4XAAAA\nAADP0VDZWkrZMsl/JNl82c/UWvdpTSwAAAAAYJWZ2dqlGp3Z+osk5yT5TpLFrYsDAAAAANCeGi1b\nF9Vav9nSJAAAAAAAbWyFZWspZWjnlxeVUo5N8j9Z8pCsJEmtdXoLswEAAAAAtI2V7WydkKQmKZ3H\nJy7zXk0yphWhAAAAAADazQrL1lrr6CQppfSrtc5f9r1SSr9WBgMAAAAAVlGt3Z2g25RS9k/yX0l6\nJ/lOrfWM51nz1iSfyZKNpbfVWg9flWv2anDdnxs8BwAAAADQrUopvZP8d5LXJ9kqyWGllK2es2aL\nJJ9I8spa69ZJ/n1Vr7uyma0jkmycpH8pZVz+MU5gUJIBq3pxAAAAAIAW2CXJ32utE5OklPKzJAcn\nuXuZNe9L8t+11hlJUmuduqoXXdnM1v2SHJlkVJIzlzk/K8knV/XiAAAAAAAtsHGSR5Y5fjTJK56z\nZsskKaVclyWjBj5Ta/3dqlx0ZTNbz0tyXinl0Frrr1blQgAAAABAF+vo6O4ELVFKOTrJ0cucOrfW\neu6/+G3WSrJFkr2yZLPpNaWUbWqtM19srpXtbE2S1Fp/VUo5IMnWSfotc/5zL/bCAAAAAAAvRmex\nuqJy9bEkmyxzPKrz3LIeTfKXWuvCJA+UUu7NkvL1phebq6EHZJVSzknytiQfypK5rf83yWYv9qIA\nAAAAAC10U5ItSimjSyl9k7w9yW+es+bCLNnVmlLKsCwZKzBxVS7aUNmaZPda67uSzKi1fjbJbp0X\nBwAAAABYrdRaFyU5Lsnvk/w1yQW11rtKKZ8rpRzUuez3SZ4spdyd5MokJ9Zan1yV6zY0RiDJvM4/\n55ZSNkryZJKRq3JhAAAAAKDFOmp3J+g2tdZLklzynHP/uczXNcnxna+maLRsvbiUMjjJl5PcnKQm\n+U6zQgAAAAAAtLtGH5D1+c4vf1VKuThJv1rrU62LBQAAAADQXhp9QNaAUsqnSinfrrU+k2R4KeWN\nLc4GAAAAANA2Gh0j8P0kE7LkwVhJ8liSXyS5uBWhAAAAAIAmqB3dnWCN0tDO1iRja61fSrIwSWqt\nc5OUlqUCAAAAAGgzjZatC0op/bPkwVgppYxN8kzLUgEAAAAAtJlGxwh8OsnvkmxSSjk/ySuTHNmq\nUAAAAAAA7abRsvXdSX6b5JdJJib5SK11WstSAQAAAAC0mUbL1u8meVWSfZOMTXJLKeWaWut/tSwZ\nAAAAALBqOmp3J1ijNFS21lqvLKVck2TnJHsneX+SrZMoWwEAAAAA0mDZWkq5PMk6Sa5P8qckO9da\np7YyGAAAAABAO2l0jMDtSXZM8vIkTyWZWUq5vtY6b2Uf3HlDneyyrp86vLsjsBr73vb/2d0RVivv\nvfVz3R1htdJn2JjujgAAAACsQKNjBD6aJKWUgUmOTPL9JCOSrN2yZAAAAADAKqkdHd0dYY3S6BiB\n47LkAVk7JnkwyfeyZJwAAAAAAABpfIxAvyRnJplQa13UwjwAAAAAAG2p0TECX2l1EAAAAACAdtbo\nzlYAAAAAoN101O5OsEbp1d0BAAAAAAB6AmUrAAAAAEATKFsBAAAAAJrAzFYAAAAA6KlqR3cnWKPY\n2QoAAAAA0ATKVgAAAACAJlC2AgAAAAA0gbIVAAAAAKAJPCALAAAAAHqqjtrdCdYodrYCAAAAADSB\nshUAAAAAoAmUrQAAAAAATWBmKwAAAAD0VB0d3Z1gjWJnKwAAAABAEyhbAQAAAACaQNkKAAAAANAE\nZrYCAAAAQE/VUbs7wRrFzlYAAAAAgCZQtgIAAAAANIGyFQAAAACgCcxsBQAAAICeqnZ0d4I1ip2t\nAAAAAABNoGwFAAAAAGiCHjFGoP/uO2XoSccmvXpl9v9cmqe+//Pl3h/0zkOz7ptenyxenMUznsq0\nz3wliydPTZL0HrFBhn36hPTecIOk1kz90MlZNOnx7riNlRq517bZ4fNHpPTqlft/elX+evZFy73f\nq+9a2fXrH8jQbTbPMzNm58/vPytzHp2WJNnquIMy5rA9Uzs6MuGUH2bK1Xes8HvudvaxGbrd6HQs\nXJzpt96fG0/6Xuqixemz3oC84syjM3CzDbP4mYX5y/Hn5ql7Hu3aH8S/aPje22abz78rpXevPHT+\nlbnveX5uO5z1gQzednQWzJid8cd8PXMfmZbB48Zm3JePWrKolPztK7/K5EvHd8MdrLrdP3dENt1n\n+yya90yu+ui5mXbng/+0Ztg2m2ev/3dM1urXNw9fcWv+/J8/SpLsePyb838O3yvznpyVJLnxixfk\nkStuy7qjhuVtV30pM++fnCSZevPf86dPfL/L7qkrnHLambnmuhszdMjgXPjjc7o7DgAAALCaa/+y\ntVevDP3Eh/L4+z+WRY9Py0bnn525V1+fhRMfXrpkwd/+nsnv+GDq/Gcy8P++MUP//X154mNfSJJs\ncOrHMvM7P8n8G25O6d8vqbW77mSFSq+SHU87Mle+/fTMmzw9r7vk83ns9zfn6fseW7pmzGF7ZcHM\nObn4lSdk04N3zXanHJY/v/+sDNpi42x68K65ZO+Ppf+GQ7L3zz+R3+5xQpK84Pd88NfX5frjvpEk\n2f0bH8zYw/fK3394ebb+8MGZedfDufaor2XgS0Zmpy8cmSvfdnq3/Ewa0qtku9Pfk+veenrmTX4y\ne/3u1Ey57ObMuvcfP7fNDt8rC2fOyR93Oz4bH7xbtjrlsIw/5qzM+tsjuWq/U1IXd2Tt4YOzzxWn\nZ8plN6cubq9ZJ5vss13WGz0iP9vjhAzfYWz2OP3IXHjgZ/5p3atOf0+uOek7mXrz/Xn9j07MJntv\nm0euvD1Jcvu3f5fbv3XJP33m6Qcfz6/2O7nVt9BtDnnDvjn80IPyyc9/pbujAAAAAG2g7ccIrP3y\nl2bRI5Oy6LEpyaJFmfP7qzJgr92XWzN//G2p859Jkjxz+1+X7GJN0mfMpknv3pl/w81Jkjpv/tJ1\nq5uh48Zm9oOPZ87DT6Rj4eI8/L83ZNR+Oy63ZtR+O+aBX1yTJHnk4hszYo+tl55/+H9vSMeCRZnz\nyBOZ/eDjGTpu7Aq/5+Qrblv6fZ+85f4MGDk0STJoi43z+LV3JUlm/X1y1tlkg/QbNqjl9/9iDRn3\nksx+4PHMfXhq6sLFefTC6zPiOT+3EfvtlIcv+FOSZNLFf8kGe7w8SbJ43oKlxWrvfn1W1x5+pTZ/\n3Y6595fXJkmm3nx/1h60TgYMH7zcmgHDB6fPuv0z9eb7kyT3/vLabL7fTl2edXWz0/bbZL1BA7s7\nBgAAALx4HbVnvlZTDZWtpZQRpZSDSikHllJGtDrUv6L38GFZNOWJpceLHp+W3sOHveD6dd/0+sy7\n9sYkSZ/NRqVj1uxs8NVPZ+TPvpkhH31f0mv17J8HjBiauZOeXHo8d/L09B85ZLk1/UcMydxJ05Mk\ndXFHFjw9N32Hrpv+I4f802cHjBja0Pcsa/XO5m/ZI5M7dzjOvPvhjHrDzkmSoduPyTqjhqV/ZxG7\nOuo/ckjmLXOP8ydP/6e8y66pizuyaNbc9B26pGAbMm5s9rn6S9nnyi/mtpO+23a7WpNknRFDMmeZ\nn8GcydMzYMTy/zsPGDEkcyZPX27NOsusefmR++Ytfzgte37lfem73oCl5wduukEO/d2pOfCXJ2fE\nLi9t4V0AAAAArP5W2iyWUv4tyY1J3pzkLUluKKW8t9XBWmGdN7wma2+1ZZ467xdLTvTunX7jtsmM\nM7+Vye/4YNbaeGTWPeh13RtyNbPT6e/JEzf8LU/ceE+S5O6zL0rf9QZk/z+cli3fu19m3Plg6mr8\nXxNW1Yxb7s8Ve56Uq/Y/JVt++OD0WrtPd0fqcnf/8I/56SuPzy9fd3LmTp2Z3T71jiTJ3Kkzc/4u\n/55f7X9Krv/s+XnN2cemz7r9uzktAAAAQPdpZGbriUnG1VqfTJJSyvpJ/pz/z959x1dZng0c/90n\nCWQwwzBMCeCqAxkyFAcqgtYt7Vu1rg6ttraKdYGjta5atb5qW6W1jlr1tdg6WkW0iIibKU5kbwOE\nGEgCGed5/0iMCTPKORn4+34+50Oe57mec677znOOH6/c53rgr9s6IYRwPnA+wE1d9+aMdl0TkOrW\nVeStITWnQ/V26m7tqchbs0Vc+qC+tP7RGaz64WVQVlZ57mdrKP1kfmULAqD4lTdofsA+8PSEpOX7\ndRWvyiezc7vq7cxO2ZSsXFcrpmTVOjI7Z1OyMp+QEqNZq0xK8zdQsnLdFucWr6pcxbi959xv9Kmk\nt2vJa1c8UL2vfEMJb186rnr7hLfvYsPivMQNNMFKVq4jo8YY0ztVzs/WYjZWzVtqy0xK89fXitnw\n6QrKizbSau+uFMxeWC+574x9zzmavc8YBsDq2QvIqjEHWZ2yKV5V+9opXrWOrBorfrM6ZVNUFVOy\nprB6/0ePvcKxD1X2+42XlrOpdAMAa+YsonBxHq175rDmvcY/P5IkSZIkSclQl+/MrwVqVp7WV+3b\npiiKxkVRNCCKogHJLLQCbPrgE1K7dyG1cw6kppI14giKX32zVkyzvXrR7ppLyLvkOuLrCmqdG2uZ\nRaxtawDSBx5I2YLFSc3368qftYCWuTlkdetALC2F7icNZtnE6bVilk+cQe53DgOg2/EDq3urLps4\nne4nDSbWLJWsbh1omZtD/sz5233OnmccQc4R+/PGRffWumlYWqtMYmkpAPQ6Yxir3/qY8g0l9TEF\nX0vBrPm06JlDZvcOhLQUup48hFWbzduqidPp/t1DAeh8/CDWvF45b5ndOxBSKt8iGV3b06J3Z4qX\nblnIb4w+ePhlnhoxlqdGjGXRhOnsOWooAB379aJ0fTHFeQW14ovzCijbUELHfr0A2HPUUBZVzVPN\n/q65IweQ/8kyANKzWxJiAahsJ9A6dzfWL2m8hXdJkiRJkr6Jonh8l3w0VnVZ2ToPeDuE8AwQAScB\n74UQRgNEUXRnEvPbsYo4+bfey25/ugViMTY88yJl8xfT5sJz2PThXEpefZO2l55PLDODjr+7FoDy\nlXnkXXIdxOPk/34cOfffBiFQ+tGnrH9qyzuuNwZRRZxpYx/iiMeuJKTEWPDEqxTOXc7+l59G/uyF\nLJ84g/mPT2bI3Rdy/Ot3UFpQxOsX3gNA4dzlLHnubY6bfBtRRQXTxjxU9dX/aKvPCXDQrT+gaNka\nhj/3awCWPv8uH/z+X7TaozOD7/oJEPH5J8t5+7Jx28i4cYgq4rw35iEOfvwqQkqMxY9PZv0ny9n7\nilEUzFrAqokzWPzYZPrfexFHv3knZQVFvHtB5by1G7gXe1x8IlFZOVE84r2rHtxixWtTsGTSLLof\n2YfvTb2D8o2lTB795e/stBdv4qkRYwF4bcxDDLvzfFLSm7F08myWVt0kbdDY79Fu390hili/dA2v\nXVW5qL3T4L0ZcNlpxMsriOIRr131IJsKiup/gEl0+fW38u7M9ygoKOSok7/PRT88i9NOGNHQaUmS\nJEmSpEYqRDu4xXoI4frtHY+i6NfbO77owOG7bkPPr+HNvI4NnUKjkrEL93v9Oj5LbZw3aGsoP5h1\nQ0On0Kikte/Z0ClIkiRJ2rrQ0AlI27Lh6tN2yeJLi1ueapTvux2ubN1RMVWSJEmSJEmSVIdiawhh\nADAW2L1mfBRFByQxL0mSJEmSJEk7y28V16u69Gz9O3A5MAdovN1nJUmSJEmSJKkB1aXYujqKomeT\nnokkSZIkSZIkNWF1KbZeH0L4C/BfYNMXO6Mo+mfSspIkSZIkSZKkJqYuxdbzgL2BNL5sIxABFlsl\nSZIkSZKkxsyerfWqLsXWg6Io2ivpmUiSJEmSJElSExarQ8wbIYRvJT0TSZIkSZIkSWrC6rKydTAw\nK4SwkMqerQGIoig6IKmZSZIkSZIkSVITUpdi68ikZyFJkiRJkiRJTdwOi61RFC0OIQwF9oii6MEQ\nQgegRfJTkyRJkiRJkrRToviOY5QwO+zZGkK4HrgSuLpqVxrwaDKTkiRJkiRJkqSmpi43yDoFOBEo\nAoiiaAXQMplJSZIkSZIkSVJTU5dia2kURREQAYQQspKbkiRJkiRJkiQ1PXW5QdaTIYT7gTYhhB8D\nPwD+nNy0JEmSJEmSJO20eNTQGXyj1KXY2gEYDxQCewHXAUcnMylJkiRJkiRJamrqUmwdHkXRlcBL\nX+wIIdxB5U2zJEmSJEmSJElsp9gaQrgQuAjoGUJ4r8ahlsDryU5MkiRJkiRJkpqS7a1sfQx4AbgF\nuKrG/vVRFOUnNStJkiRJkiRJOy2yZ2u92maxNYqiz4HPgdPrLx1JkiRJkiRJappiDZ2AJEmSJEmS\nJO0KLLZKkiRJkiRJUgJsr2erJEmSJEmSpKbMnq31ypWtkiRJkiRJkpQAFlslSZIkSZIkKQEstkqS\nJEmSJElSAlhslSRJkiRJkqQE8AZZkiRJkiRJ0q4qHm/oDL5RXNkqSZIkSZIkSQlgsVWSJEmSJEmS\nEiDpbQRCLEr2S6gJcyG7tquirKEzaDxS0ihbs6Chs2hU0tr3bOgUJEmSJEmqxZ6tkiRJkiRJ0q4q\n7kLI+mQbAUmSJEmSJElKAIutkiRJkiRJkpQAFlslSZIkSZIkKQHs2SpJkiRJkiTtquzZWq9c2SpJ\nkiRJkiRJCWCxVZIkSZIkSZISwGKrJEmSJEmSJCWAPVslSZIkSZKkXVQU2bO1PrmyVZIkSZIkSZIS\nwGKrJEmSJEmSJCWAxVZJkiRJkiRJSgCLrZIkSZIkSZKUAN4gS5IkSZIkSdpVxb1BVn1yZaskSZIk\nSZIkJYDFVkmSJEmSJElKAIutkiRJkiRJkpQA9myVJEmSJEmSdlX2bK1XrmyVJEmSJEmSpASw2CpJ\nkiRJkiRJCWCxVZIkSZIkSZISwJ6tkiRJkiRJ0i4qsmdrvXJlqyRJkiRJkiQlgMVWSZIkSZIkSUoA\ni62SJEmSJEmSlAD2bJUkSZIkSZJ2VfZsrVeubJUkSZIkSZKkBLDYKkmSJEmSJEkJsEu0EUg/+CCy\nf3kRpMTY8K8XKHzoiVrHW555Gi1OOQ4qKqhYV8DaX99Oxco8AFJyOtLu2tGk5nQgiiDv4jFUrPys\nIYbxlfX7zdl0PrIPFSWlvHXp/aybs2iLmLb792DwXT8hJT2NFZNmM+PaRwBo1iaLQ+67mKyuHSha\ntpqpF9xN2efFdByyD4c+OJqipasBWPr8u3zw+3+R2Tmbwf97IekdWkMUMe/RScx94MX6HG6d7Tbs\nAA74zdmElBiL/v4Kc+99rtbxWLNUBtxzIW0OyKV03QbeueBuipeuoeNh+7Hv2NOJNUshXlrB+zf8\nndWvfwjAof+8hvSObajYWArA69+7lU1rCut9bF/XwTecRfcjD6S8ZBOTLx3HmvcXbRHTfv8eHPH7\nC0hNb8aSSbN447q/AdB/9Knsc8YRlKxdD8A7v32SpZNm06Jre/5n8m0UzF8JQN6Mebx29YP1NqZE\nmfr2dG69+y9UxCs47dvH8KPvj6p1fMWqPK699W7yCz6ndauW3HrNaHI6tgfgjj89yJQ3pxGPRww5\n6ECu/vmPCSE0xDDqxTU338mU198hu20bnn70voZOR5IkSZKkRqfpF1tjMbKvvJi8i66k/LPVdHr0\nD5S8+gZlC5dUh5R+Mo9V37+IaOMmWow6gba/OJ81V90IQPsbruTzB/7OxrdnEDLSIWoafSw6HdmH\nlrk5/PuQy2jXrzcDbjmPl46/fou4g279Ae9c/hfWzpjH4Y9eQadhfVj5ymy+9bMTWTX1Az669zn2\n+dkJfOtnJzL7psoi9eq3P2HKObfXep54eZyZN/yddXMWkZqVzogJN7JqyvsUfrq8XsZbZ7FAn1vO\nY+p3b6Fk5VqGTbiRlRNnsH7ul3n2OOMISguKmDhkNF1PGsJ+15zOOxfcw6b89bx59u/Y+FkBrfbu\nyiGPX8ULfX9Wfd67P/0DBbMXNsSodkq3I/vQOjeHJ4ZeRsd+vRh6y7k8fcKvtog79JbzmHLFX8ib\nMZ9j/3Y53YYdwNJX3gPgvT9P4L37n9/inMJFn/HUiLHJHkLSVFRUcOPv7+fPd95ATod2/M/5lzFs\n6EB69eheHXP7H//KiSOGcdKxR/H29NncNe4Rbr1mNDPnfMTMOR/xzwfvBuDsn13Fu7PeZ2Df/Rtq\nOEl38nHDOeO0Exnzm9t3HCxJkiRJ0jdQk28j0Gy/vShftoLy5SuhvJyiFyeTccQhtWI2TZtNtHFT\n5c9zPiKlalVaWm53SElh49szAIhKNlbHNXZdR/Rn0fjXAFg7Yx7NWmeS3rFNrZj0jm1Ia5nB2hnz\nAFg0/jW6juwPQJcR/Vj4ZOX5C5/8cv+2bMwrqF45W160kcJ5K8js1DaRQ0qI7L69KVr4GcVL8ojK\nKlj29Jt0GlF7bJ1GDGBJ1diX//ttOgzdD4DP31/Mxs8KACj8eBkp6c2INWv6f4/ocUx/5o6fCkDe\njPk0b5VF5mbXSmbHNqS1yCBvxnwA5o6fSo8RA+o91/o256NP6d6lE90655CWlsaxRx3KpKlv14qZ\nv2gpA/sdAMDAfgfwStXxEAKlpWWUlZdTWlZOWXkF7dq22eI1diUDDtyf1q1aNnQakiRJkqSvIr6L\nPhqpOhdbQwj9Qgg/DyFcHELol8ykvorUDu0pX5VXvV2Rt5qUju22Gd/i5JFsfP3dynN370p8wwY6\n3H49nR67jzaXnA+xplF/zsjJpmjF2urt4hX5ZObULn5m5rSleGV+rZiMnGwA0tu3ZmNeZWFxY14B\n6e1bV8e179+bkS/dzFUVk3AAACAASURBVOGPXkGrPbts8dpZXdvTdr/dWVNVmGtM0ju1paTGvJSs\nzCejU/Y2Y6KKOGXri2mWXbuA1Pn4gRTMWUS8tLx6X/+7LuDIl29m70tPSeIIEi8rp22ta6Vo5dav\nlaIa10rRynyyasTsd+5wRr10M4ff/mOatc6s3t+yewdOm3AjJ4wfS87AvZI4iuTIW7O2uiUAwG4d\n2pO3em2tmL165/LylDcBeHnKmxQVl1DweSEH7rc3B/Xdn2GnnMuwU87hkIF96dWjW73mL0mSJEmS\nGpc6VRZDCNcBDwPtgPbAgyGEa5KZWDJkHXcUzb+1F58/8iQAISWF9AP3Z93vx7HyrItI7dKJFicc\n08BZNpCq7gn5cxbx7MBfMGH4GOb+9UUO++voWmGpmc0Z+pdLmHHd3yjfUNIAiSZfy726sN81pzPz\n8r9U73v3oj/w32FXMeWkG2g3aC+6f+fQBsywfn34yMs8fshoxh8zluK8AoZceyYAxXkF/H3gJTw1\n8hre/PXfOerei0hrkdHA2SbeLy86j2mz3mfUD3/BtFkfsFuHdsRiMZYsW8GCxcv47/i/MumpB3ln\nxntMn/1BQ6crSZIkSZIaUF2XcZ4JHBRF0fVRFF0PDAbO2lZwCOH8EMK0EMK0x9Ykt6dn+eo1pOZ0\nrN5O6diBiry1W8SlD+xH6x+eQd4l10JZWeW5eWsonTuvsgVBRZySya/TbJ89kprvztjj3OGMfOlm\nRr50MyV5BWR1/nIFb2bnbIpXrasVX7xqHZk1VnVmds6mZFXl6sWNaz6vbjuQ3rENG9d+DkD5hhLK\niytbKaycNJuQlkKz7BYAhNQUhv7lEhb983WWvTAteQPdCRtXriOjxrxkdMqmpMaKzc1jQkqMtJaZ\nlOavr44f/NfRTLv4TxQt/nLF9MaquS0v2sjSf71B2769kj2UnbLvOUdz2os3cdqLN1G82bWS1Wnr\n10pWjWslq1M2RVUxJWsKieIRRBEfPfYKHQ/sCUC8tJxNBRsAWDNnEYWL82jdMyfZQ0uoju3bsSpv\nTfX2Z6vX0LFDuy1i/vemMYx/4H/5xY+/D0Crli14+bW36LPvnmRmZpCZmcHQQf2Z/cHH9Zq/JEmS\nJElqXOpabF0BpNfYbg5ss4oaRdG4KIoGRFE04Iz2W34NPZFKP/iE1G5dSO2cA6mpZI04gpJX36gV\nk7ZXb7LHXkLeJdcRX1dQ69xYyxbE2lR+hT79oAMpXbA4qfnujE8feokJw8cwYfgYlk+YRo9Rlasr\n2/XrTVlhSXVbgC9szCugbH0J7fr1BqDHqENZ9uJ0AJZPnEHudyvPz/3uoSx/sbJvbXqHL9sJZB/Y\nkxALlOZXFtQG3fFjCj9dzifjXkjuQHfCulnzadEzh8zuHQhpKXQ9eQgrJ06vFbNy4nS6V429y/GD\nWP165WrEtFaZDHn0cj646Qny351bHR9SYtVtBkJqCp2G96Xw46X1NKKv54OHX+apEWN5asRYFk2Y\nzp6jhgLQsV8vStcXU7zZtVKcV0DZhhI69qssIu85aiiLquatZn/X3JEDyP9kGQDp2S0JsQBUthNo\nnbsb65fk0ZTst/ceLFm2gmUrVlFWVsYL/32NYYcMqhWzrqCQeLyyGcyf/z6eU447GoBOHTswbdYH\nlJdXUFZezrRZ79Nzd9sISJIkSZIalyge7ZKPxqqud//5HPgghPASlV84Hw68E0K4GyCKop8nKb8d\nq4iT/9t76PiHWyEWY8OzEyhbsJjWPzmH0g/nUjLlTdpecj6xzAw63HYtAOWr8lh96XUQj7Pu9/ez\n2/2/AwKlH81lwz+3vON6Y7Tiv7PodNSBHP/GnVSUlPL2pfdXHxv50s1MGD4GgGlXP8iguy4gJb0Z\nK1+ZzcpJswH48N7nOOS+i+n1vSMoWr6G1y+ovKN6t+MHssfZRxMvr6BiYxlvXHgvAO0H7knudw6l\n4MMljHzpZgBm3/J/1c/XWEQVcWaNeYhDHr+KkBJj8eOTWf/Jcva5YhQFsxawcuIMFj02mQH3XsQx\nb95JaUER71xwDwA9f3AMLXJ3Y+/Rp7D36Mq+rK9/71bKizdxyONXEUtLIaTEyJvyPgsfndSAo/xq\nlkyaRfcj+/C9qXdQvrGUyaPHVR877cWbeGrEWABeG/MQw+48n5T0ZiydPJulVb/bQWO/R7t9d4co\nYv3SNbx21V8B6DR4bwZcdhrx8gqieMRrVz3IpoKi+h/gTkhNTWHMJRdwwS9/RUU8zinHHU3v3O7c\n+8Df2Xev3gwbOoh3Z83hrvsfIYRA/z77cs2lPwHgmCMO5p0Z73HKuRcTQmDooH4cccjABh5Rcl1+\n/a28O/M9CgoKOerk73PRD8/itBNGNHRakiRJkiQ1GiGKdlwJDiGcs73jURQ9vK1ji/sd3XhLzQ3g\njVW7NXQKjUrzRvyXiIawOrVp3KCtvvxg+rUNnULjkZLW0Bk0OmntezZ0CpIkSdIXQkMnIG1LwZlH\n7pLFlzZ/n9Qo33d1Wtm6vWKqJEmSJEmSJKmOxdYQwvHAb4Ddq84JQBRFUask5iZJkiRJkiRpZ/it\n4npV156tdwGnAnOiuvQdkCRJkiRJkqRvmLo2iFwKvG+hVZIkSZIkSZK2rq4rW68Ang8hvAps+mJn\nFEV3JiUrSZIkSZIkSWpi6lpsvQnYAKQDzZKXjiRJkiRJkqSEiTd0At8sdS22do6iaL+kZiJJkiRJ\nkiRJTVhde7Y+H0I4JqmZSJIkSZIkSVITVtdi64XAhBDCxhBCYQhhfQihMJmJSZIkSZIkSVJTUqc2\nAlEUtUx2IpIkSZIkSZLUlNWp2BpCCMCZQG4URb8JIXQDOkVR9E5Ss5MkSZIkSZL0tUXxqKFT+Eap\naxuBPwJDgDOqtjcAf0hKRpIkSZIkSZLUBNVpZSswKIqifiGEmQBRFK0LITRLYl6SJEmSJEmS1KTU\ndWVrWQghBYgAQggdgHjSspIkSZIkSZKkJqauK1vvBv4FdAwh3ASMAq5NWlaSJEmSJEmSdp7LJetV\nnYqtURT9PYQwHTgKCMDJURR9lNTMJEmSJEmSJKkJqVOxNYTwtyiKzgI+3so+SZIkSZIkSfrGq2vP\n1n1rboQQUoH+iU9HkiRJkiRJkpqm7a5sDSFcDYwBMkIIhTUOlQHjkpmYJEmSJEmSpJ0TxaOGTuEb\nZbvF1iiKbgFuCSHcAtwG7Amkf3E4yblJkiRJkiRJUpNRp56twAJgCtAVmAUMBt4EjkxSXpIkSZIk\nSZLUpNS1Z+vPgYOAxVEUDQP6AgVJy0qSJEmSJEmSmpi6rmzdGEXRxhACIYTmURR9HELYK6mZSZIk\nSZIkSdo58YZO4JulrsXWZSGENsDTwEshhHXA4uSlJUmSJEmSJElNS52KrVEUnVL1469CCK8ArYEJ\nSctKkiRJkiRJkpqYuq5srRZF0avJSESSJEmSJEmSmrK63iBLkiRJkiRJkrQdX3llqyRJkiRJkqSm\nIfIGWfXKla2SJEmSJEmSlAAWWyVJkiRJkiQpAZLeRmB9QXqyX6JJiUUNnUHjUhKz3l/T/xy6vKFT\naFQeGPCbhk6h0Ujzs6OWs2fdQNmaBQ2dRqOS1r5nQ6cgSZIkSd949myVJEmSJEmSdlX2bK1XLiuU\nJEmSJEmSpASw2CpJkiRJkiRJCWCxVZIkSZIkSZISwJ6tkiRJkiRJ0i4qsmdrvXJlqyRJkiRJkiQl\ngMVWSZIkSZIkSUoAi62SJEmSJEmSlAD2bJUkSZIkSZJ2VfZsrVeubJUkSZIkSZKkBLDYKkmSJEmS\nJEkJYLFVkiRJkiRJkhLAYqskSZIkSZIkJYA3yJIkSZIkSZJ2UZE3yKpXrmyVJEmSJEmSpASw2CpJ\nkiRJkiRJCWCxVZIkSZIkSZISwJ6tkiRJkiRJ0i7Knq31y5WtkiRJkiRJkpQAFlslSZIkSZIkKQEs\ntkqSJEmSJElSAtizVZIkSZIkSdpF2bO1frmyVZIkSZIkSZISwGKrJEmSJEmSJCWAxVZJkiRJkiRJ\nSgB7tkqSJEmSJEm7qig0dAbfKK5slSRJkiRJkqQEsNgqSZIkSZIkSQmwS7QRaHFYPzpddz7EYqx7\nciJr7htf63jmQfvS6dofk753Lkt/cRuFL7xefWy3K8+l5REHAZB37xMU/ue1es3968oZdgB9bziL\nkBJjwWOT+fje52odjzVLZdDdF9L2gB6UrtvAGxfcQ/GyNQDsc/GJ5J5+OFFFnJnXPsKqyXMAOOjO\nH9N5eF82rSlkwrCrqp+rzbe60/+3PyA1K52ipat566d/pHxDSb2N9evo/5uz6HLkgZSXbOLNS8ex\nbs6iLWKy9+/BkLsuICW9GcsnzWL6tX8DoPvxA9n/slNpvUdnJhx3PfnvLQSgWdsWHDru57Q7sCcL\nnpzCtLGP1OeQEia1z0FknP0ziKVQ+sp/2PTs41uNSxt4GFmX/pr1Yy+gYsFcQotWZF7yK1J77U3p\nqxMoeejues48cQ759Vl0r7o+Xhk9jjXvL9oipv3+PRh25wWkpjdjyaRZvH7936qP7XfucPY9ZzhR\nRZwlk2bx1s1P0LJre/7nldsomL8SgM9mzOO1MQ/W15B2yuAbzqJb1XxMuXQca7cyH+3278Fhv6+c\nj6WTZvHWdX+rdXy/849l0HVn8uj+P2HTug3V+9v36ckJz1zPKz+9l0X/eTfZQ6lX19x8J1Nef4fs\ntm14+tH7GjodSZIkSVIj0PRXtsZidP71hSw673rmjbiI1iccTvPe3WqFlK1YzbIr7qLg2Vdr7W8x\nbAAZ+/Zi3vEXM//U0bT/8SnEWmTUZ/ZfS4gF+t98LlPOvI0Jh1/B7icPodWeXWrF9Dz9CEo/L+L5\ngy/jk3Ev0Oea0wFotWcXup80mAlHXMmUM26j/y3nEWKVvTsWPfkaU864bYvXO+iOH/HezU/w4pFX\nsfyFaex90beTP8id0PnIPrTKzeHZQy7j7SseYOAt52417qBbz+Oty//Cs4dcRqvcHDoPOwCAgo+X\nMeVH/0veW5/Uiq/YWMZ7vxvPzBseS/YQkifEyDjvFxT99irW//Jcmh18FLEuu28Zl55B85GnUv7p\nh9W7orJSNv7jr5T8/U/1mHDidR/Wh9a5OTx+6GW8euUDHHrzuVuNO+zm83j1ir/w+KGX0To3h25H\nVF4fnYfsQ49j+vOPEWN48uirmHX/89XnFC7+jPEjxzJ+5NgmU2jtWvV++cfQy5h65QMcvI33yyG3\nnMfUK/7CP4ZWvl+6Vr1fALI6ZdPlsP3ZUPUHnS+EWOCgMf/D8ilzkjmEBnPyccO5784bGzoNSZIk\nSVIj0uSLrRl99mTT4pWULf2MqKycz/89hZbDB9eKKVuex6aPF0E8Xmt/eu/uFL3zAVTEiUo2senj\nRbQ4rH89Zv/1ZPftxfpFn1G0ZDXxsgqWPPMWXUbUzrvzyP4senIKAMv+/Q67HbovAF1G9GfJM28R\nLy2naOlq1i/6jOy+vQBY/dbHtVakfaFFz06sfvNjAFZNmUPXbw9M5vB2WtcR/VkwfioAa2fMp1nr\nLNI7tqkVk96xDWktM1g7Yz4AC8ZPpevIAQAUzlvB+qrViTVVlGxi9TtzqdhUluQRJE9K772Jr1pB\nPG8lVJRT+uYk0gYcskVcxnd/wMbnnoCy0i93btpIxSfvQ2npFvFNSY9j+jP3qcrrI2/mfJq3yiJz\ns+sjs2Mb0lpkkDez8vqY+9RUckdUXh/7nnU0M//4HPHScgA2ri2sx+wTb/dj+jOv6v2yesZ8mrXK\nImOz+ciomo/VVe+XeeOnsnvVfAAM+tX3efemJ4iiqNZ53zrvGBY9/y4la5r2HG3LgAP3p3Wrlg2d\nhiRJkiRtVxTfNR+NVZMvtqbltKNs5erq7fKVa0jbrV2dzt340UJaHNaPkN6clLatyBp8AGmdOiQr\n1YTJyMmmZPna6u3ilflk5LStFZOZ05biFfkARBVxygqLaZbdgoycthSv+PLckhX5ZORkb/f1Cj9Z\nRpeRlcXcbicMIrPz9uMbWuZmYyxekU/m1uZnZf52Y3ZFsbbtia/Nq96Or11NrG37WjEpPfYgZHek\nfOZb9Z1evcjKacuGGtfHhpX5ZG32u8/KaUtRjeujZkzrnjl0GrgXpzz7K078x1g69OlZHdeyWwdG\nvXAjJ/5jLDkD90rySBIjM6ctRStqf57saD6KVn75ful+TD+KV60j/6MlWzzv7scO4KNH/pvE7CVJ\nkiRJalzq1LM1hDAd+CvwWBRF65KbUv3ZMHUmGQfsQc/xv6Mi/3OKZ34M8YqGTqvReWf0OPrdeA7f\nuvQUVrw4o3pFn3ZBIZBx1kUU/+nWhs6k0YqlxmjepgX/OvFXdDywJ8P/+DMeO2Q0RXkFPDroEjYV\nbKD9/j0Y+ZdL+b+jrqKskfc33hkp6c3oc/GJTDjjt1scG/yr7/PuzU/AZqtdJUmSJEnaldX1Bln/\nA5wHvBtCmAY8CEyMNv/OaJUQwvnA+QDXtduf77Tqnohct6ps1dpaq1FTO7Wn7LO12zmjttV/fJLV\nf3wSgK53/ZJNC1ckPMdEK1mVT0aXL1fvZnbKpmRV7Rp48ap1ZHbOpmRlPiElRlqrTErzN1Cyah2Z\nnb88N6NzNiWr8tme9fNW8ur3KotvLXrm0OnoAxM4msTY89yj6XXmMADyZy2oNcbMztkUb21+OmVv\nN2ZXFF+3hli7jtXbsXYdiK+r0WczPZNYt1xaXHcXAKF1Nlm/vImi28dSsWBufaebMPueczT7nF55\nfayevYAWNa6PFp2yKdrsd1+0ah1ZNa6PmjEbVq5j4QuVN3rKm7WAKIpIz27Jxvz1bCqtbMOxZs4i\nChfn0aZnDqurbrDWmOxzztHsdUblfKyZvYCszrU/T3Y0H1mdKt8vrXp0pGW3Dpwy8ebq/SdPuJFn\nj7+e9gfkMuwPPwMgPbsl3Y7sQ1QeZ/GL05M9PEmSJEmSGkyd2ghEUTQviqKxwJ7AY1Sucl0cQvh1\nCGGL75RHUTQuiqIBURQNSGahFaDkvbk079GZtK67EdJSaX38Yax/+e26nRyLkdKmst9e8717kL5X\nLhtem5HEbBMjf9YCWubmkNWtA7G0FLqfNJjlmxUwVrw4gx7fPQyArscP5LOpHwCw/MXpdD9pMLFm\nqWR160DL3Bzyq/pSbkvzdq0qfwiBfS85mfmN8GvBcx96mReGj+WF4WNZOmE6PUcNBaBdv16UFhaz\nMa+gVvzGvALK1pfQrl9lv9qeo4ay7BtQBKqY/zGxnC7EOuRASirNhhxJ2fQ3vgwoKaLw/JMp/Pnp\nFP78dCrmfdjkC60AHzz8cvWNqxa+OJ09T6u8Pjr27UXp+mKKN7s+ivMKKNtQQseqfsZ7njaURRMr\nr49FL06j88HfAqB1bg4paalszF9PenbL6pvNtezegda5u1G4JI/G6KOHX+bpEWN5esRYFk+YTu+q\n90uHfr0oW19MyWbzUVI1Hx2q3i+9Rw1l8cTprPt4GY8d+FOeHHIpTw65lKKV+Tw98hpKVn/OkweP\nrt6/8D/v8MbYhyy0SpIkSVIDiOJhl3zURQhhZAjhkxDCvBDCVVs5/pMQwpwQwqwQwtQQwrd2dr7r\nurKVEMIBVK5uPQ54Cvg7MBSYBDTcUseKOCt+dR89Hr6BEIux7h8vsenTJXS85ExK5nzK+v++Q8YB\ne9D9T2NJad2ClkcNpOMvzmDeyJ8SUlPI/b/Kr7/GNxSzbPTtUNGIO+xWiSrizBjzEIc/fiUhJcaC\nJ16lcO5y9rv8NPJnL2TFxBkseHwyg++5kOPeuIPSgiLe/Mk9ABTOXc6S597m2FdvI15ewfQxDxHF\nKxcoD/7jT+l48D40z27JCdPv4f3bx7Pw8VfpfsoQ9jh3OADLnn+XhU+82mBjr4sV/51Fl6P6cOIb\nd1BRUsqbl46rPnbsSzfxwvCxALx79UMMuet8UtKbseKV2ayYNBuAriMHcNCNZ9O8XUuO+NsvWffB\nYl454zYATnr796S1yCDWLJVuIwbw39NvpfDTxr8aulo8TslDd5N19W0Qi1E6+QXiyxaRPuo8yhd+\nQnnNwutWtLr7ccjIJKSmkTZgKBtuuZz48sX1lHxiLJk0i+5H9uH0qXdQXlLK5Mu+vD5GTbiJ8SMr\nr4/Xxj7EsDsrr4+lr8xmySuV18fH//cqR9x+Pt99+RYqSiuYdOn9AHQatDcHXXYa8fIKonjElKsf\nZFNBUf0P8CtaOmkWXY/sw3em3kH5xlJeG/3lfJz84k08PaJyPt4Y8xCHVc3HssmzWVb1fvkmu/z6\nW3l35nsUFBRy1Mnf56IfnsVpJ4xo6LQkSZIkSUAIIQX4AzAcWEblN/afjaLowxphj0VRdF9V/InA\nncDInXrdbXQC2Dy56UAB8ADwVBRFm2oc+2cURadu69z3ex5vw74aPihp3dApNCrloW5/ifim+Pbh\nyxs6hUblialdGjqFRiPNT9Jazp51Q0On0Oikte+54yBJkiQli/9zq0Zr5dBhu+T/UXaa+sp233ch\nhCHAr6IoGlG1fTVAFEW3bCP+dODsKIqO3Zm86rqy9TtRFC3YLIHcKIoWbq/QKkmSJEmSJEkNoAuw\ntMb2MmDQ5kEhhJ8Co4FmwJE7+6J16tkKjK/jPkmSJEmSJEmNRBTfNR8hhPNDCNNqPM7/WvMTRX+I\noqgXcCVwzc7O93ZXtoYQ9gb2BVqHEGquYG0FpO/si0uSJEmSJEnSVxVF0Thg3HZClgPdamx3rdq3\nLU8Af9rZvHbURmAv4HigDXBCjf3rgR/v7ItLkiRJkiRJUhK8C+wRQsilssj6PeCMmgEhhD2iKPq0\navPbwKfspO0WW6MoegZ4JoQwJIqiN3f2xSRJkiRJkiQp2aIoKg8h/Ax4EUgB/hpF0QchhBuAaVEU\nPQv8LIRwNFAGrAPO2dnX3VEbgSuiKLoNOKPqjlybJ/3znU1AkiRJkiRJUnJEUWjoFBpMFEXPA89v\ntu+6Gj//ItGvuaM2Ah9V/Tst0S8sSZIkSZIkSbuSHbUReK7q34frJx1JkiRJkiRJapp21EbgOSDa\n1vEoik5MeEaSJEmSJEmS1ATtqI3A7VX/ngrkAI9WbZ8OfJaspCRJkiRJkiSpqdlRG4FXAUIId0RR\nNKDGoedCCPZxlSRJkiRJkhqxKN7QGXyzxOoYlxVC6PnFRgghF8hKTkqSJEmSJEmS1PTsqI3AFy4F\nJocQFgAB2B24IGlZSZIkSZIkSVITU6diaxRFE0IIewB7V+36OIqiTclLS5IkSZIkSZKalu0WW0MI\nR0ZRNCmEcOpmh3qFEIii6J9JzE2SJEmSJEnSTojioaFT+EbZ0crWw4FJwAlbORYBFlslSZIkSZIk\niR0UW6Mour7q3/PqJx1JkiRJkiRJaprq1LM1hNAGOBvoUfOcKIp+npy0JEmSJEmSJKlpqVOxFXge\neAuYA8STl44kSZIkSZKkRImihs7gm6Wuxdb0KIpGJzUTSZIkSZIkSWrCYnWM+1sI4cchhE4hhOwv\nHknNTJIkSZIkSZKakLqubC0FfgeMBb5YfBwBPZORlCRJkiRJkiQ1NXUttl4G9I6iaE0yk5EkSZIk\nSZKUOFE8NHQK3yh1bSMwDyhOZiKSJEmSJEmS1JTVdWVrETArhPAKsOmLnVEU/TwpWUmSJEmSJElS\nE1PXYuvTVQ9JkiRJkiRJ0lbUqdgaRdHDyU5EkiRJkiRJkpqyOhVbQwgLgWjz/VEU9Ux4RpIkSZIk\nSZISwhtk1a+6thEYUOPndOA7QHbi05EkSZIkSZKkpilWl6AoitbWeCyPougu4NtJzk2SJEmSJEmS\nmoy6thHoV2MzRuVK1zqd+8+K1l8jrV3XPg2dQCPTLNqiO8U32ouTOzd0Co1KC7/pUK2oTn8a++b4\nfv/RDZ1Co/Lo9DspW7OgodNoVNLa2+lIkiRJUv2raxuBO/iyZ2s5sIjKVgKSJEmSJEmSGinXudWv\nuhZbjwVOA3rUOOd7wA1JyEmSJEmSJEmSmpy6FlufBgqAGcDG5KUjSZIkSZIkSU1TXYutXaMoGpnU\nTCRJkiRJkiSpCatrsfWNEML+URTNSWo2kiRJkiRJkhIminv36fq03WJrCGEOlTfGSgXOCyEsADYB\nAYiiKDog+SlKkiRJkiRJUuO3o5Wtx9dLFpIkSZIkSZLUxG232BpF0eL6SkSSJEmSJEmSmrK69myV\nJEmSJEmS1MREkT1b61OsoROQJEmSJEmSpF2BxVZJkiRJkiRJSgCLrZIkSZIkSZKUAPZslSRJkiRJ\nknZRUbyhM/hmcWWrJEmSJEmSJCWAxVZJkiRJkiRJSgCLrZIkSZIkSZKUABZbJUmSJEmSJCkBvEGW\nJEmSJEmStIuKR6GhU/hGcWWrJEmSJEmSJCWAxVZJkiRJkiRJSgCLrZIkSZIkSZKUAPZslSRJkiRJ\nknZRkT1b65UrWyVJkiRJkiQpASy2SpIkSZIkSVICWGyVJEmSJEmSpASwZ6skSZIkSZK0i4ri9myt\nT65slSRJkiRJkqQEsNgqSZIkSZIkSQmwy7QRGPGrs9ljWB/KSkp55pf3s+r9RVvEDLv8Oxxw6qFk\ntM7i1m/9sHp/n1GHcfSY01m/ah0A7z4ykZlPTK6nzL++3YYdQN8bziKkxFjw2GQ+ufe5WsdjzVIZ\nePeFtD2gB5vWbeCtC+6heNkaAPa++ERyTz+cqCLOzGsf4bPJcwDY4/yR5J4xDKKIzz9ayruXjiO+\nqaz6OQ/8zdnknn44/+r9Qxqzrzs3zdq2YMiff0H2gT1Z9H9TmDn24epzDn3sCtI7tiGkprDm7U+Y\ncfWDEI/qeWR1k7PZ+D/eyvgHVY2/dN0G3qhxbeyz2bWxavIcWvbqxJD7Lq4+v8XuHXn/d+OZ++cJ\n7HfFKLqM6E8Uj9i0tpC3f3EfGz8rqM/hfmUDfnMWXY48kPKSTbx56Tjy5yzaIiZ7/x4MuesCUtOb\nsXzSLKZd+zcAn+LhgQAAIABJREFUuh8/kAMuO5XWe3TmheOuJ/+9hQCE1BQG3/4jsvfvQSw1xoJ/\nTOWDzea9sTr4hrPoXjUfky8dx5qtfH62378HR/y+cj6WTJrFG9dVzkf/0aeyzxlHULJ2PQDv/PZJ\nlk6aTe9TDqbPT75dfX67fbrx1MhrWPvhknoZU6Kc+6sf0XdYfzaVbOJPv7ybhe8v2CLm6oevo23H\ntsRSU/j4nQ954NpxRPE4Z445h/5HHUR5WTmfLV7Fny6/h+LCogYYRf245uY7mfL6O2S3bcPTj97X\n0OlIkiRJUoPYJVa29h7Wh3a5Odx7+GX8++oH+PaN5201bu7LM3ngpOu2euyDf7/FuOPGMO64MU2i\n0Eos0O/mc3ntzNuYcPgVdD95CC337FIrJPf0Iyj9vIgXDr6MT8e9wAHXnA5Ayz270O2kwbx4xJVM\nOeM2+t1yHsQC6Tlt2eOHI3h55DVMHHYVISVGt5OGVD9f2z65NGuTVa/D/Fp2Ym4qNpbx/m3/YPYN\nj23xtG+efw8vHT2GiUdcSfN2Lel2wqB6Gc5XFWKB/jefy5Sq8e9+8hBabTb+nlXjf/7gy/hk3Av0\nqRp/qz270P2kwUyoujb633IeIRZYP38lE4ePYeLwMbw0YizlJZtY9sI0AD7+43948airmTh8DCte\nmsm+o0+t9zF/FZ2P7EPL3ByeOeQy3r7iAQbecu5W4wbeeh5vX/4XnjnkMlrm5tB52AEAFHy8jCk/\n+l/y3vqkVvzuJwwkpXkq/znqap4feS17nHUkWV3bJ3s4O63bkX1onZvDE0MvY8qVDzB0G/Nx6C3n\nMeWKv/DE0MtonZtDt6r5AHjvzxN4asRYnhoxlqWTZgMw719vVO975Rd/onDJ6iZXaD1wWH9ycjvx\ni8Mv5M9X/5Ef3viTrcbd9dPfccWxl/LL4T+nVbvWDPn2wQDMeW02vzzm51wx8hJWLlzByRedVp/p\n17uTjxvOfXfe2NBpSJIkSdpMFO2aj8Zqlyi27jW8P7Ofeg2A5TPn0bxVJi06ttkibvnMeWzIa9wr\n7uoqu28vNiz6jKIlq4nKKlj6zFt0GdG/Vkznkf1Z9OQUAJb9+x06HrovAF1G9GfpM28RLy2neOlq\nNiz6jOy+vQAIKSmkpDcjpMRIyWjOxs8qV/sSCxxw7Rm895vH62+QX9POzE1FySbWvjOXio1lWzxv\n+YYSoHIFYywttdG+sbP79mJ91fjjZRUsqcP4d6txbSypujaKlq5mfY1r4wsdD92PokV51Sthv5gX\ngNTM5o37Ew/oNqI/C8dPBWDNjPk0a51FxmafFxkd25DWMoM1M+YDsHD8VLqNHABA4bwVFM5fueUT\nR5XjDykxUtKbES8tp6zG3DRWPY7pz9yq+cibMZ/mrbLI3Gw+Mju2Ia1FBnlV8zF3/FR6jBhQ59fo\nfdLBzH/2rcQlXU8OGj6QKU9NBuDTmXPJapVFm45tt4grqfo9p6SmkJqWSlT1HnjvtVnEK+JV539C\nu07t6ifxBjLgwP1p3aplQ6chSZIkSQ1qlyi2tszJpnDF2urt9avyabnblv9DvD37HHsQF0y4hVF/\n+gWtOmUnOsWEy8jJpnj5l2MuXplPRk7bzWLaUrIiH4CoIk5ZYTHNsluQkdOW4hrzVbIin4ycbDau\nWscn9/2H46fdzQmz/0DZ+mI+e7WyvUDvHxzDionT2dgEitU7Mzc7cujjV3LinD9RvmEjy/79dmIT\nT5CMnGxKdjD+zJy2FH+Fa6Om7icNZvHTb9Tat/9V3+GEaXez+6kH8/7vxid6SAmVkdOWohpjLFqx\n9eujeGX+dmM2t/jf71BevInTZt3Lqe/exYf3PU9pQeP/ynjW5vOxMp/MrVwvRTXnY2U+WTVi9jt3\nOKNeupnDb/8xzVpnbvEaPU8YxLxn3kxC9snVNiebtSvWVG+vXbWW7N22/t+HMY9cz7gZD1NSVMJb\nz2851mHfPZqZk2ckLVdJkiRJUuOw3WJrCGF9CKFwW4/6SjLZ5r48g7sPuYT7R17NgtfmcNKdW/+q\n6K4urXUmXUb05z+DLuG5A39GamZzup92COm7taHbCYOY98DEhk6xwb12+m957sCfEmueSseh+zZ0\nOvUulpZSuTL6udqF5jm3/oPnBvycxf98g97nHdNA2TWs9n17ElXEearvxfxr0Gi+9ZPjaNG9Q0On\nlXQfPvIyjx8ymvHHjKU4r4Ah155Z63jHvr0o31jKuk+WNVCG9ePms3/NTw46j7Rmaex38P61jp3y\ns1FUlFcw9V+vNlB2kiRJkqT6st0bZEVR1BIghPAbYCXwNyAAZwKdtnVeCOF84HyAE7IHMqBF70Tl\nW23A2cPp971hAKx4bwGtOn/59cyWOdms/+Lr73VQUrCh+ueZT7zC0VefnrhEk6RkVT6ZXb4cc2an\nbEpWrdssZh0ZnbMpWZlPSImR1iqT0vwNlKxaR2aN+cronE3Jqnx2O3Q/ipasprTqRjfLn3+XdgP2\noLSgiBY9duPYN+8EICWjGce+cQcvHHxZPYz0q9uZuamL+KYyVrw4nS4j+pM35f2E5p4IJavyydjB\n+ItXrSPzK1wbX8g58kDWzVnEpjVb/1vL4n++zmGPXs4Htz+V4FHtnD3PPZreZ1Z+XqydtYCszu1Y\nXXUsq/PWr4/MGivctxazuR6nHMyKV94jKq9g09pC8t6dS3afnmxYsnq75zWEfc85mr3PqJyP1bMr\n5+MLWZ2yKd7K9ZJVcz46ZVNUFVNS41r46LFXOPah2p8LvU4czPynm86q1mPOPpajvlf5B4P5731K\nu85f9t1tl9OO/M/yt3UqZZvKmDbxbQYcM5A5Uyt71x4+6kj6HTWA35y+9X7hkiRJkqRdS13bCJwY\nRdEfoyhaH0VRYRRFfwJO2lZwFEXjoigaEEXRgGQUWgGmPfJS9Q2tPpk4jT6nHQpAl7692bS+5Cv1\nZq3Z33XP4f1ZM29FwvNNtHWzFtAiN4fMbh0IaSl0O2kwK16cXitmxYsz6PHdwwDoevxA8qZ+ULV/\nOt1OGkysWSqZ3TrQIjeH/JnzKV6+luz+vUnJaAZAx6H7sv7TFaz67yye6/NTnh94Cc8PvISKktJG\nW2iFnZubbUnJbE561XUSUmJ0OqovhY30OsmftYCWuTlkdetALC2F7icNZvkOxv9Z1fiXvzid7lXX\nRla3DrSsuja+sPvJQ1jyr9otBFrk7lb9c5cR/Smct5V+pg1s7kMv8/zwsTw/fCzLJkwnd9RQANr3\n60VpYTElm31elOQVULa+hPb9KvvV5o4aytLN5nBzRcvXklO12jkloznt+/VutNfIBw+/XH3zqkUT\nprNn1Xx07NeL0vXFFG82H8V5BZRtKKFj1XzsOWooiyZWzkfN/q65IweQX3MFawj0OmEQ855tOsXW\niY+8wJXHXcqVx13KuxPf5rDTjgBgj757Ury+iIK82oXo5pnp1X1cYykx+h45gBXzlwPQ5/C+nPiT\nU7jthzdTurG0XschSZIkSV+I4mGXfDRW213ZWkNRCOFM4AkgAk4HGk0zwk8nzaL3sAP52ZQ7KSsp\n5dlf3l997Pznb2bccWMAOPrq09nvpINJy2jGJW/dw8wnXuHVu/7JwHNHsOfwfsTLK9j4eRHP/PK+\nhhpKnUUVcWaOeYjDHr+SkBJj4ROvUjh3Oftefhr5sxeycuIMFj4+mYH3XMixb9xBaUERb/3kHgAK\n5y5n6XNvM+LV24jKK5g55iGIR+TPnM+yf7/D0RNvIiqvoOD9xSx4dFLDDvRr2Jm5ATjunbtIa5FB\nrFkqnUcOYMrpt1Kav55DHh5NrFkaIRbIe/1DFjzy3wYc5bZFFXFmjHmIw6vGv6Bq/PtVjX/F/7N3\n32FSVfcfx99nttO7gGikKIqKIIi9gN3YYks01pgfGkM0Fow19hoTNZpIiLHFFo2JUWNBBSOKigIq\nQkSaKLD0trB95/z+2HVlBWEiO7sMvF/Psw977z0z+znX2bnud89+74jxzHjiDfa452ccUTP/d1Z7\nbXzx/Hsc/p/bSVZWMe6Kh4jJ6pv9ZBXkscV+O/HBpX+p8/V6X/kjWnTvRExGVs1exLhfPdDgc/5f\nzHn9QzofuAvHjPktlSXlvHPh8NpjR7x6Ey8efCUAYy9/iL3uGkxWfi5zR33E3JHVKxW3Oqw//W88\nnfy2zRn410tYOmkWI0+5nc8efJU97xzMkaNuhRCY8bc3WfbfLxtljv+LL0Z+yNaDduFHb/2WytJy\n3rjo6/Nx/Cs38cyh1edj9BUPMfB31efjyzc+4sua87H7lT+i7Y7fgxgp+nIRoy/7+r9/pz22Z+Xc\nJRRthKt7UzFh5Dj6DuzH3W8Oo7ykjPsu+X3tsdtevJNfHXEh+U3yuPT+K8jOzSGRCEx65xNeffRl\nAH5y/WCyc3O46tHrgOqbZN1/5cZ/ffmuhl5zK+9P+Jhly1Zw4LGnct7Zp3H8UYc2dixJkiRJalAh\npnDn8BDCNsDdwN5UF1vfBn4ZY/x8fY+9/ns/3rhvTd7AdnBxk9Yh2dgBNjIVYeP9TVVDW7VJ3M6w\n/ozMSq3tx+bi0XG/a+wIG52cdt0aO4IkSdq8+MOLNlqTu39/k6zN9Zr+743y+y6lla01RdVvbRsg\nSZIkSZIkSZu7lIqtIYTtgPuALWKMO4UQelPdx/XGtKaTJEmSJEmS9J0l40a5AHSTleofpv4ZuByo\nAIgxfgz8KF2hJEmSJEmSJCnTpFpsbRJjHPuNfZX1HUaSJEmSJEmSMlWqxdZFIYTuVN8cixDCCUBh\n2lJJkiRJkiRJUoZJqWcr8HNgOLB9CGEOMBM4NW2pJEmSJEmSJG2waM/WBpVSsTXGOAM4KITQFEjE\nGIvSG0uSJEmSJEmSMktKbQRCCFuEEP4C/D3GWBRC6BVCODvN2SRJkiRJkiQpY6Tas/Uh4BWgc832\nZ8Av0xFIkiRJkiRJkjJRqsXWdjHGp4AkQIyxEqhKWypJkiRJkiRJGyzGTfNjY5VqsXVVCKEtEAFC\nCHsAy9OWSpIkSZIkSZIyTEo3yAIuAp4DuocQ3gbaAyekLZUkSZIkSZIkZZiUiq0xxvEhhP2BnkAA\npsQYK9KaTJIkSZIkSZIySErF1hBCPnAesA/VrQRGhxCGxRhL0xlOkiRJkiRJkjJFqm0EHgGKgHtq\ntk8B/gqcmI5QkiRJkiRJkjZcMobGjrBZSbXYulOMsddq26NCCJPTEUiSJEmSJEmSMlEixXHjQwh7\nfLURQtgd+CA9kSRJkiRJkiQp86S6srUfMCaE8EXN9tbAlBDCRCDGGHunJZ0kSZIkSZIkZYhUi62H\npTWFJEmSJEmSpHoX7dnaoFJtI5ANzIsxzgK6AscAy2OMs2r2SZIkSZIkSdJmLdVi6zNAVQihBzAc\n2Ap4PG2pJEmSJEmSJCnDpFpsTcYYK4HjgHtijEOBTumLJUmSJEmSJEmZJdWerRUhhJOB04Gjavbl\npCeSJEmSJEmSpPoQY2Mn2LykurL1LGBP4KYY48wQQlfgr+mLJUmSJEmSJEmZJaWVrTHGycD5q23P\nBG5LVyhJkiRJkiRJyjTrLLaGECYC37rYOMbYu94TSZIkSZIkSVIGWt/K1iNr/v15zb9ftQ44lXUU\nYSVJkiRJkiQ1vmQMjR1hs7LOYmuMcRZACOHgGGPf1Q79KoQwHrgsneEkSZIkSZIkKVOkeoOsEELY\ne7WNvf6Hx0qSJEmSJEnSJi+lG2QBZwMPhBBaAgFYCvwkbakkSZIkSZIkKcOkVGyNMY4DdqkpthJj\nXJ7qF9ivtPw7Rts0FYVU69ubh0fzSho7wkalN00bO8JG5fzvL27sCNpIvfyC76WrG72jXX1Wt++k\nW6lYNKOxY2xUctp1a+wIkiRJ0mYhpZ9WQwh5wPHANkB2CNWNdWOM16ctmSRJkiRJkqQNEr1BVoNK\ndWnQv4DlwDigLH1xJEmSJEmSJCkzpVps7RJjPCytSSRJkiRJkiQpgyVSHDcmhLBzWpNIkiRJkiRJ\nUgZLdWXrPsCZIYSZVLcRCECMMfZOWzJJkiRJkiRJGyRpz9YGlWqx9fC0ppAkSZIkSZKkDLfOYmsI\noUWMcQVQ1EB5JEmSJEmSJCkjrW9l6+PAkcA4IFLdPuArEeiWplySJEmSJEmSlFHWWWyNMR5Z8+nb\nwH+A0THGT9OeSpIkSZIkSdIGi40dYDOTSHHcX4BOwD0hhBkhhL+HEC5IYy5JkiRJkiRJyigp3SAr\nxjgqhPAmsBswEDgX2Am4O43ZJEmSJEmSJCljpFRsDSG8DjQF3gFGA7vFGBekM5gkSZIkSZIkZZKU\niq3Ax0A/qlezLgeWhRDeiTGWpC2ZJEmSJEmSpA2SjGH9g1RvUm0jcCFACKE5cCbwINARyEtbMkmS\nJEmSJEnKIKm2ERgC7Ev16tbPgQeobicgSZIkSZIkSSL1NgL5wO+AcTHGyjTmkSRJkiRJkqSMlGob\ngTvSHUSSJEmSJEmSMlmqK1slSZIkSZIkZZjoDbIaVKKxA0iSJEmSJEnSpsBiqyRJkiRJkiTVA4ut\nkiRJkiRJklQP7NkqSZIkSZIkbaKSjR1gM+PKVkmSJEmSJEmqBxZbJUmSJEmSJKkeWGyVJEmSJEmS\npHpgz1ZJkiRJkiRpExUJjR1hs+LKVkmSJEmSJEmqBxZbJUmSJEmSJKkeZGwbgTYD+9DjxrMIWQkK\nH3udL+55ts7xkJvNDvf+gua9u1GxtIjJg++k9MuFhJxstvvNYJr36Q7JJNOuepBlYyaT1TSfvs/d\nUPv4vE5tmP/MaKZd/VADz+y7aT9wF3a64XRCVoIvHhvFtHufq3M8kZtNn3vOo1XvrpQvXcm4c+6m\n5MtFtccLtmzLAW/ewZQ7/s6M+/692gMD+71yM6XzljD2tN801HTq3ZnX/pS+A/tRVlLGfZf8npmf\nzFhjzOUP/5rWHVqTyM7i07GT+cvVw4nJJD++4gz6HbgblRWVzJ81j/uG3kPxilWNMIv6c8i1p9N9\n4C5UlJTzwiV/Yt4nn68x5oChJ7LzcfuS37Ipv+l19hrHex6+GycM+yUPHHkVhRNnNkDq9Mjq1Y/8\nE8+FkKBizMuUj3h6reOy++xNweCrWHXr+SS/mEr2bgPJPej42uOJLbtSfOsvSM5e87WVKb7ruQBI\nbLkN+SefD/lNICYpvu0CqKxoyPhpcfZ1g+lX895xz8V3M+OT6WuMufqRa2ndoQ1Z2Vn8d+wkhl81\njGQyyQ8vPJmDTz6UFYuXA/Do7Y8wftS4hp7CBmkzcBe2Xe1aO+uef9U5HnKz6XXvkNpr7aTBd9Vc\na7PYvuZaG5NJpl71EMvGTCZRkMtOf76Igm22IFYlWfzqOKbf+HgjzS69rrr5d7z59ljatG7Fs48O\na+w4kiRJkhpIZq5sTSTY9taz+fiUmxi774V0+MHeNNmuS50hnU4ZROWylby3xy+Y/acX6Hb1qdX7\nTz0QgA8OuJiPTrqB7teeASFQtaqUDw4cWvtROnsRC//9XoNP7TtJBHa+5SzeO+U2Ru13CZ1/sBfN\nttuyzpCtThlIxbJVjNzzQmb86UV2uOqUOsd7XXcaC0Z+uMZTd/u/wymaOiet8dOtz8B+dOzaiQv2\n/xl/vvyPnH3juWsdd9fPf8Olh1/IJQefT4u2Ldnz+3sBMHH0R1xyyPlcetgvKZw5l2PPO36tj88U\n3QfuQpuuHblv/4t58fK/cNiNZ6113GevTeDBY3691mO5TfMZcNZhzBk/LZ1R0y8kyP/hzym+92pW\n3XAO2f0PINFx6zXH5RWQM/AYqmZ+Wrur8v1RFN8yhOJbhlD68B3ExfMzutC6IeeCRIL8My+l9Il7\nKL7xXIrv+hVUVTVc9jTZdWA/Om/TmfP2O4f7LvsD59z0s7WOu+O827josPO54KCf06JNS/b6/t61\nx56//19cdPgFXHT4BRlXaCUR6Hnr2Xx0ys28V3utrXtt6XzKICqXreLdPc7nyz/9m+5X/7h6/6kH\nATD2gEv48KQb6XHt6RCq+0R9cd/zvLfPhbx/0KW03K0nbQb1adh5NZBjjziYYb+7sbFjSJIkSSTj\npvmxscrIYmuLXXtQMnMepbMWECsqWfDs27Q7rH+dMe0O2415T/0HgIXPv0vrfXYCoOl2XVj21icA\nVCxaQeWKVdWrXFdT0K0TOe1asPzd/zbAbDZc6749WDVzHsVfLCBWVDH32XfoeGjd89Hx0H7MfupN\nAApfeI/2NecDoONh/Sn+YgFFU2bXeUx+pzZ0OKgvXzw2Kv2TSKPdDh7Am8+8AcDUCZ/RtEVTWnVo\nvca4kpUlAGRlZ5Gdk02M1d+5H4/+kGRVsubxU2jbqW3DBE+T7Q7ux8fPjAZg7oRp5LdoQrMOrdYY\nN3fCNFYuWLbW59j/4hN4Z9jzVJaVpzVruiW22Y7kwrnExfOgqpLKcf8he5c91hiXd9TplL/6NLFi\n7fPN7r8/FeP+k+64abUh5yJrh34k58wkOadmhfOqIojJhoqeNgMO2YNRz4wE4LMJU2jaoimt1/fe\nkZtNZCO+6v8PWuzag+Laa20VC54dQ/vDdqszpt1h/Sl86g1gzWvt0jWutd1IlpSz7O1JAMSKKoom\nziS/c2a/p36b/n12pmWL5o0dQ5IkSVIDy8hia17HNpTNXVy7XTZ3CXkd6/6wltepDWVzqv9MPlYl\nqSwqJqdNc1ZOnkXbQ/sTshLkb92B5r27kfeNH/Q6HLs3C/81Jv0TqSf5nVpTstr5KC1cTH6n1t8Y\n06Z2TKxKUlFUTG6b5mQ1yaP7kKP47I5n1njeHW84nf/e8HjGF01ad2zD4rlft0xYPG8xbbZos9ax\nVzxyDcPHP0zJqhLeffGdNY4PPOkgJrwxPm1ZG0Lzjm1YsdrrZcW8JTTfYs0C0rfpuNM2tOjclmlr\nWQmdaRKt2pFcurB2O7l0EaFl3feDxFbdCa3bUfXJ+9/6PDn99qfy/TfSFbNBbMi5SHTYEmKkYMiN\nNLnsHnIPPqFBMqdb245tWVz4jfeOjmsvDP76r9fx0IRHKVlZwjv//vr6ccQZ3+fOV37PkN+cT9OW\nTdOeuT6tea1dTF7Huu+d1dfar68tVbXX2s9pV3utbU/z3t3I79yuzmOzWzSh3SH9WDJ6YvonI0mS\nJEkNZJ3F1hDCcev6aKiQ9Wne4yMpK1xMvxG30eOGM1n+/hRI1i0mdjh2b+b/8+1GydfQeg49gRnD\nX6KquKzO/g4H96V80QqWf5y5vTi/i5tPv45zdzuLnNwcdtpr5zrHfjDkBKoqq3jrn5m9gnGDhMBB\nV/2Y1258rLGTNIwQyDt+MGXP/PlbhyS26UksLyVZOKsBgzWCdZ2LrCyyuu9I6YO3U/zbS8jeZS+y\nem6afxr+ba4/7Rp+0v90cnJz2Hnv3gC8/NeX+Nm+g7nosAtYumApZ121Zu/jTVXh46MoLVxC/xG3\nsu0N1dfauNq1NmQl2HHYBXx5/0uUzlrQeEElSZIkqZ6t7wZZR63jWAT+sbYDIYTBwGCAi5rvylEF\n3b5bum9RNm9JndWoeZ3bUDZvcd0xhUvI27IdZYVLCFkJsps3oWJJEQDTf/1w7bi+L9xI8fTC2u2m\nvb5HyE6w8uPM6b1YWriUgtXOR36ntpQWLv3GmCUUdG5Lac35yGnehPIlRbTq24NOR+5Or6tPIadF\nE2IykiyrIL9jG7Y4ZFc6HNiHRF4OOc0K6Hvvz5kw5A8NPb3v5JDTD+fAHx0CwPSPp9J2tRVVbTu2\nZcn8Jd/62IqyCj4Y8R79DxnAxLc+AmD/Ewax64H9ueHktfcw3dj1O/1g+v5oIABzP55Bi9VeLy06\ntqFo/tJve2gdec3yad9zK0598ioAmrVvyYl/uZinz/5tRt4kK7lsETmt29duJ1q3Iy5f7b0kr4BE\n5+/R5MLbAQgtWlNw7jWUDLuu9sZQOf32p/KDzC/Ab8i5iEsXUTXtE+KqFQBUTnqfxFbdqZqSeauf\nDz/9CA4++VAApn08lbadvvHe8Y1rzeoqyioY++q7DDh4dz4a/SHLF33dhmPEE69w1YOZ9f6x5rW2\nLWXz6r53Vl9r29Zea7NWu9ZOW+1a2++FGyiePrd2u+dvz6F45jxmD38xzbOQJEmSpIa1zmJrjHHt\nd85ZjxjjcGA4wBtbnFjvzeuKJkyjoFsn8rfuQFnhEjocuzeTf3Z3nTGLXvmAjiftz4oPPqP9UXvU\n9o5LFORCCCSLy2i9X29iZRXFn33dq3SL4/ZhQYatal324XSadutIwdbtKS1cQudj92T8effWGTN/\nxDi6nLQfS8dNpdORu7OopmfemGOvqx2z3SXHU7mqlM8fGAHApzc/CUDbvXag+8+OzJhCK8CIR15i\nxCMvAdB3UD8OPeMIxjw3mm37bkdx0SqWLahbXMxrkk9BswKWLVhKIitB30H9+fT9yQDssn9fjj73\nB1x70pWUl2Zmj9Jxj7zKuEdeBaDHoD70P+MQJj/3Dp379qCsqORbe7N+U1lRCXf2/foGY6c+eSWv\n3/R4RhZaAZKzPiPRoTOh7RbEZYvJ7rc/pQ/e9vWA0mJWXfqj2s2CX95G2T/ury20EgLZ/fal+LdD\nGzh5/duQc5FcWFjdOiAnD6oqyNp2Z8pH/rMRZrHhXnrkRV56pLoA2G9Qf44440jeeu5Ntuvbk+Ki\nYpZ+470jv+a9Y2nNe0e/QbsxeWz1+2vrDq1rx+9x6J7MmpJZq5+LJkynSbdO5G/dvuZauxeTf/b7\nOmMWvTKOTicdwIoPptZca6vnXvdau3PNtbb6ZovdLvsh2c2b8OmFwxp8TpIkSdLmKElo7AiblfWt\nbK0VQvg+sCOQ/9W+GOP16Qi1PrEqydTL/0LvJ68kZCUofGIUxVNms82lP6Too+ksfuUD5j0+ku3v\n/QW7v3sPFctWMvmcOwHIbdeS3k9eRUwmKZ+3hP8OuafOc7c/ek8mnnJzY0zrO4tVST654iH2eOJy\nQlaCL5+9aizaAAAgAElEQVR4g5VTZtPz0hNY9uFM5o8YxxePv0Hfe89j0Dt3Ur5sJePPuWe9z7up\nmDByHH0H9uPuN4dRXlLGfZd8XSy47cU7+dURF5LfJI9L77+C7NwcEonApHc+4dVHXwbgJ9cPJjs3\nh6serS5MT50whfuvzNwiwbSRH9J9YB/Oe/N3VJSU88Ilf6o99tMXb+b+I64AYNDlJ7PjMXuRU5DL\nL969hw+fHMXou9a6mD1zJZOU/u0+mgy5ERJZVLwzgmThF+QeeRpVsz6jauJ763x4Vo+diEsXVd9U\nKtNtyLkoWUn5yH/Q5Fd3A5GqSe+vs8dtphg38gP6DezPfaOHU1ZSxj2XfP1Lvd+9dDcXHX4BeU3y\nufwvV5OTm00ikWDimI955dHqX/ScfsVZdO3VlRgjC2YvYNjlmfMLK6i+tnx2+QP0qbnWzn1iFKum\nzKbrpSdR9NF0Fr0yjsLHR9Lr3iHs8e7vqVy2kk/OuQuovtbu8uSVkExSNm8Jk4dU/wIwr1Mbtrnw\neFZ9NpvdXqsu5s9+4GUKHxvZaPNMl6HX3Mr7Ez5m2bIVHHjsqZx39mkcf9ShjR1LkiRJUpqFr+64\nvs5BIQwDmgADgfuBE4CxMcb1NqBLx8rWTFYUUq5vbxYezStp7Agbld5k1g100u387397uwdt3k5/\nwffS1f2irKCxI2xU9p10a2NH2OjktKvflk6SJGkNLh3URmvkFidtkrW5QfOf2ii/79Z5g6zV7BVj\nPB1YGmO8DtgT2C59sSRJkiRJkiQps6S6NOir5YfFIYTOwGKgU3oiSZIkSZIkSaoP0YXXDSrVYusL\nIYRWwG+A8UCkup2AJEmSJEmSJIkUi60xxhtqPn0mhPACkB9jXJ6+WJIkSZIkSZKUWVIqtoYQTl/L\nPmKMj9R/JEmSJEmSJEnKPKm2Edhttc/zgQOpbidgsVWSJEmSJEnaSCUbO8BmJtU2Ar9Yfbumf+uT\naUkkSZIkSZIkSRko8R0ftwroWp9BJEmSJEmSJCmTpdqz9Xkg1mwmgF7AU+kKJUmSJEmSJEmZJtWe\nrXes9nklMCvGODsNeSRJkiRJkiTVk0ho7AiblVSLrR8AJTHGZAhhO2DXEML8GGNFGrNJkiRJkiRJ\nUsZItWfrm0B+CGFLYARwGvBQukJJkiRJkiRJUqZJtdgaYozFwHHAH2OMJwI7pi+WJEmSJEmSJGWW\nlIutIYQ9gR8D/67Zl5WeSJIkSZIkSZKUeVLt2XoBcDnwzxjjpBBCN2BU+mJJkiRJkiRJ2lDJxg6w\nmUmp2BpjfJPqvq1fbc8Azk9XKEmSJEmSJEnKNCkVW0MI7YFLqe7Tmv/V/hjjoDTlkiRJkiRJkqSM\nkmrP1seAT4GuwHXA58D7acokSZIkSZIkSRkn1Z6tbWOMfwkhXBBj/A/wnxCCxVZJkiRJkiRpI2bP\n1oaVarG1oubfwhDC94G5QJv0RJIkSZIkSZKkzJNqsfXGEEJL4GLgHqAF8Mu0pZIkSZIkSZKkDJNq\nz9YTgRBj/CTGOBA4GPhB+mJJkiRJkiRJUmZJdWVr7xjjsq82YoxLQgh905RJkiRJkiRJUj2IhMaO\nsFlJdWVrIoTQ+quNEEIbUi/USpIkSZIkSdImL9WC6W+Bd0IIT9dsnwjclJ5IkiRJkiRJkpR5Uiq2\nxhgfCSF8AAyq2XVcjHFy+mJJkiRJkiRJUmZJuRVATXHVAqskSZIkSZKUIZK2bG1QqfZslSRJkiRJ\nkiStg8VWSZIkSZIkSaoHFlslSZIkSZIkqR6k3LP1u2qZV57uL5FRvqjKa+wIG5Xzy9L+Eswo7+Ta\nSGV1xZNLGjuCNlJtE+0aO4I2YmW3XtjYETYqeZfdScWiGY0dY6OS065bY0eQJEnSJspKlyRJkiRJ\nkrSJSuLCroZkGwFJkiRJkiRJqgcWWyVJkiRJkiSpHlhslSRJkiRJkqR6YM9WSZIkSZIkaRMVGzvA\nZsaVrZIkSZIkSZJUDyy2SpIkSZIkSVI9sNgqSZIkSZIkSfXAnq2SJEmSJEnSJirZ2AE2M65slSRJ\nkiRJkqR6YLFVkiRJkiRJkuqBxVZJkiRJkiRJqgf2bJUkSZIkSZI2UckQGjvCZsWVrZIkSZIkSZJU\nDyy2SpIkSZIkSVI9sNgqSZIkSZIkSfXAYqskSZIkSZIk1QNvkCVJkiRJkiRtomJjB9jMuLJVkiRJ\nkiRJkuqBxVZJkiRJkiRJqgcWWyVJkiRJkiSpHtizVZIkSZIkSdpEJRs7wGbGla2SJEmSJEmSNjkh\nhMNCCFNCCNNCCJet5XheCOFvNcffCyFss6Ff02KrJEmSJEmSpE1KCCEL+ANwONALODmE0Osbw84G\nlsYYewB3Ardt6Ne12CpJkiRJkiRpUzMAmBZjnBFjLAeeBI75xphjgIdrPv87cGAIIWzIF7VnqyRJ\nkiRJkrSJSm5Q6TCjbQl8udr2bGD3bxsTY6wMISwH2gKLvusXdWWrJEmSJEmSpIwSQhgcQvhgtY/B\njZ0JXNkqSZIkSZIkKcPEGIcDw9cxZA6w1WrbXWr2rW3M7BBCNtASWLwhuTaJYmvz/fvS5dr/I2Ql\nWPzkq8z/4zN1jjcd0Isu1/yUgh224fMhd7DsxTG1x3I6t2Pr24eQ26kdEZhxxvWUz17QwDOoH7td\nfxpbDupDVUkZb184nCWffL7GmDY7b8Ped55DVn4uc0Z+yPu//isA/a46mS4H9yVZXknRrAW8fdFw\nKlYUk9e6GfsPP5+2u3Rj+lNvMvaqRxp4Vhuu1cA+dLvhLMhKMP+x15lz77N1jrfYYwe6Xn8WTXt9\njynn3sniF94FoOmO29Dttv8ju3kTYlWS2Xc/w6J/jVnbl8g4g647ja4D+1BZUsZLFw9nwVpeK/sM\nPZFex+9Dfsum/H6Hn9bu7zKgJwOvOY32O2zFC0Pu5bMX32/A5PUvd8AAmg8ZAllZlPz73xQ//nid\n4wVHH03BscdCMkksKWHFHXdQNWsWuf360WzwYMjJgYoKioYNo2LChEaaRf34rucitGhBq+uuI3v7\n7Sl9+WWK7r67kWZQ/06+5ifsPLAv5SXlPHDJvXwxaWad47n5uZz7x4tp/72OJKuSfPz6Bzxz22MA\n/PDqM+m554414/Jo0a4l5/c+o8HnsCHaDNyFbW88i5CVoPCx15l1z7/qHA+52fS6dwjNe3ejYmkR\nkwbfRemXCwk5WWz/m8E079OdmEwy9aqHWDZmMgDdLv8RHU/cj+xWzXiz2+mNMa16l9WzL3nH/B8k\nElS89yoVo+r+f0h2/0HkHXkmyeXV/89W8faLVI59tTGiNpqrbv4db749ljatW/Hso8MaO44kSZI2\nD+8D24YQulJdVP0RcMo3xjwHnAG8A5wAjIwxxg35oplfbE0k2OrGc5j242uoKFxMz+fvYPmrYymd\n+nVLhoq5i5h18d1scc4P1nj49+78JfPvfZqi0R+RaJJPTCYbMn292XLQLrTo2pFn97mYdrt2Z/db\nzuSlo65dY9wet5zFO5fez6Lx0znwr0PpPLA3c0d9zNw3JzL+lr8Rq5LsesUP2XnIUYy/+W9UlVbw\n4e1/p9X2XWjVs0vDT2xDJRJ0u+WnTDrpesoLl7DLy7eyZMQHlHw2u3ZI2ZxFTL3gD2x53tF1HlpV\nUsbUX9xD6cx55G7Rml1G3M7SUR9StaK4oWdRr7oO3IXW23TkL/tdTKe+3Tn4pjN57Jhr1xg3/bXx\nTHj4Vc7+zx119q+Yu5iXLv4Tu51zRAMlTqNEguYXXMCySy6hauFC2gwbRtnbb1M1a1btkNLXXqPk\nuecAyNtrL5r//Ocsu/RSksuXs+yKK0guXkxW1660vv12Fp14YmPNZMNtwLmI5eWsfOABsrt2Jbtr\n18aaQb3b+YC+dOjaiSsO+AXd+m7LqTcN5uZjL19j3Ct/fo4p70wiKyebix+7hp0O6Msnb0zgbzc8\nVDtm0BmHs/WOGXZuEoGet57NhJNupGzuYvq/cgsLX/mA4s++/kVw51MGUblsFe/ucT4djt2L7lf/\nmEmD76LzqQcBMPaAS8hp14JdHr+CDw69HGJk0YhxzP7Ly+zx7u8ba2b1KyTI+8E5lAy/hrh8MQUX\n3EHl5LHE+V/WGVbx0VuU/3Ndv3TftB17xMGccvzRXHHDHesfLEmSpHqVZPNs2lrTg3UI8AqQBTwQ\nY5wUQrge+CDG+BzwF+CvIYRpwBKqC7IbJON7tjbpsy1ln8+j/Iv5xIpKlj4/mpaHDKgzpnz2Ako/\nnbVGITV/260I2VkUjf4IgGRxKbG0vMGy16etDu3H9L+/BcCi8dPJbdmUgg6t6owp6NCKnOYFLBo/\nHYDpf3+LrQ/rD0Dhm58Qq6rPz8Lx02nSqQ0AlSVlLHj/M6rKKhpqKvWqed8elM6cR9kXC4gVlSx8\n9m3aHLpbnTFlXy6k+L9rvj5KZxRSOnMeAOXzl1KxaDk5bVs0WPZ06XFIPyY9U/1aKZwwnbwWTWn6\njdfKV8dWLVi2xv4Vsxex6NMvickN+kXPRiFn++2pmjOHqsJCqKykdORI8vbeu86YWPx1cT3k50PN\nL7gqp00jubh6lVrVzJmEvLzqVa4ZakPOBaWlVEycSCzPzPfPb9PnkN145x9vADBjwlSaNG9Cy/Z1\nv1fKS8uZ8s4kAKoqKvli0gxad2y7xnMNOHofxj73Vtoz16cWu/ageOY8SmctIFZUseDZMbQ/rO77\nZ7vD+lP41BsALHz+XVrvsxMATbfrwtK3PgGgYtEKKlesonmfbgCsGDeV8rW8t2SqxNbbklw8j7hk\nPlRVUvnhaLJ3HLD+B25m+vfZmZYtmjd2DEmSJG1mYowvxhi3izF2jzHeVLPv1zWFVmKMpTHGE2OM\nPWKMA2KMMzb0a2Z8sTW3Y1vK5359g7DywsXkbLHmD7prk9e1M1UrVtH1T5fR88U76XzFmZDIzFPS\npGNriud+3VKiuHAJTTq2XnNM4ZJ1jgHo8aP9mDPq4/SFbUC5ndqs8frIqykk/y+a9e1ByMmm9PP5\n9RmvUTTr2Jqiwq9fK0XzltBsLa+DzUGifXuSCxfWbicXLiSrffs1xhUceyxtH3uMZueeS9Hv11yN\nl7f//lRMnQoVmflLCai/c7EpabVFW5as9r66dN4SWq2lkPqVghZN2OXA/vz37brvn222bEe7rTrw\n3zGfpC1rOuR1bEPZavMvm7uYvI513z/zOrWhbE71mFiVpKqomJw2zVk5+XPaHdqfkJUgf+v2NO/d\njfzO7Ro0f0MJLdsSl319nYnLFhNarvk6yd55Twouupv8039FaLlpngtJkiRJ62kjEEK4aF3HY4y/\nq984DStkZ9Fst158esSFlM9ZSNc/DKXNiYNY8rfXGjtao9n5/KOJlUlm/uPtxo6y0cjp0Irt7vkF\nn51/79cr+bRZKXn2WUqefZb8Aw+k6WmnseLWW2uPZW2zDc0GD2bZ0KGNmLDhrOtcbM4SWQkG//5C\nXn/oRRZ9Wbfv94Cj9mHci+9kbJua76Lw8VE02bYL/UfcSunshSx/f8pmNf9vqpz8PpUT3oSqSrL3\nOJS8ky+gdNjVjR1LkiRJUhqsr2frV3/v1RPYjeqmsQBHAWO/7UEhhMHAYIArW/fm+GbbbFjKdSif\nt5jc1VbL5HZqS8X81G4aVl64iOLJMyn/onq14rIR79G0b8+MKbb2POMgtv3xQAAWfziDJp2/XknT\npFMbiuctrTO+eN7S2vYAaxvT/aR96XJQX0acdEuakzec8sIla7w+ylZb3bs+Wc0K6PXoFcy69QlW\njp+ajogNos/pB9H75OrXyryPZ9C809evleYd27DyG6+VzUVy4UISq63eTLRvT9Vqqzu/qXTkSJpf\neGGd8a1uuIEVt9xC1dy5ac2abht6LjYVA087jH1PPhCAzz+aTpvV3ldbd2zDsnlrv76cfsu5LJhZ\nyGsP/HuNYwOO2pvHrr4/PYHTqGzeEvJWm39e57aUzav7/llWuIS8LavfV0NWgqzmTahYUgTAtF8/\nXDuu3ws3UDw9s79Hvk1cvpjQ6uvrTGjVlrj8G6+T4qLaTyvfe5W872fWjdIkSZIkpW6dfzMfY7wu\nxngd0AXYNcZ4cYzxYqAfsPU6Hjc8xtg/xtg/nYVWgOKPppLXtRO5W3Ug5GTT+qh9Wf7qt9aBv/HY\naWS3aEp2m+o+nM336l3nxlobuykPv8YLh1zJC4dcyRevjKP7CfsA0G7X7lSsKKbkGz3xShYso6Ko\nhHa7dgeg+wn78OUr4wDofEBvdvzZkYw883dUZWjf2rUp+nAaBd06kbd19euj/bF7s2TE+yk9NuRk\ns/2Dl7Lg6f+w+IV305w0vT585DUeOfxKHjn8Sqa9Mo4dj69+rXTq252youK19mbdHFRMmUJWly4k\nOnaE7GzyBw2ibMyYOmOyttyy9vPcPfagak71zYFCs2a0uuUWVg4fTsUnmfXn4WuzIediUzLqry9z\n/RFDuf6IoUwYMZY9jzsAgG59t6WkqJjlC9f8Xjn24h9R0LwJT17/4BrHOnbvTJOWTZk+fkq6o9e7\nognTadKtE/lbtyfkZNHh2L1Y9MoHdcYsemUcnU46AID2R+3B0req+9cmCnJJNMkDoPV+OxMrq+rc\nWGtTkvxyKol2nQhtOkBWNtl99qVqUt3/DwnNv27VkrXjAJILZn/zaSRJkqS0iZvox8YqxBT+LDqE\nMAXoHWMsq9nOAz6OMfZc32MnbH1M2uffYmA/trzmbEJWgsV/e5359z5Nx4tOoXjiNFa8OpYmvXvQ\n9c+Xk9WyGbGsnIqFy/j0oF8A0HzfXdjyqp9AgOKJ0/nysj8SKyrTlnViVfpuDjHgpjPY8oDeVJaU\nM+ai4Sz+eCYAR464iRcOuRKAtr27stedg8nOz2XOqI8Ye9UjABz71m/JysumbOlKABaOn8Z7l1UX\nDo57905ymhWQyM2mfEUxr518K8un1s8Kpe5VpfXyPOvS+sC+dL3+LMhKsOCJkcy++x9sfekPWfnh\ndJaM+IBmfbqz/QOXkt2qKcnSCioWLmPC/hfS/vh96XHXzyme8nUBftoFf2DVpM/TlvWd3Py0Pffq\nDrzhDLoe0JuKknJevmQ482teK6e/dBOPHF79Wtnvih+xwzF70WyLVqycv4yJT77BmDv/Qcfe3Tjm\nz78kv2UTKssqWLVwOQ8ddFlacp7WLf0Fidzdd6f5kCGQSFD60kusevRRmp51FpVTplA2ZgzNhwwh\nt18/YlUVsaiIFXffTdXnn9P0tNNoesopVK5WcFx6ySXEZZlbuP6u5wKg3ZNPEpo0gZwc4sqVLL3k\nEqpmzUpb1is/b5iel6dc/1N22r8P5SVlPDj0j8yaWH2DwV+/+BuuP2IorTu24TfvDqdw2mwqyqt7\n9o56+GVG/+11AI7+5Unk5OXwzG2PpTdnSXr6jbc9sC/b3nAGISvB3CdGMeuuf9L10pMo+mg6i14Z\nRyIvh173DqHZzl2pXLaST865i9JZC8jfqj27PHklJJOUzVvCpxcOo3R2dV/T7lf/mC2O24e8jq0p\nm7eUwsdGMvOOp+s194DTyur1+dYna/t+5B1zNoQEFe+/TsXrT5N76ClUfTmNqsljyT38NLJ2HADJ\nKmLxSsqeuY+4sOGKz3mX3dlgX+vbDL3mVt6f8DHLlq2gbZtWnHf2aRx/1KGNlienXbdG+9qSpE3W\n5nm7d2WERzufujHXJr+zU+c+ulF+36VabL0SOAn4Z82uY4GnYow3r++xDVFszSTpLLZmooYotmaS\nhiq2ZoqGKLYqMzVUsTVTpKvYmqkauti6sdsYiq0bG4utkqQ02CiLPhJYbG1o6+vZCkCM8aYQwkvA\nvjW7zooxTkhfLEmSJEmSJEnKLCkVW2s0AVbEGB8MIbQPIXSNMc5MVzBJkiRJkiRJGya5Ua7/3HSl\n9HeHIYRrgF8Bl9fsygEeTVcoSZIkSZIkSco0qTZ5+wFwNLAKIMY4F7D5qCRJkiRJkiTVSLXYWh6r\n76QVAUIITdMXSZIkSZIkSZIyT6o9W58KIfwJaBVC+D/gJ8Cf0xdLkiRJkiRJ0oZKNnaAzUxKxdYY\n4x0hhIOBFUBP4NcxxlfTmkySJEmSJEmSMsh6i60hhCzgtRjjQMACqyRJkiRJkiStxXp7tsYYq4Bk\nCKFlA+SRJEmSJEmSpIyUas/WlcDEEMKrwKqvdsYYz09LKkmSJEmSJEkbLDZ2gM1MqsXWf9R8SJIk\nSZIkSZLWItUbZD0cQigAto4xTklzJkmSJEmSJEnKOOvt2QoQQjgK+BB4uWa7TwjhuXQGkyRJkiRJ\nkqRMklKxFbgWGAAsA4gxfgh0S1MmSZIkSZIkSco4qfZsrYgxLg8hrL4vmYY8kiRJkiRJkupJMqx/\njOpPqsXWSSGEU4CsEMK2wPnAmPTFkiRJkiRJkqTMkmobgV8AOwJlwOPAcuCCdIWSJEmSJEmSpEyT\n6srW78cYrwSu/GpHCOFE4Om0pJIkSZIkSZKkDJPqytbLU9wnSZIkSZIkaSOR3EQ/NlbrXNkaQjgc\nOALYMoTw+9UOtQAq0xlMkiRJkiRJkjLJ+toIzAU+AI4Gxq22vwi4MF2hJEmSJEmSJCnTrLPYGmP8\nCPgohPB4jLECIITQGtgqxri0IQJKkiRJkiRJUiZI9QZZr4YQjq4ZPw5YEEIYE2N0daskSZIkSZK0\nkdqY+5tuilK9QVbLGOMK4DjgkRjj7sCB6YslSZIkSZIkSZkl1WJrdgihE3AS8EIa80iSJEmSJElS\nRkq12Ho98AowLcb4fgihGzA1fbEkSZIkSZIkKbOk1LM1xvg08PRq2zOA49MVSpIkSZIkSdKGi6Gx\nE2xe1llsDSFcGmO8PYRwDxC/eTzGeH7akkmSJEmSJElSBlnfytb/1vz7QbqDSJIkSZIkSVImW2ex\nNcb4fM2/DzdMHEmSJEmSJEnKTCn1bA0hPM+abQSWU73i9U8xxtL6DrapylqjGcPmbW7Ia+wIG5UK\n+6jUkbeFJ+QrMembx+pWzaxs7AgbleyQ09gRNipZfXs3doSNSiwvaewIG5WQW0DFohmNHWOjktOu\nW2NHkCRJ2mSkVGwFZgDtgSdqtn8IFAHbAX8GTqv/aJIkSZIkSZI2RLKxA2xmUi227hVj3G217edD\nCO/HGHcLIUxKRzBJkiRJkiRJyiSJFMc1CyFs/dVGzefNajbL6z2VJEmSJEmSJGWYVFe2Xgy8FUKY\nDgSgK3BeCKEp4M2zJEmSJEmSJG32Uiq2xhhfDCFsC2xfs2vKajfFuistySRJkiRJkiRtEHu2NqyU\n2giEEJoAQ4EhMcaPgK1CCEemNZkkSZIkSZIkZZBUe7Y+SHVv1j1rtucAN6YlkSRJkiRJkiRloFSL\nrd1jjLcDFQAxxmKqe7dKkiRJkiRJkkj9BlnlIYQCIAKEELoDZWlLJUmSJEmSJGmDxcYOsJlZb7E1\nhBCAYcDLVPdqfQzYGzgzvdEkSZIkSZIkKXOst9gaY4whhKHAAcAeVLcPuCDGuCjN2SRJkiRJkiQp\nY6TaRmA80C3G+O90hpEkSZIkSZKkTJVqsXV34MchhFnAKqpXt8YYY++0JZMkSZIkSZK0QZLe4r5B\npVpsPTStKSRJkiRJkiQpw6VUbI0xzkp3EEmSJEmSJEnKZInGDiBJkiRJkiRJmwKLrZIkSZIkSZJU\nD1Lt2SpJkiRJkiQpwyQbO8BmxpWtkiRJkiRJklQPLLZKkiRJkiRJUj2w2CpJkiRJkiRJ9cCerZIk\nSZIkSdImyp6tDcuVrZIkSZIkSZJUDyy2SpIkSZIkSVI9sNgqSZIkSZIkSfXAnq2SJEmSJEnSJio2\ndoDNjCtbJUmSJEmSJKkeWGyVJEmSJEmSpHqwSbQRaL5/X7pc+3+ErASLn3yV+X98ps7xpgN60eWa\nn1KwwzZ8PuQOlr04pvZYTud2bH37EHI7tSMCM864nvLZCxp4Bt9NvxtOY8tBfagsKeOdC4ezdOLn\na4xps/M27HnXOWTl5zJn5IeMu/qvAOS2aso+w4bQtEt7Vs1eyFvn3EP58mI67LkD+z94ISu/XAjA\nly++zyd3Plv7fCEROOzlGygpXMobZ/y2Qeb5v9piYG/6Xn8aISvBjMffYMq9z9c5nsjNZsDvf0br\n3ttQtnQl755zD8WzF5Hbuhl7/vkC2vTpxud/e5MJVz4MQFZBLnsOP5+m22xBrEpSOGI8E2/+WyPM\nrP4cfO1pdB/Yh4qSMl64ZDjzP/l8jTH7DT2RnY/bh/yWTfltr5/W7u/740HsevrBxKok5cWlvHT5\nX1g8dW4Dpq9f2bvsRsGZQyCRRfnIf1P2ryfqHM896CjyDj0WkkliaQnFw39Lcs4syMqmYPBFZHfr\nCTFS8tA9VE7+qJFmUT+y+wygyVnV56Ls9X9T9uzjdY7nHnw0+YcdS0wmobSEVX+6g+TsWZCdTZPB\nF5PdvScxmaTkwXupnPxhI82ifp1x7U/pM7Af5SVl3HfJ7/n8kxlrjLns4V/TqkNrsrKz+HTsZB64\nejgxmeSUK85g1wN3o6qikvmz5jFs6D0Ur1jVCLNIj9YD+9D9hrMIWQnmPfY6X977bJ3jLffYgW7X\nn0mzXt/jv+fexaIX3m2kpOnx9rRCbn/lQ5LJyA/6duUn++ywxphXJn3Jn/4zCQJst0Urbj1uDwDu\neu0jRk8tBGDwfr04dMetGzR7Orw1djy33fsAVVVJjvv+Qfz0lOPqHJ87bwG/vv0PLFm+gpbNm3HL\nlRfQsX07xk6YyO1/eLB23Mwv5nD7ry/iwH12b+gpNKirbv4db749ljatW/Hso8MaO44kSZLqUeYX\nWxMJtrrxHKb9+BoqChfT8/k7WP7qWEqnflk7pGLuImZdfDdbnPODNR7+vTt/yfx7n6Zo9EckmuRX\nFxEyQOdBu9Cia0ee2/ti2u7anQG3nMkrR167xrjdbj2Ld4fez+Lx0xn46FA6D+zN3FEfs+OQo5j3\n1mnLnWwAACAASURBVGQm3/s8vYYcRa8hR/HhTdUFxIXvTfnWQmrPnx7GiqlzyWlWkM7pfXeJwK43\nn8mbP7yF4sIlHPTSDcwdMZ6iz+bUDul68gGUL1/FS3tdzFbH7EHvq07m3XPvoaq0gk9uf5qW229F\ny55d6jztlPteZOGYyYScLPZ/+go6DtqFeSMzs7DWfeAutO7akWH7X0znvt057MYzefjYa9cYN+21\n8Yx7+FXOfeOOOvsn/esdJjw2EoAeB+3KQVedyt/OuL0hote/kKDgJxew6qahJBcvpPktw6j4YEx1\nMbVG+duvU/5adcE+u99eFJx+Hqtu+RW5Bx4JQNHQswktWtH08ttYecW5EDO0G04iQZOzL2DlDZeQ\nXPLVuXi7uphao/yt1yh/9TkAcvrvRZMzfs7Kmy4lr+ZcrLj4J4QWrWh25W0UXZbB56JGn4H96Ni1\nExfu/zN69N2Os288l6uPvXSNcXf//DeUrCwB4JfDfsUe39+Ld55/i4mjP+LJ2/5KsirJyZedzjHn\nHc8Ttz7S0NNIj0SCHreczcSTbqCscAl9X76FxSM+oPiz2bVDSucs4rML/kCX845uxKDpUZVMcstL\n4xl26v5s0aKAH9//Gvv37Ez39i1rx8xaXMQDb/+Xh84aRIuCXJasKgXgzc/m8t/CZfztnEOoqExy\n9iOj2LtHJ5rl5TTWdDZYVVUVN939Z4b/5ho6tm/Lj869lIF77Ub3bbaqHXPHsIc56pADOOawgbw3\nfiJ3//kxbrniAgb03Zm/3/87AJavKOKIU3/OXv37NNZUGsyxRxzMKccfzRU33LH+wZIkSRsoGRo7\nweYl49sINOmzLWWfz6P8i/nEikqWPj+alocMqDOmfPYCSj+dtUYhNX/brQjZWRSNri6aJYtLiaXl\nDZZ9Q3Q5tB8z/v4WAIvHTye3ZVPyO7SqMya/QytymhewePx0AGb8/S26HNb/68c/Nbp6/1Oj2apm\n/7oUdGrDlgf2Ydrjb9TfROpZm77dWfn5fFZ9sZBYUcWX/3qXLQ/tV2dM58P68flTbwIw+4WxdNh3\nRwCqSspYPPYzqkor6oyvKiln4ZjJAMSKKpZN/JyCTm0aYDbpse3B/fjkmerXztwJ08lr0ZSm33jt\nfHVs1YJla+wvrykqAeQ2ySNmcKvtrB7bk5w/l+SCQqiqpHzMSHJ227vuoJLi2k9DXn5tATGry/eo\n/GQCAHHFMuKqlWR169lg2etbVo/tSc6bU30uKiupeHskuf2//Vyw2rlIdPkelZ+MB1Y7F90z91x8\npd/BAxj9zBsATJvwGU1aNKVVh9ZrjPuq0JqVnUV2Tjax5rxMHP0hyarq687UCVNo06ltwwRvAM37\n9qBk5jxKv1hArKhk4bNv0/bQuteRsi8Xsuq/XxCTmfse8W0+mbOErVo3o0vrZuRkZXHojlvzxpS6\nK/z/MX4GP+zfgxYFuQC0aZoPwIxFK+j3vXZkJxIU5GazXYdWvD1tXoPPoT5N/HQaW3fuxFadO5KT\nk8Phg/Zh1Ntj64yZ8flsdt91ZwAG9N1pjeMAI/7zDvsM6EtBfl6D5G5M/fvsTMsWzRs7hiRJktIg\npWJrCOH1VPY1htyObSmfu6h2u7xwMTlbpPYDbV7XzlStWEXXP11GzxfvpPMVZ0IiM+rPTTq2pnju\n4trt4rlLaNKx9ZpjCpesdUx+uxaU1hTSShcsI79di9px7fr14IhXb2Lgo0Npud2Wtfv7X3cqE258\nYqP+wbmgYxuK56x2Xgr/n737jo+izv84/prd9AJk00MNVVF6laJUKYqiqGdvKKDCCWIDVOzys52K\nnords3Ced8rpKU0QRJpUKUqv6ZW0Tdud3x8bQkKNspvNwvvpIw+zO9+Z/Xw/zMxuPvud72QTfFRe\nguMisCe78mI6nJTlFRFgC6vR9v3rhRA/uDPpP212X9C1LDwugrwq+05+ajbhsccWkE6m882DGLf0\nJfpPuZYF0313pJ7FFoUz68i0Ic6sDCwRUce0C7h4JOGvfkLwDWOxfzgTAMe+Xfh37QUWC5boOPya\nt8YSGVNrsbubxRaNMyuj8rEzOwMjMvqYdoFDRlJv5qeE3DiOovdfAw7nojdYrFhi4rA2b+PTuTjM\nFmcjq8r7S3ZqFrbY43/R8vDH03lr3UcUF9pZ9d2KY5b3u2YQG39c57FYa1tgvI2SKueRkpRsAs6g\nYvKppOfbiasfUvk4tl4w6fn2am32ZeezLyufW97/gZveW8jPO13TBrSOdRVX7WXl5BSV8MvedNLy\nivBl6ZlZxMUc+fePjY4kLTO7WpvWLZqxcKlrKokfflpFYZGd3EP51drMXbyM4QP7ej5gEREREREP\nOmll0TCMIMMwbECUYRgRhmHYKn6aAQ1Ptq4vMPyshHVrS9IzH7BtxGQCm8Riu3qAt8PyisNX+2Zv\n2svX3Sfy3eBpbHt/Phe+PwmAhoM6UpyZR/Zx5oU9WxhWCz3eHM/O9+ZRuD/j1CucwdZ9vJC3LpzM\n4hmz6T1hpLfD8bjS+V+Tf++N2D+bRdCVN7meW/xdxdQDbxN8y3jKt28Gp8PLkXpeybyvyZtwA0Wf\nvk3QqIpcLPrelYv/e5vgW8fj2LYZfGRKFneZcfMT3N3tNvwC/Dm/V7tqy0aOvwpnuYNlXy3xUnTi\nDQ6nyf7sAt69pT8zruzJk9+uIa+4lF4t4ujTKp5b3l/Ew/9eSftGkViMM/+6rvvvuoU1v27h6jsn\ns2bjFmKibFisRz6GZmRls2P3fnp1O/OnEBARERGRM9up5mwdC0wEEoC1wOG/BvKA10+0kmEYY4Ax\nANMi2jMqrNlpB3oipalZBCQcGYkWEB9JWVrWSdaosm5KJkVb91C6Pw2A3PmrCO3Uhux/LvRIrKer\n9a2DaHFDfwCyN+wmJOHIKJKQBBtFqTnV2hel5hBS5XL3qm2KM/MIimngGtUa04CSrDwAyqtcIp68\naCPdnruVQFsY0d1a0+jiziQM7IA10B//8GB6zbyL5RPe9Fh//wx7ajYhDavkJd6G/ai82FNzCE6w\nYU/JxrBa8K8XQml2wSm33eWF0RTsTmXHO3PdHrendb55EB2vde07Kb/upl6VfSc8zkZ+Ws6JVj2p\nrf9dyZCnb3NLjN7gzM6sNgLTEhmNMyfzhO3Lli8i5I6JFSs7Kf747xRXLAt7ciaOlIMnXLeuc2Zn\nYKkyktVii8bMOvGXCmU/LyL0zkkUvQE4Hdg/eqNyWfjTr+NIOXDCdeuywTcPY8C1FwOw+9cdRFZ5\nf7HFRZKdln2iVSkrKWPt/FV0ubg7m5a5pqe58KoBdBrYlWeue8yzgdeykpRsAqucRwLjbZSm1Oy9\n90wQEx5M6qEjo1HT8uzEhFefyzy2XjDnN4zE32qhYUQYTW3h7M8q4PyGNu7s25Y7+7YF4OH/rKRp\npG9fTh4TFUlq+pF//7SMLGKjbEe1sfHKkw8BUGS3s2DpCuqFhVYun7d4OQP69MDfz/dvJyAiIiIi\nZ7eTjmw1TfNV0zQTgftN02xummZixU8H0zRPWGw1TXOWaZpdTdPs6slCK0DRxh0EJsYT0DgGw9+P\niBF9ObTg2HnAjr/uTvzqheJnc11CH96rfbUba9U12z9cyPeDp/H94GkcmLuW5lf1ASCycwtK84oq\npwU4rDg9l7J8O5GdWwDQ/Ko+HJy3FoCD89fR/BrXpXrNr+lb+XxQlZt7RHZsjmExKMkuYMNzX/BV\n178yp8cklt31BmnLtta5QitAzobdhCXGEdI4GsPfSuPLe5Jc0bfDkueto9k1FwLQ6NLupC/bcsrt\nnvfQ1fjXC2HDY//wSNyetu7jhbw/fBrvD5/G9vlrOX+Ua99J6NSCkvyi487NeiIRzWIrf285oCM5\ne313rkHHrt+xxDXEEh0HVj8Ceg2gbM3yam0scUcG8ft16okjpeJmawGBrnlLAb92XcDpqHZjLV/j\n2LkNS3wjLDFx4OeHf+8BlJ4kF/6dT5CL9l0wHY5qN9byJQs+/p4pwycxZfgk1sxfRd9R/QBo2ak1\nRfmF5KZX/2IiMCSoch5Xi9VCpwFdSd7lykuHizoxYtwVvDj6WUp9ZD7wmsrfsJPg5vEENXG990aP\n7E3W/DXeDqvWnNfQxv7sApJyCihzOJi3ZT8XtU6o1qZ/m4as2euapiSnqIR92fk0igjF4XSSW1QC\nwPa0XHak5XJBi9hjXsOXnH9OS/YlpXAwJY2ysjK+X7SMfr26VWuTcygPZ8WI93c//Q9XDBtYbfn3\ni35i+MA+tRaziIiIyNnEeYb+1FU1Gj5gmuZMwzB6Ac2qrmOapvcna3Q4OfjoLFr843EMq4Wsf/5A\n8fYDxN13PUWbdpK3YDUh7VuS+M4UrPXDqD+oG3H3XcfvgyaA00nSMx/Q8vOnwICiTbvI+ny+t3tU\nI8k/bKDhwA5ctvwlHPZSVkyaVbls2IJn+H7wNAB+mfIhF7wyBmtQAMmLN5K8yDXaasvr39D3rQm0\nuPYiCpMyWTbWNQ9lk0u70+rmgZjlDhzFZSy7641jX7wOMx1O1k/9kAs/fwjDamHP7CXkbU/ivAdG\nkb1xDynz17Hn8x/pPvMuhi1/idLcQlaOm1m5/vDVr+AfFowlwI+EoV1Zet0MyvPttJ04krwdSQye\n/wwAOz+Yz57PfvROJ0/TrkUbaNG/A+OWvkSZvZT/3X9k37n9u2d4f7hr3+k/5VraXt4L/+AA7ln5\nGhtn/8iyV/5Dl1suplmf83CWOSjOK+Tb+972VldOn9OJ/f3XCJ36PFgslP74Pc6Dewm6+jbKd2+j\nfO1yAodc4SqmOspxFuZT9PcZAFjqN3CtZ5o4szMpfP05L3fmNDkdFL33KmHTXnDlYnFFLv5yG45d\n2yhbs5zAYVfg385VTDUL8iv7bKkfQdgjz4PTlYuimc96uTPusX7RWjr278IrS9+ixF7C2/e/Vrns\nue/+xpThkwgKCeT+d6fiH+CPYTHYumIzCz9xjX6/9ckx+Af4M/WTJwDYuX4b7017yyt9cTuHk51T\n3+P8z6dhWC2kfr6Yom0HafrgX8jfsIvs+WsI69iC895/AL8GoUQO7kLTB65h7UX3eTtyt/CzWHh4\nWGfu+nQpTtPk8o6JtIypz98Xb6ZtQgT92jSkV4s4VuxK48q/z8ViMZg0qAMNQgIpKXdw+4eLAQgN\n9OOZK3rg5yPzxZ+In9XK1L/ewbgHn8ThdHLFsIG0TGzC6+9/znltWtC/d3d+2bCZV9/5FMOALu3b\nMu3eMZXrJ6Wmk5qRRdcO53mxF7Xrgekz+GX9r+Tm5jFw5I3cPfomRo0Y4u2wRERERMQNjMN3TT5p\nI8P4B9AC2AAcnpTQNE3zr6dad32Ty+vu3ZS8YGu5b18q6G4BNdj/ziY7A878efv+iLt6Jnk7hDqj\nLt+YzhvuXt3A2yHUKXeV+Hs7hDql20vneDuEOsXa/1pvh1CnGAHBp250lvGPau7tEEREzgT6Y07q\nrBlNbzwj/6B8eN8ndfK4q+nEWF2BtmZNKrMiIiIiIiIiIiIiZ6GaFls3A3FAigdjERERERERERER\nETfSyMnaVdNiaxSw1TCM1UDJ4SdN07zMI1GJiIiIiIiIiIiI+JiaFlsf92QQIiIiIiIiIiIiIr6u\nRsVW0zSXeDoQEREREREREREREV9Wo2KrYRj5HJniIQDwBwpN06znqcBERERERERERETk9Dg1a2ut\nqunI1vDDvxuGYQCXAz09FZSIiIiIiIiIiIiIr7H80RVMl6+BIR6IR0RERERERERERMQn1XQagSur\nPLQAXYFij0QkIiIiIiIiIiIi4oNqVGwFRlT5vRzYi2sqAREREREREREREamjnN4O4CxT0zlbb/N0\nICIiIiIiIiIiIiK+rEZzthqG0cgwjK8Mw0iv+Pm3YRiNPB2ciIiIiIiIiIiIiK+o6Q2yPgD+CyRU\n/HxT8ZyIiIiIiIiIiIiIUPNia7Rpmh+Yplle8fMhEO3BuERERERERERERER8Sk2LrVmGYdxoGIa1\n4udGIMuTgYmIiIiIiIiIiMjpMc/Qn7qqpsXW24FrgFQgBbgKuNVDMYmIiIiIiIiIiIj4HL8atnsS\nuMU0zRwAwzBswIu4irAiIiIiIiIiIiIiZ72ajmxtf7jQCmCaZjbQyTMhiYiIiIiIiIiIiPiemo5s\ntRiGEXHUyNaarisiIiIiIiIiIiJe4PR2AGeZmhZMXwJWGIbxr4rHVwPPeCYkEREREREREREREd9T\no2KraZofG4axBhhQ8dSVpmlu9VxYIiIiIiIiIiIiIr6lxlMBVBRXVWAVEREREREREREROQ7Nuyoi\nIiIiIiIiInKGchrejuDsYvF2ACIiIiIiIiIiIiJnAhVbRURERERERERERNxAxVYRERERERERERER\nN9CcrSIiIiIiIiIiImcoJ6a3QziraGSriIiIiIiIiIiIiBuo2CoiIiIiIiIiIiLiBiq2ioiIiIiI\niIiIiLiBx+ds/b08zNMv4VMCTM2TUVW54e0I6pbGZd6OoG5Z/mOst0OQOqpXgKYcr2q/vjqtJvjB\nzd4OoU6Jib3X2yHUKaZTHz6qarjwbcoyd3s7jDrFP6q5t0MQERERH6a/VkVERERERERERM5QGvZX\nuzQWRkRERERERERERMQNVGwVERERERERERERcQMVW0VERERERERERETcQHO2ioiIiIiIiIiInKGc\n3g7gLKORrSIiIiIiIiIiIiJuoGKriIiIiIiIiIiIiBuo2CoiIiIiIiIiIiLiBpqzVURERERERERE\n5AzlxPR2CGcVjWwVERERERERERERcQMVW0VERERERERERETcQMVWERERERERERERETfQnK0iIiIi\nIiIiIiJnKM3YWrs0slVERERERERERETEDVRsFREREREREREREXEDFVtFRERERERERERE3EDFVhER\nERERERERERE30A2yREREREREREREzlBObwdwltHIVhERERERERERERE3ULFVRERERERERERExA1U\nbBURERERERERERFxA83ZKiIiIiIiIiIicoZyYno7hLOKRraKiIiIiIiIiIiIuIGKrSIiIiIiIiIi\nIiJuoGKriIiIiIiIiIiIiBtozlYREREREREREZEzlGZsrV0a2SoiIiIiIiIiIiLiBiq2ioiIiIiI\niIiIiLiBz00j0Pmpm0kY0AGHvZSVk94mZ9PeY9pEtGtGz1fGYQ3yJ3nRRtY9+jEAAQ1C6f3WBEIb\nRVN4MINlY1+j7FBR5Xq2Ds0Z/M3jLL/rdQ78bzUAHR+5joSBHcFikLp0c+W26prY/u3p9ORNGFYL\nuz/7kW2vf1NtuSXAj+6v3UVE+2aU5BSwcuxMig5mEhARxgXv3IutY3P2/nMp66d9BIA1OIALZv2V\n0GaxmA4nKfPXsenZf3qhZzXniX2j6RW9aHvPCDAMygrtrHn4A3K37gdgxKpXKC8oxnQ6cZY7mD/s\n0drs7h/W9ambaDigI+X2ElZMmkX2cfJja9eMC14Zi19QAEmLNrDm0X8A0OTS7rSffCX1WyXw/fDp\nZP+6B4DIjs3p8cJoAAzg15e+4sDcNbXVpT8lqn8H2j59C4bVwoFPF7F75n+rLbcE+NH+9Xuo3z6R\nspwC1o95FfuBDADC2zbh/BfuwC8sGEyTn4dMw1lSRuspf6Hh1Rfi3yCU+c1v9UKv/rw/m4/gxtFc\n+NNLFO5KBiB37Q42P/geAPGXX0CLiSMxLBbSF6xn29Of1Xq/TseFT9xE04pjZeF9s8jYvPeYNtHt\nmjHoZdexsm/RBpZOdx0rQ/8+ngbN4wEIrBdCSV4Rs4dOw+Jvpf+M0cS0TwSnk6XTPyFp5W+12a0/\nzRPnjtBGUYxY8jx5u1MAyFy7k9UPf1BrfXKHev060eTJ0RgWCxmfLyT1jf9UWx7Woy1NnridkHOb\nsevul8j534rKZV33f4n9d9d7SUlSBjtve65WY/eEoF7dsN1/N1gtFHz1PXkfzq62PPyGUYRdMRwc\nDhw5uWQ98SKOlHQArHExRD56H35x0ZgmpE+YiiMlzRvdcJvgXl2xPXg3WFz5OPRB9c9Q9W4cRdgV\nwyrycYjMx6vmI5qo6ZOxxkaDaZI+YRrlyb6dj1N55NmXWfrzamwRDfj6k7e8HY6IiIjIafGpYmv8\ngA6EJ8bxbe/JRHZuSdfnbmPBpdOPaddtxu2sfuBdstbt5KJPHiS+fwdSFm+k7fjLSF22hd9e/4Zz\nx4+g7fjL2PiM648Bw2LQcdq1pC7ZVLmdqK6tiOrWmu8HPgzAoK+nE3PBuaSvqGN/IFsMOj97K0v/\n8hxFKdkM+v4pkuevI397UmWTxOv6UXqokO97Tabx5T1p/8h1rBw3E0dxGZuf/xf1z2lM/TaNqm12\n25vfkbF8K4a/lYv+NZW4AR1IXbSxtntXI57aNwoPZLBw1FOUHSoivn8Huj0/utp2f7j6aUqzC2qz\nq39KQkV+5vSeTFTnFnR/7lbmXvr4Me26z7iNVQ+8S+a6XfT/5AES+rcnefGv5P5+kKV3vEqP/7u9\nWvvcbQf5fuijmA4nwTENuGThMxxcsA7T4aylnv1BFoPzZtzO6mueoTg5i97zniV93loKqhwrja7v\nT3luAUt6TiR+5AW0efR6Nox5FcNqocMb97DxnjfI37of/4gwnGXlAKTPX8u+9+Zx0cpXvNWzP+c0\n8gFQtC+NZRXnx8P8I8I457Eb+PniKZRm5dP+tbuI7Hs+WT9trtWu/VlN+3egQWIc/+g7mdhOLej3\n7K3867LHj2nX/9nbWPTgu6St38VlHz9A037t2ffjr8y9+/XKNn0evZ6SPNcXeudd3x+AzwdPITiy\nHpd9/AD/vPQxMOv27EmeOncAFOxL47vB02qhFx5gsdD0mTFsv+5xSlOyaPvd8+TOX03xjoOVTUqT\nMtgzaSZx4y4/ZnVncSlbLr6vNiP2LIsF20MTSL/7IcrTMoj/5A3sS5ZTtmd/ZZPSbTtJvfFuzOIS\nwq4aQcS9Y8h8+GkAop58iEPvfUrxqnUYwUF1/rg4JYsF25QJpI17iPK0TBI+fZ2iJSso210lH7/v\nJOWGezCLSwi/+lJsE+8k46FnAIh++iFy3/2M4pVnSD5qYOTwwVw/6jKmPvWit0MRERE5I9XRv9DP\nWCedRsAwDIthGL1qK5hTaTSkC3u//AmArHU7CagfQlBMg2ptgmIa4B8eTNa6nQDs/fInGg3tAkDD\nIZ3Z84Vr/T1fHHkeoPXtQzjw3S8UZ+ZVPmeaJtZAfywBflgC/TH8rRRnHPJoH/8MW6cWFOxNo3B/\nBmaZgwNzVtJwSJdqbRKGdmHvF0sBOPjtamL6ngeAw15C1urtOIrLqrV32EvJWL4VALPMQe6mvQTH\n22qhN3+Op/aNzDU7Kkc/Z67bQUgdzsHJNB7ShT1fLgMgc90uAuqHEnxUfoIr8pO5bhcAe75cRuOh\nXQHI25lM3q6UY7brsJdWFlYtgf51/u/BBp1bUrQnFfu+dMwyBylfLye2oo+HxQ7tysGKYyX1m1VE\n9XEdK1H92pO/dT/5FSOby3IKwOnqcO7anZSk59ZiT9zjdPJxIiFNYyjck0ppVj4AmUs3E3dJd890\nwAOaX9yF3/7tOlbS1u8isF4oIUcdKyExDQgICyZtvetY+e3fy2g+pOsx22p5aQ+2z3GNZrS1asjB\nn7cAYM/KoySviNgOiZ7silt46tzh60I7taJkbwol+9Mwy8rJnrOMiCHV9/PSgxnYf9tXeZ44kwWc\n34byg8mUJ6VAeTmF834kuF/vam1K1mzELC5x/b7pN6wxUQD4JzYBq5XiVesAMO3Fle18VeD5bSg/\nkEx5UmplPkL6Vf84XVw1H7/+5hrFCvg3r8jHyjMnHzXRtWM76tcL93YYIiIiIm5x0mKraZpO4I1a\niuWUguNsFCZnVT4uSs4mJC6iWpuQuAiKUrKrtQmOcxXIgqLqU1xREClOzyUoqn7FdiNoNKwrOz5a\nWG1bWWt3krZ8KyPXv8HI9W+Q+uOv5O1M9kjfTkdwnI2ipCp5Sckm+Ki8BMdFYE925cV0OCnLKyLA\nFlaj7fvXCyF+cGfS6/DINE/tG1W1uK4fKYurjOw1Tfp//jBD5j5Nixv6u7M7bhccF1EtP4XJx99H\nqubneG2OJ7JTCy5dPINLFz3H6oc+qLujWoGgOBvFVfJgT84mMK56AT0o3kZxxfFkOpyU5dvxt4UT\n2iIeTOg2ewq9FzxH83tG1GrsnnA6+QAIbhJN74XP0eOrx4jocQ4AhXvSCG0RT3DjaAyrhbhhXQlq\nGFlLPTp9oXERFFTJSUFKNmFHHQdhcREUVD1WUrIJPapNQo82FGUe4tBe16W/mVv3kzi4M4bVQr3G\n0cS0a0ZYfN3PiyfPHWFNohk+/2kG/3sa0d3buC/oWhAQZ6M0ObPycWlKFv5xNf/3tAQG0Pa7Fzj3\nmxk0GOI7X0aciF90FOWp6ZWPHekZWGNOnI+wkUMp/vkX17pNG+EsKCD6xenEf/YWDSaOAYtv31LA\nGhNFeWpG5ePytMzK4vLxhF0xDPsy1/RV/k0b4cwvIPql6cTPfpOISXf6fD5EREREzjY1mUbgB8Mw\nRgH/Mc26Pm7tD6roTecnbmLDM7OPuUwrrFks9VomMKfLBAD6z55CdPdfyVi9rbYj9RrDaqHHm+PZ\n+d48CvdnnHqFM8VRe3pMr7Y0v64fC0c+WfncwpFPYk/NITCyHv1nP0zezhQyVv1ey4F6X9b6XXzb\n/2HqtUyg16tjSVq8EWdJ2alX9DGG1UpEjzb8PGQaDnsJPb58hEO/7vGZy+PdrSQth8Wdx1OWU0C9\n9ol0+fB+frrwfsoPFbLloffoNOteTKeTnF+2E9Is1tvh1rrWl1/AjjlH5ujc+s8lRLRK4C//e4r8\npExS1u7AdNbdLyY8zZ6ey3+6TaQ0pwBbu2Zc9MEkvu33MGUFdm+HVis29hhDWWo2gU1iafPFzSXG\n3wAAIABJREFUk9h/30/JvlRvh1UrQocPJLBtG1LvcE2jYFitBHVsR8r14yhPTSNqxqOEjbiYgjlz\nvRxp7XDlozUpoye7nrBaCerUjuRrx1Gemk70/z1C2GUXU/D12ZEPERERkTNBTYqtY4H7gHLDMIpx\n3QfHNE2z3olWMAxjDDAGYHT97gwMafmnA2x16+DKUYNZG3YTmhDJ4bEkIQk2ilJzqrUvSs2pdql3\nSIINe6prxE1x5iGCYhq4Ri7GNKA4yzUlgK1DIr3eHA9AoC2chIEdcDochCfGkbVuJ+VFrsu3khdv\nJKprqzpXbLWnZhNSZeRYSLwN+1F5safmEJxgw56SjWG14F8vpEZzjXZ5YTQFu1PZ8U7d+5BfG/sG\nQINzG9P9xTtYcuPzlOYcydnhHJdk5XFw7hoiOzWvU8XW1rcOouVR+TlcLg9NOP4+UjU/x2tzMnk7\nkykvLKZBm0aVN8Gpa4pTswlKOHKsBCfYKEnNrt4mJZughpEUHz5WwoMpy86nOCWL7BW/UZbtujw+\nY+EG6rVr5tPF1tPJB4Cz1HU85P26h6K9rhGthzbuJn3+OtLnuy6BbXzTwDo92hmg3S2DOO8617GS\nvnE3YVVyEhZvo+Co46AgNYewqsdKvI3CKm0Mq4UWQ7sxe/iRm+aZDifLnvi08vFVXz1Gzu66eXl9\nbZw7nKXllFbsP9mb9lKwN53w5nF19txxtNLUbAISjoxUDIiPpCw16yRrVFdWcZyV7E8jf8VmQs5P\n9Olia3lGJn5xMZWPrTHRONKPzUdQ987UH309qXdMhjLXl3Ll6ZmUbt/pmoIAsP/4M4HtzgUfLrY6\n0jPxi4uufOwXG4UjPfOYdkE9OlH/jutJHX0kH460TEq37XJNQQAULV5OYPtzQcVWEREREZ9xyuuS\nTNMMN03TYppmgGma9Soen7DQWrHOLNM0u5qm2fV0Cq0AOz5cwNzBU5k7eCpJc9fQ7Kq+AER2bklZ\nnr3y0u/DitNzKcu3E9nZ9brNrurLwXlrAUiav47Ea1zrJ17Tl6R5rmLANz0n8U2PiXzTYyIHvl3N\nmikfkjR3LUVJWcRccC6G1YLhZyWm5zkc2pFEXZOzYTdhiXGENI7G8LfS+PKeJFf0+bDkeetods2F\nADS6tDvpy7accrvnPXQ1/vVC2PDYPzwS9+mqjX0jpGEkfd6dyMq/vkn+7iN/CFuDA/ELDar8Pe6i\ndhz6/SB1yfYPF/Ld4Gl8N3gaB+euJfGqPgBEdW5BaV4R9qPyY6/IT1TnFgAkXtWHA0ftR0cLrbhU\nHCC0YST1WiZQeLDujoA+tH4Xoc3jCG7iOlbiR/Yi7ag+ps9bS6OKYyVuRA+yKo6VjMW/En5uEyzB\nARhWC7Ze51a7kZQvOp18BESGg8UAILhpDKHN4yja57pkPiDK9RbhVz+UprcO5uCni2urS3/Kpo8W\nMnvoNGYPncbueWs5d5TrWInt1ILS/CKKjjpWitJzKS2wE9vJdaycO6oPu+cfyVvjvueTsyuZwiqF\na7+gAPyCAyuXOx1OcnbUvWlpoHbOHYG2cIyK/SesSTThibEU7E8/6Tp1SeGGHQQmxhPQOAbD3w/b\n5X3Imf9Ljda11g/FCHB91+0XEU5Yt3Owbz/gyXA9rnTLNvwaN8QvIQ78/Agd0g/7kuXV2vi3aYlt\n2kTSJz6GMye32rqW8DAsDVzT9wR160jp7n21Gr+7lWzZhl+T6vkoWrKiWpuANi2IfOTYfJRs2YYl\nPBRLREU+unekzMfzISIiIt5nnqH/1VVGTWYGMAwjAmgFBB1+zjTNpTV5gc8TbnBr77s8eyvx/drj\nsJeyatLblaNghi54lrmDpwJga59Ij1fGYg0KIGXxRtZO+wiAgIgwer81gdCGURQmZfLz2NcozS2s\ntv0efxtL8sL1HPjfagyLQdfnbiO65zlgQsrijayvMjLpz/Dz0L4QN6ADHZ+8CcNqYc/sJfz+6hzO\ne2AU2Rv3kDJ/HZZAf7rPvIuI85tSmlvIynEzK6cFGL76FfzDgrEE+FF6qIil182gPN/Opetmkrcj\nCWeJ647rOz+Yz57PfnRr3OWG+7bliX2j+4t30Hh4dwqTXCNSnOUO5g97lNAm0fR9bxIAFj8re79a\nztbX5px2Hxy4MSFH6fbsLST0a0+5vZQVk2ZV5mf4gmcq7whua59Ir1fGYA0KIHnxRn6Z9jEAjYd2\npevTNxMUGU5pXhE5W/ax6PrnSRzVm/PGj8BZ7gCnya9/+4qDc09eZPkjbI5yt23rsOiBHWn71C1g\ntXDw88XseuVrWj14tWtE5ry1WAL96fD6PdRr14yy3ALWj30N+z5XEShhVB9a/NV1Z/H0hevZ9tRn\nALR59HoSruxNUFwExak5HPx0MTte/NLtsXvCn81H3CXdafXg1ZjlDkynyY4X/lU5mrXjWxMIb9sU\ngJ0v/5uUr1ecLIQ/ZVdATS7M+HMuevoWmvZrT5m9lB8mzyK94li5du4zzB7qOlZi2icy6OUx+AUF\nsG/xRpY8+nHl+oNeHkPqup1s/mRR5XPhjaK4/JOHMJ1OClNz+OGBd8hPqvlIyFOJcLhtU8fwxLmj\n8fBudHhgVOW5Y+OL/yZpwXq3xdzGKDx1o9NUf0BnmjwxGiwWMv/5AymvfUnC/ddRtHEnuQt+IbRD\nS1q+9xDW+mGYJWWUpeewecC9hHVtQ9MZd4HpBMNC2rvfkDn7B4/GGhOb79HtAwT17o7t/rvBYqHg\nv3PJe+8z6o+7hdKt27EvXUHMm88T0DIRR6Zrvy9PTSdj0mOudXt0JuK+cYBB6W/byXr6b1Du/vP/\nYabTc++1hwX36Y7tgbtc+Zgzj0PvfkaDu26hZOt27EtWEPvW/xHQKhFHputLmfKUdNInVuSjZ2ds\n940Fw6D0tx1kPunZfDRc+LbHtl1TD0yfwS/rfyU3N49IWwPuHn0To0YM8Vo8/lHNvfbaIuLTPP8G\nI/In/bXZX+puZfI0vLb3n3XyuDtlsdUwjDuAe4FGwAagJ7DCNM0BNXkBdxdbfZ2niq2+yp3F1jOB\nJ4utvsgTxVY5M3iy2OqLPFls9UW1UWz1JbVRbPUltVFs9SV1odha16jYKiJ/kt5gpM5SsbV21eT2\npvcC3YB9pmn2BzoBuSdfRUREREREREREROTsUpOhQcWmaRYbhoFhGIGmaf5uGEYbj0cmIiIiIiIi\nIiIip6Vu37L4zFOTYutBwzAaAF8DCwzDyAE0U7+IiIiIiIiIiIhIFacstpqmeUXFr48bhrEYqA/M\n9WhUIiIiIiIiIiIiIj6mRncYMQyjD9DKNM0PDMOIBhoCezwamYiIiIiIiIiIiIgPOWWx1TCM6UBX\noA3wAeAPfAL09mxoIiIiIiIiIiIicjqcmN4O4axiqUGbK4DLgEIA0zSTgXBPBiUiIiIiIiIiIiLi\na2pSbC01TdMEVxncMIxQz4YkIiIiIiIiIiIi4ntqUmz9wjCMt4EGhmHcCSwE3vFsWCIiIiIiIiIi\nIiK+pSY3yCrFVWDNwzVv62OmaS7waFQiIiIiIiIiIiJy2jRja+2qycjWGOA5oCmuoutCj0YkIiIi\nIiIiIiIi4oNOWWw1TfMRoBXwHnArsMMwjGcNw2jh4dhEREREREREREREfEZNRrZScYOs1IqfciAC\n+NIwjOc9GJuIiIiIiIiIiIiIzzjlnK2GYdwL3AxkAu8CD5imWWYYhgXYATzo2RBFRERERERERERE\n6r6a3CDLBlxpmua+qk+apuk0DONSz4QlIiIiIiIiIiIip8upW2TVqlMWW03TnH6SZb+5NxwRERER\nERERERER31SjOVtFRERERERERERE5ORUbBURERERERERERFxg5rM2SoiIiIiIiIiIiI+yOntAM4y\nGtkqIiIiIiIiIiIi4gYqtoqIiIiIiIiIiIi4gYqtIiIiIiIiIiIiIm6gOVtFRERERERERETOUCam\nt0M4q2hkq4iIiIiIiIiIiIgbqNgqIiIiIiIiIiIi4gYqtoqIiIiIiIiIiIi4geZsFRERERERERER\nOUM5vR3AWUYjW0VERERERERERETcQMVWERERERERERERETdQsVVERERERERERETEDTw+Z+uoNVM9\n/RI+5asuz3o7BKnDAk3T2yHUKW3js7wdQp1hWLRvVJWYH+DtEOqUf5VGeDuEOiWh2N/bIdQp/lkh\n3g6hTjFNw9sh1Ckr2j/q7RDqlKt+fYqyzN3eDqNO8Y9q7u0QRETkNJno78napJGtIiIiIiIiIiIi\nIm6gYquIiIiIiIiIiIiIG6jYKiIiIiIiIiIiIuIGKraKiIiIiIiIiIiIuIHHb5AlIiIiIiIiIiIi\n3uH0dgBnGY1sFREREREREREREXEDFVtFRERERERERERE3EDFVhERERERERERERE30JytIiIiIiIi\nIiIiZyinaXo7hLOKRraKiIiIiIiIiIjIWcMwDJthGAsMw9hR8f+I47RpahjGOsMwNhiGscUwjHE1\n2baKrSIiIiIiIiIiInI2eRj4wTTNVsAPFY+PlgJcYJpmR6AH8LBhGAmn2rCKrSIiIiIiIiIiInI2\nuRz4qOL3j4CRRzcwTbPUNM2SioeB1LCOqjlbRUREREREREREzlCasfW4Yk3TTKn4PRWIPV4jwzAa\nA/8DWgIPmKaZfKoNq9gqIiIiIiIiIiIiPsUwjDHAmCpPzTJNc1aV5QuBuOOsOq3qA9M0TcMwjluT\nNk3zANC+YvqArw3D+NI0zbSTxaViq4iIiIiIiIiIiPiUisLqrJMsH3SiZYZhpBmGEW+aZophGPFA\n+ileK9kwjM1AX+DLk7XVnK0iIiIiIiIiIiJyNvkvcEvF77cAc45uYBhGI8Mwgit+jwD6ANtOtWGN\nbBURERERERERETlDOTVr6/HMAL4wDGM0sA+4BsAwjK7AONM07wDOBV6qmGLAAF40TXPTqTasYquI\niIiIiIiIiIicNUzTzAIGHuf5NcAdFb8vANr/0W1rGgERERERERERERERN1CxVURERERERERERMQN\nVGwVERERERERERERcQPN2SoiIiIiIiIiInKGMnWDrFqlka0iIiIiIiIiIiIibqBiq4iIiIiIiIiI\niIgbqNgqIiIiIiIiIiIi4gaas1VEREREREREROQM5fR2AGcZjWwVERERERERERERcQMVW0VERERE\nRERERETc4IyYRmDZ6nX83+vv43A4ufKSQdxx/ZXVlienpvPY82+QfSiP+uFhPDftXuKio1i9fhPP\nv/FBZbs9+5N4/rH7GNinR2134Q+L69+eTk/ehGG1sPuzH/n99W+qLbcE+NHjtbuIaN+M0pwClo+d\nSdHBTADOnXAZidddhOlwsv7Rj0n9cRMA3V6+k4TBnSjJzGNu/4crt3XBWxMIbxEPQED9EEoPFTF/\n8NTa6egf0Pmpm0kY0AGHvZSVk94mZ9PeY9pEtGtGz1fGYQ3yJ3nRRtY9+jEAAQ1C6f3WBEIbRVN4\nMINlY1+j7FARDYd0of0DV2GaJs5yB+um/4PM1dsrt+cXFswlPz7PwXlrWDvto9rq6h8Se9S+su04\n+0r3in2lJKeAlRX7SkBEGBe8cy+2js3Z+8+lrK/onzU4gAtm/ZXQZrGYDicp89ex6dl/eqFnpy+4\nV1dsD94NFgsFX33PoQ+q96PejaMIu2IYOBw4cg6R+fiLOFLSAbDGRRM1fTLW2GgwTdInTKM8Oc0b\n3XCboF7dsN1/N1hd+cj7cHa15eE3jCLsiuEV+cgl64mq+Ygh8tH78IuLxjQhfcJUHCm+nY+jhfbt\nQuwjYzGsFnK/mEfWrH9VW2677QoaXDMEs9yBI/sQyVNeoTw53UvResaQx2+mVf8OlNlLmXP/26Ru\n3ntMm/4PXE37K/sSXD+UGW1HVz7f4aoLGTT1OvJTcwD45eP5rJ/9Yy1F7h62/h1o9fRtGFYLKZ/+\nwL6Zc6otNwL8aPv6eMLbN6csJ58tY16h+EAGhr+Vc14YQ3jHFphOJzse+ZDc5VsB6PD5VAJiG2BY\nrRxa9TvbHn4XnKY3undawi/qTMPpd2BYrWTNnk/6m/+utjy0+3k0nH4Hwec0Y++EFzj03XIAwi5o\nR8NHj+wngS0asW/CCxyav6pW43e38Is60ejxOzGsFrJmLyDt70fnoy2Npt9B8LnN2Dv+RXKr5uOx\n2yvbBbVoxN7xL/pUPjzxeewwW4fmDP7mcZbf9ToH/rcagA7TriVhYEcAtrzyNfv/u9LznfSwR559\nmaU/r8YW0YCvP3nL2+GIiIjIH+TzI1sdDgfPvPoOf5/xCHM+fJXvf/iJXXsPVGvz4lsfMeLifvzn\nvb8x7uZrePWdTwHo3qkdX777Ml+++zLvvfwEQUGB9Ora0Rvd+EMMi0GXZ29l6Q3PM/eiB2k68gLq\ntW5YrU3z6/pReqiQ73pNZtus7+nwyHUA1GvdkCaX92Ruv4dYev3zdHnuNgyLAcDeL35i6fXPH/N6\nK8bNZP7gqcwfPJWD//uFg9/94vlO/kHxAzoQnhjHt70ns/rB9+j63G3Hbddtxu2sfuBdvu09mfDE\nOOL7dwCg7fjLSF22hW/7TCZ12Rbajr8MgLSfNvP9oCnMHTyV1ffNoseLd1bbXvsHryJ91e+e7dzp\nsBh0fvZWfqrYV5qMvIDwo/aVxIp95ftek9kx63vaV+wrjuIyNj//LzY++dkxm9325nfM6/sACwZP\nJbJ7a+IGdKiV7riVxYJtygTS7plK0pV3EDq0P/7Nm1RrUvr7TlJuuIfka8ZStHAptolH/v2jn36I\nQx99QfKVo0m5cTyO7Nza7oF7WSzYHppA+oSpJI8a7cpH4lH52LaT1BvvJuUvYyha+BMR946pXBb1\n5EPkffwFyaNGk3rTPThzfDwfR7NYiHv8bg7c8Ri7ho2j3qUXEdCycbUmxVt3seeKe9kz4h7y5i0j\n9sHbT7Ax39SyfwciE+N4/aLJfDvlPS55+vjn2e0L1/Pe5Y8dd9mWb1cya/hUZg2f6nOFViwGbWaM\nZuP1z7Kq7yRiruhNyFHn04TrB1CeW8jKnn/lwNv/o8WjN7iev3EQAKv73c+Ga56m5eM3g+F67918\n59/4ZcCDrL5oMv6R9Yi57ILa7Zc7WCw0emosu295gt8H3UPEZRcS2Kr68VGWnMH+ya+SM2dJtecL\nVmxi2/CJbBs+kZ3XPYKzuIS8petrM3r3s1ho/PRYdt3yBL8NHE/EZX0JOiYfmeyb/Co5c5ZWe75g\nxSa2DZvEtmGT2Hntoz6XD099HgPX59+O064ldcmmyucSBnbE1q4ZcwdPZf4l0zln3HD8woI928la\nMHL4YN56+WlvhyEiImcQJ+YZ+VNX+XyxddPvO2mSEE/jhDj8/f0ZNqAPi39eXa3N7r0H6dG5HQDd\nO51/zHKA+UtW0Kd7J4KDAmsl7tNh69SC/L1pFO7PwFnmYP+clTQc0qVam4ShXdj7hesD/MFvVxPb\n9zwAGg7pwv45K3GWllN4IIP8vWnYOrUAIGPl75TkFJz0tRuP6MH+r5d7oFenp9GQLuz98icAstbt\nJKB+CEExDaq1CYppgH94MFnrdgKw98ufaDTUlbeGQzqz5wvX+nu+OPJ8eVFJ5frWkEBM88jBHNGu\nGUHR9at96K9rbJ1aUFCxr5hlDg7UYF+JqdhXHPYSslZvx1FcVq29w15KRsWILLPMQe6mvQTH22qh\nN+4VeH4byg8kU56UCuXlFM77kZB+vaq1KV6zEbPYtQ+U/PqbaxQruIqyVivFK9cBYNqLK9v5qoDz\n21B+MJnypJTKfAT3612tTUnVfGz6DWtMFICrKGu1UrzqzMnH0YLbt6Z0XzJlB1KhrJy8/y0lfGD1\noljRql8r+23f8Dt+cVHeCNVj2gzuwsZ/u86TSet3ElgvhLCjzrOHlxWkn2HFdqBe55YU7UmleF86\nZpmD9K+XEz20W7U2UUO7kvLFjwBkfLOSiD7nAxDauhE5yzYDUJaZR3leIeEdmwPgKLADYPhZsQT4\ngVl3PzSeSEjHVpTsTaH0QBpmWTk53/xE/cHVrxIqPZhO8e97Tzpqt8Hw3uT9uBazuNTDEXuWKx+p\nlO6vko+Lu1dr48rHPkzniW9X0eCSXuQtXudT+fDU5zGA1rcP4cB3v1CcmVf5XL3WDUlf+Tumw4nD\nXkLubweI79/eo32sDV07tqN+vXBvhyEiIiJ/Uo2LrYZh9DIM43rDMG4+/OPJwGoqPTOLuJjIysex\n0ZGkZWZXa9O6RTMWLnVdUvTDT6soLLKTeyi/Wpu5i5cxfGBfzwfsBsFxNuxJWZWPi1KyCY6LqNYm\nJC6ComRXHkyHk7K8IgJsYQTHRVCUfGRde3I2wXE1K5RF9zyH4sxDFOype5cGB8fZKKzSr6LkbEKO\nl5OU7GptDvc9KKo+xRXFgeL0XIKi6le2azS0K5csfYGLPn6AVffNcj1pGHSafgPrjzPqsy4JjrNR\ndIp9JTguAvtx9pWa8K8XQvzgzqT/tNl9QdcSa0wU5akZlY/L0zIri4fHE3bFMOzLXF/U+DdthDO/\ngOiXphM/+00iJt0JFt/+7sovOory1COXvDvSM7BWObceLWzkUIp/do1y92vaCGdBAdEvTif+s7do\nMHGMz+fjaH5xkZSnZFY+LkvNxC/2xPlpcNUQCpauqY3Qak14nI28KufZ/NRswmMjTrLGsc4d1o2x\nc5/jqjfvpZ6PfUkTGGejpEr/S5KzCDzq/TMw3kZJxTnXdDhx5BfhbwunYOteooZ0xbBaCGoSTXj7\n5gQlHDnfdJg9lT5b3qG8wE76N753CbR/XCRlVY+PlEz84058fJxIg8v6knvUSE9fFBAXSWnykXyU\npmThf5LzxYlEjOhLzn99Kx+e+jwWHBdBo2Fd2fHRwmrbyt26n/j+HbAGBxBgCyO2V1tCE/54rkVE\nRETcqUZ/DRuG8Q/gRaAP0K3ip6sH43Kr+++6hTW/buHqOyezZuMWYqJsWKxHup6Rlc2O3fvp1a3u\nTyHgTU1GXsD+r1Z4O4zaUWXgzcG5a/jfhQ/w0+1/o/2DVwPQ6tZBpCzaiD0l+wQbOPMZVgs93hzP\nzvfmUbg/49Qr+LDQ4QMJbNuaQx9VzNFptRLUqR05L79Nyg334NcwnrDLLvZukLXIlY82HPr4CwAM\nq5Wgju3I+dssUm6625WPEWdPPo5W77L+BLdrRfa7X3o7lDpl+8J1vNZ7Im8PncLunzZx+cvjvB1S\nrUn5bDHFKdl0nT+DVk/dyqFftlUb0bjx2mf5uf1YLAH+laNhzzZ+MREEt2nqU5fMe5JfTARB5zQl\nb8lZno+Kz2Odn7iJDc/MPmbkd+qSTST/sIHB/32c3n8fT+baHZiOE48WFhEREakNNb1BVlegrWnW\n7No2wzDGAGMA3vi/6dxx49V/MrxTi4mKJDX9yDfoaRlZxEbZjmpj45UnHwKgyG5nwdIV1AsLrVw+\nb/FyBvTpgb+fb9wvzJ6aTXDDI9/ah8TbsFfccOSwotQcQhJs2FOyMawW/OuFUJpdgD01h5Aq3/gH\nJ9iwp566YGhYLTQa3o35Qx5xX0dOU6tbB9Pihv4AZG3YTWhCJIfHkYQk2Cg6Xk6qjKQKqdL34sxD\nBMU0cI2iiGlAcdahY14vY9XvhDWJIcAWRlSXVkT3aEPLWwbhHxqExd+P8sJiNtaxG0XZU7MJOcW+\nYk/Nce0HR+0rp9LlhdEU7E5lxztz3R53bXCkZ+IXF1352C82Ckd65jHtgnp0ov4d15M6ejKUuaZU\ncKRlUrptl2sKAqBo8XIC258LX/tmLgDKMzLxi4upfGyNicZR5dx6WFD3ztQffT2pdxzJR3l6JqXb\nd7qmIADsP/5MYLtzYY7v5uNo5alZ+MUfGYnoHxdFedqx+Qnp1ZGou//Cvusfwiwtr80QPaLrzYPp\nfK3rPJv8627qVXn/CI+zkZ+Wc6JVj2HPPXJeWT97MYOmXOe+QGtBSWo2gVX6H5gQSclR758lKdkE\nNoykpOJ8ag0PoSzbdSXNzseO3ESxy7dPUbQrudq6zpIyMuf+QvTQbuQsrbvT0xxPWWoW/lWPj/go\nylKPPT5OpsElfcidtxLKHe4Or9aVpmYRUGXkckB8JGXHOV+cTMSlvTnkI/mojc9jtg6J9HpzPACB\ntnASBnbA6XCQNHctW1+bw9bXXDeru+CNe8jbneLJ7oqIiPgksw7Pb3omqul1npuBuJpu1DTNWaZp\ndjVNs6snC60A55/Tkn1JKRxMSaOsrIzvFy2jX6/qc6jlHMrDWTGC5N1P/8MVwwZWW/79op8YPrCP\nR+N0p+wNuwlPjCO0cTQWfytNLu9J0ry11dokz1tHs2suBKDRpd1JW7YFgKR5a2lyeU8sAX6ENo4m\nPDGO7PW7TvmasReeT97O5Do1knPHhwuYO3gqcwdPJWnuGppd5ZoGIrJzS8ry7JWXoR1WnJ5LWb6d\nyM4tAWh2VV8OVuQtaf46Eq9xrZ94TV+S5rnmngxrFlu5fkS7ZlgC/CjNLmDF+L/z32738k2Piax/\n8jP2fPlTnSu0AuRs2E1YYhwhjaMx/K00vrwnyafYV9Ir9pWTOe+hq/GvF8KGx/7hkbhrQ8mWbfg1\naYhfQhz4+RE6pB9FS6qP3A5o04LIRyaSPvGxajd8KtmyDUt4KJYI1+WNQd07UrZ7X63G726lW7bh\n17h6PuxLqs/P7N+mJbZpx+ajdMs2LOFhWBpU5KNbR0p9PB9Hs2/aTkCzBPwbxYK/H/UuuZD8H6pf\n7h3YtjnxT03gwNgncWQf+4WNL1rz8YLKG1ptm7+GDqNc58mGnVpSkm//Q3OzVp3ftfXgLmTuTD5J\n67onf/0uQprHE9TEdT6NGdmLzHnVp4rInLeW+Gv6ARA9oic5FedTS3AAlhDXnPARF7bDLHdQtD0J\na0ggARV5MawWIgd3pnBnUu11yk2KNu4gMDGBgMaxGP5+RIzoS96CVX9oGxGXXUiuj11CJR6PAAAg\nAElEQVQyfyKufMQT0DimMh+HFhx7v4CTibjsQnLm/OShCN2rNj6PfdNzEt/0mMg3PSZy4NvVrJny\nIUlz12JYDAIiXFMfNTi3MQ3ObVyn59IXERGRs8NJh3IahvENrgt4woGthmGsBirvemKa5mUnWre2\n+FmtTP3rHYx78EkcTidXDBtIy8QmvP7+55zXpgX9e3fnlw2befWdTzEM6NK+LdOq3EE7KTWd1Iws\nunY4z4u9+GNMh5N1Uz/kos8fwrBa2D17CXnbkzj/gVFkb9xD8vx17P78R3rOvIvhy1+iNLeQFeNm\nApC3PYn936xi2JLncZY7WDv1Q8yKm1X0/Ps9xPQ6l0BbOCPWzmTzi1+y53PXXYObXH4B+7+uu1MI\nJP+wgfiBHbl0+cs47KWsmvR25bKhC55l7uCpAKyZ8gE9XhmLNSiAlMUbSVm0EYCtr39D77cm0OLa\nfhQmZfLz2NcAaHxJNxKv6ouz3IHDXsrPd82s/c6dBtPhZP3UD7mwYl/ZU7GvnFexr6TMX8eez3+k\n+8y7GFaxr6wcd6SPw1e/gn9YMJYAPxKGdmXpdTMoz7fTduJI8nYkMXj+MwDs/GA+ez770Tud/LMc\nTrJnvE7sm8+BxULBnHmU7dpHg7tuoWTrduxLVhAxaQyWkGBiXngUgPKUdNInPgZOJ9l/m0Xc28+D\nYVD62w7y//2dlzt0mhxOsv9vJjFvzHDl479zKdu9j/rjbqF063bsS1cQMdGVj+jnK/KRmk7GJFc+\ncv72NrFvvwAYlP62nYL/+Hg+juZwkvrEmzR+/2kMq4XcL+dTunM/UffeSPGmHRQsWkXsg6OxhATR\naOYUwHX39YPjnvRy4O6zY9EGWvbvyPilL1NmL+W/9x85z4757llmDXedZwdNuY7zL++Ff3AAE1fO\nZP3sxSx55T90v3UIrQd3xlnuoPhQIXPuf8tbXflTTIeT7VPep+PsaRhWC8mf/z979x0fVZX3cfx7\nZ9IJgRQwjQ4qImDoCCggCKIIq66P6Kqgq8guKIiFFQEVFXUf0YXdVVld116WR0WldwRp0kGpoaZA\nIAkJ6Zm5zx8zhEkIEGFa4uftKy+cmTuT3zmv37lz5pcz5y5V3q4javLUncrdsk/H529Q2qdLdNXf\nR6rLmmkqzT6l7cPflCQFxdRR28/HS3a7itIz9fPIv0uSLLVC1ObDp2QJDpQshrJW7VDqBwt92cyL\nY7PryMR31PTD52RYLcr8cpEK9xxW7ON3K3/rXuUsWqfQNs3VZMYzstYJV0Sfjoodc7d29XWsVAxK\nrK/A+BidWlP99v+ulM2uIxNmqNlHjv448cViFe529se2vcpZuE5hbZqryb/+ImudcNXp01Gxjw/R\nzj6jJFXv/vDUfOxcjMAA9fl6oiSpJLdAq0e9VSO2EXhy0itav2mrsrNzdMPgP+hPD96r2wf283VY\nAACgiozz7QxgGMb153uyaZrLL/QLilN3sFbZxdftX/Z1CH7Fbvg6Av8SwGgpp+Nlxy580G+EYSE5\nXOXnBvk6BL/y3+Jfd6Gqmq57YYmvQ/ArUSGFvg7Br5gmkw9XO0urdlHM34o7tk72dQh+JzCmqa9D\nAKoL3mDgt+5odGuN/EA58+C3fjnuzruy9XQx1TCMV03TfNr1McMwXpV0wWIrAAAAAAAAAPwWVHXP\n1r6V3HeTOwMBAAAAAAAA4F72Gvrjry60Z+sISX+S1NQwjK0uD9WW9GPlzwIAAAAAAACA357zFlsl\nfSpprqQpksa53J9rmqb/XJYeAAAAAAAAAHzsQnu2npR0UtIQwzCski5zPifcMIxw0zQPeSFGAAAA\nAAAAAPB7F1rZKkkyDGOkpOckHdWZbRFMSW08ExYAAAAAAACAS2Wapq9D+E2pUrFV0mhJV5imecKT\nwQAAAAAAAABAdWWp4nGH5dhOAAAAAAAAAABQiaqubE2WtMwwjNmSik7faZrmVI9EBQAAAAAAAADV\nTFWLrYecP0HOHwAAAAAAAAB+zi72bPWmKhVbTdN8XpIMwwh33j7lyaAAAAAAAAAAoLqp0p6thmFc\nbRjGJkk7JO0wDGODYRitPBsaAAAAAAAAAFQfVb1A1gxJj5um2cg0zUaSxkr6l+fCAgAAAAAAAIDq\npap7ttYyTXPp6RumaS4zDKOWh2ICAAAAAAAA4AZ2XwfwG1PVYmuyYRgTJH3kvP0HScmeCQkAAAAA\nAAAAqp+qbiPwgKR6kv7P+RMjaZinggIAAAAAAACA6qaqxdZmkho4jw+SdIOkFZ4KCgAAAAAAAACq\nm6puI/CJpCckbRdbPQAAAAAAAADAWapabM0wTfM7j0YCAAAAAAAAwK1Mmb4O4TelqsXWSYZhvCtp\nsaSi03eapvmVR6ICAAAAAAAAgGqmqsXWYZKulBSoM9sImJIotgIAAAAAAACAql5s7Wia5hUejQQA\nAAAAAAAAqrGqFlt/NAzjKtM0f/ZoNAAAAAAAAADcxs6erV5V1WJrF0mbDcPYL8eerYYk0zTNNh6L\nDAAAAAAAAACqkaoWW/t7NAoAAAAAAAAAqOaqVGw1TfOgpwMBAAAAAAAAgOqsqitbAQAAAAAAAFQz\npsmerd5k8XUAAAAAAAAAAFATUGwFAAAAAAAAADcwPL2U+Iu4e1ir7KLEMHwdgl8JZil7OcXkRznk\nR3n0xhmMlfLC7XZfh+BXyI/y6A2cj83XAcCv3bZtsq9D8DuBMU19HQL8F2+58Fs3NbipRn6cnHt4\nrl+OO/ZsBYBqoEa+MwIAAAAAPI6lGd7FNgIAAAAAAAAA4AYUWwEAAAAAAADADSi2AgAAAAAAAIAb\nUGwFAAAAAAAAADfgAlkAAAAAAABADWVyyWWvYmUrAAAAAAAAALgBxVYAAAAAAAAAcAOKrQAAAAAA\nAADgBuzZCgAAAAAAANRQdvZs9SpWtgIAAAAAAACAG1BsBQAAAAAAAAA3oNgKAAAAAAAAAG7Anq0A\nAAAAAABADWWa7NnqTaxsBQAAAAAAAAA3oNgKAAAAAAAAAG5AsRUAAAAAAAAA3IA9WwEAAAAAAIAa\nyi72bPUmVrYCAAAAAAAAgBtQbAUAAAAAAAAAN6DYCgAAAAAAAABuQLEVAAAAAAAAANyAC2QBAAAA\nAAAANZTJBbK8ipWtAAAAAAAAAOAGFFsBAAAAAAAAwA0otgIAAAAAAACAG7BnKwAAAAAAAFBD2U32\nbPUmVrYCAAAAAAAAgBtQbAUAAAAAAAAAN6g22wjE9mqjpBfulWG1KPnTZdr59+/KPW4JClDnaSMU\n2aaxirNO6cfh05V/5LgkqeWoW9VkyPUybXZtmvCh0pdtkyR1nPqQ4vsmqeh4jub1Glf2Wl3fHqXa\nzeIkSUF1wlR8Ml8L+j7jnYZegg6T71VC72tUWlCk1WNmKHPbgbOOiWrdWF3fHK6AkCClLNmsnyZ8\nJElqeEsntRl7m+q0iNfcAZOUuXV/2XPqtmygzq8+oMDaoTLtpuYOmCh7UYm3mlUll1XIj12V5Ecn\nZ34UZZ3SGpf8uLJCfhx15kfzP/ZT03t6SYah/Z8s1Z5/zZMk1WnVSO1ffUDW4EDZbTZtHPe+sjYn\ne7W9VdG+Qj5knScfrM582ODMh6C6tdT97ZGqlVhPeUcytHL4dBWfzFfLETer8W3XSpIsVosiWiTo\n/1qPUHF2nq54sJ+a39NTMgzt/WSpdr0734utrbrLerXRNc5c2f9p5bnS0eVccjpXgiLD1eVfjynq\nmqY68MUKbR7/QdlzjECrkl4eqnpdW8o0Te145UulzF7v5ZZdnIsdO0GR4erq0h+bnP1hDQ1S1xmP\nqlbjy2Ta7EpbsFHbXv7CBy27eJcydhre0kmtnefSeS7n0qDIcPWY8aiir2mq5C9X6KfxH3qzSRet\nfq82aj35Pslq0aFPlmpPJfnRbvoI1WnTRCVZp7R++DQVHD6uuknNdM1fH3QcZBja9b//p7S5P0mS\nAiLClDT1IdW+ooFkmto0ZoayNuzxdtMuirvHi6tu/3lctRrV1wKX+Yi/88T5NPHWLrrysUEyrBal\nL9ykbS997uVWucfF9k39665W6/F3yRIYIHtJqba+8KkyVv3sm0ZcBG/O1+u2aqQOrz4gS3CgTJtN\nG8a9r0w/nI+d5u6+CY2PUudpIxRSr45kmtr38RLt8dO516V49uWpWrFqnaIi6+qbj9/2dTgAAFRJ\ntVjZalgMtX95qFbc85rmXf+UGg3uqojLE8od03RITxWfzNOca8dq14y5avvsEElSxOUJajioi+b1\nfFor7n5N7acMk2ExJEkHvvxBK+5+7azft/qR6VrQ9xkt6PuMjsxeryNz/L9oEt+7rWo3idWsbmO1\n9qn31GnK0EqP6/TKMK198l3N6jZWtZvEKr5XG0lS9s4jWvHHv+nYml3ljjesFnWbPkJrx72v73uN\n08I7XpJZUurp5vw6FkPtXh6qH5z50XBwV9WukB9NnPkx99qx2jNjrto486P25QlqMKiL5jvzo92U\nYZLFUMQViWp6Ty8tHjBRC2/4i+L6JKlW48skSW0mDNHPU7/Swr7PaMdrM9VmwhCvN/lC4nu3VUST\nWH17gXzo+MowrXnyXX3bbawiXPKh1ciBSl/5s77r/oTSV/6sq0YOlCT98tZsze07XnP7jtfmKV/q\n2OpfVJydpzpXJKr5PT017+ZJmtPnGSX0TVK4s7/8isVQ0stDtfKe1zT/+qfUoJJcaezMlXnXjtXu\nGXPV2pkrtsIS7Xjtv9r6wqdnvWzLxwar6HiO5nd/Qguue0oZq3/xSnMu2SWMHVthiba/9l9tqaQ/\ndr01R/N7PKmFfZ9RdKfLFdu7rVea4w6XOnbOdS61FZZo619nalMl/eW3LIbaTBmm1Xe/piXXPamE\n3117Vn40vLunirPztLjr49r3zly1cuZH7s7DWt7vWS3r84xWD3lVbf/6oAyrY8rR+sX7dHTJFi3p\n8YSW3jBOuXtSvN60i+Kh8SJJCQM6qDSvyONNcCsPnE+DIsPVZuIQrbjzZS3s+bSC69dR/e6tvNYk\nt7mEvinOzNWq+/5XC3uP0/pH31an6SN80YKL4u35etsJQ7R96lda0PcZbX9tptr64XzsNE/0jVlq\n15bnP9G865/SopsnqcXQvme9Zk0weEBfvT31RV+HAQDVnllDf/xVlYqthmFYPR3I+UQlNVPugaPK\nO5Qhe4lNh2atUUK/9uWOie/fXge+XCFJOvL9Ol3WwzE5T+jXXodmrZG9uFR5hzOUe+CoopKaSZIy\n1uxUUdap8/7uBgM769A3P3qgVe7VoF977Z+5UpJ0fOM+BdWppdD6dcsdE1q/rgJrh+r4xn2SpP0z\nV6pB/w6SpJy9qcrZl3bW68Zd31rZvxxW9s+HJEnFWadk2v0rpaOSmumUMz/MEpsOVyE/6rvkx2Fn\nfuQfztApZ35EtIhX5sZ9shUUy7TZlbHmFyUO6Oh4MdNUQHioJCkwIkyF6dnea2wVJfZrr2RnPpxw\n5kNIhXwIcebDCWc+JM9cqURnPiT2a6/kL39w3P/lD2V54qrx4K468M1qSVKdFvE6vulMfx1bvVMN\nB5z9HF+rLFfiK8mVg85cSXHJFVtBkU6s2y1b4dmruhvfdb12TvvWccM0VZx5/vOKv7iUsXOu/rAV\nFCvjR8cqLLPEpuxtBxQaF+WF1rjHpY6dnL2pyq3kXGorKFLGut2y+dm3As4nMqm58vYfVf6hYzJL\nbEr5ZrViK+RHXL8OOuw8V6R+v1Yx3a+WpLJzgSRZQwJ1ej/+gNqhiu5ypQ59ukySI0dKc/K90p5L\n5YnxIknWsGBdPnyAfv7bN55vhBt54nxaq2F9nUpOV/GJXEnSsR92KOHmjl5ojXtdSt9kbz+owqOO\neUXOriOyhgTJElQ9vojm7fm6aZoKdJmPFfjhfOw0T/RN4bHssm9elOYVKmdPqkJjI73aLm/ocE1r\n1Ymo7eswAAD4Vaq6snWPYRh/NQzjKo9Gcw6hsVEqSDlRdjs/LfOsyURYbKTyUzMlSabNrpKcfAVF\nhSs0NlL5qWeeW5CaqdDYqn3wr9flShUeP6lT+4+6oRWeFRobqTyXdualnt1HobGRyk/LPO8xFUU0\njZVpmur96VMaMP9FXfWnm90buBuExkYp/wL5ERobqYJfkR8ndx1RTOcrFBQZLmtokOJ6X6PQeEfe\nbJ74kdpOHKKbf5qmthPv1rYp/vcV6bAK7cpPzVRYZWPGJR9cjwmJiVDhMceHlsJj2QqJiSj3XGto\nkOJ6ttFh56rv7J1HVL/Tmf6K791WYfHRHmnbpah4Lin4FblyLoERYZKkVk/foRsWvKguMx5VcIX+\n8leXMnaqIjAiTHF92+nYD9vdF7SHXerYqUlC4iJVkFp+vIRUKJy7HmPa7CrNzVdQlONDcWRSM/Va\n/pp6LX1VW596T6bNrrCG9VV8IldJfxuu6xe+rGtef0jWsGDvNeoSeGq8XP3077Xr7Tmy5Vevla2e\nOJ+eOpCu8GbxCkuMkWG1KL5/e4X64XvJhbirbxJu7qSsbQdkL/azbxSdg7fn65uc87GBzvnYVj+c\nj53m6b4JS4xR3daNyv4ICAAAfKuqxda2knZLetcwjDWGYTxsGEb1qCZcgoaDu+rQ16t9HYZPGQFW\n1e90uVaN/KfmD35BDfp3UGx1/Erfr5S7J1U7//Gdrvt8nHp8+rSydxyUaXes0mp2Xx9tnvSxZnd4\nVJsnfawOrz/k42g9z6ywmDmxb5Iyftqt4uw8SY7VfD//83v1/uxp9f7kKWXtOFi2qq2mMwIsCkuI\n1on1e7T4xmd1YsMetZl0j6/D8jnDalHnt0Zq73vzlXcow9fhwAeyNu3T0uuf0vL+z6rFo4NkCQ6U\nJcCiOq0b68B/Fml532dUml+kFiNv9XWoPlOnVSOFN6qvVOd+tr91JSfztWncv9XlnVHq+c1E5R8+\nXvbe+1sTcXmCWj97lzY+9Z6vQ/FbzZ3zse+c87GOv4H5WGUCwoLV7b3R2jTxI5WeKvB1OAAAQFUs\ntpqmmWua5r9M07xW0tOSJklKMwzjA8Mwmlc83lmM/ckwjJ8W5e+95CAL0jMVmnBmZUNYXJQK0rPK\nHZOfnqUw58pDw2pRYESYijNPqSA9q9wKu9D4KBWkZ+pCDKtFiQM66tC3ay45fk+5fGgfDVj4kgYs\nfEkFx7JVy6WdteLP7qOC9CyFuaxKquyYivLTMnV0zS4VZZ6SraBYqUu2KKp1Y7e241IVpGcq7AL5\nUZCeVbYytar5ceCz5VrU71kt+91kFZ/M06l96ZKkxnf2KLv40ZHv1pZ9zc3XLh/aRzctfEk3OfPB\ntV1h8VHKr2zMuOSD6zGFx3PKvjodUr+uik7klHtuo0FddfCb8n+I2PfZcs3rP0ELb3tRxSfzlZOc\n7tb2uUPFc0nor8iVcynOPKXS/EKlzDmTE3X9bIycy6WMnQtp/9cHdSo5vezCcv7MnWOnJilMyyq3\nqjA0LkqFaZnnPMawWhRQO0zFmbnljjm1J1WleYWKuDJRBamZKkzLVNYmx+qr1O/Xqk6bxp5tiJt4\nYrxEt2+uyLZNNWDdm+o1a5JqN43T9f833jMNcDNPnE8lKW3hJi25eZKWDnxOuftSy957q5NL7ZvQ\nuCh1/fcYrX/0beUdPOa9wC+Rt+frje/soSPO+djh79Yq2k/mY5XxVN8YAVZd+95oHfxqlVLm8Ecb\nAMC52WXWyB9/VeU9Ww3DuNUwjK8lvSnpdUlNJX0naU7F403TnGGaZgfTNDv0CTurFvurZW5OVu0m\nsarVoJ4sgVY1HNRFKfM3lDsmdf5GNb7zOklS4i2ddHTlDklSyvwNajioiyxBAarVoJ5qN4lV5qYL\nf8XmsuuuVs7eVBWkXbgw6yu7/7NIc/qO15y+43Vk3gY1uaO7JCmmXTMV5+Sr4Fj5vasKjmWrJLdA\nMe0ck9Emd3TX4Qr9WFHasq2KbNlA1tAgGVaL6ne9Uid3+9fFTLI2Jyu8SazCGtSTEWhVg0FdlHqB\n/DjmzI/U+RvUwJkfYQ3qKdwlP4KjHYu3QxOilTCgow597di7t+Bolup1bSlJqt+9lU7t948Pgrv/\ns6js4lWH521QU2c+RDvzobBCPhQ68yHamQ9N7+iuI85+O7Jgo5re2cNx/509yu6XpMDaoarf5Uod\nnrex3Oud7q+whGg1GNBBB772v72OK8uVtAq5kjZ/oxo5cyXBJVfOJ23BJtW79nROXK1cPxsj53Ip\nY+d8Wj39ewVGhGnzxI88Ere7uXPs1CTZm/epVtNYhTV05EfC4K5KX1C+nekLNqiB81wRf0tnHV/l\nyI+whvXKLogVmhij2s3jlX/4uIoyTqog5YTCm8VJkur1+G2Pl+QPF+v7pJGa02m0lg56XrnJaVp+\n+0sea4M7eep8evq9JLBOmJrd31f7P13q/uA97FL6JjAiTN0+ekLbXv5cJ9bv9nrsl8Lb8/XCCvOx\nXD+Zj1XGU33TaepDyt2Tot3vzPVugwAAwHkZZsXvB1d2kGEkS1oq6T3TNH+s8Ng00zQfPddzv4i7\nxy2l5rjebZX0wr0yrBYlf75cv/xtlq5+8nZlbtmv1AUbZQkOVJfpI1T36kYqzs7T6keml311teVj\ng9T0rutlL7Vp06SPlb5kiySpyz//rPrXtlRwVG0VZuRo+//O1P7PlkuSOr05XCc27tW+Dxe7I/wy\nJYbh1tdz1fHl+xXfs41KC4q1eswMZW7dL0kasPAlzenrWCkT1aaJrn3zYVlDgpS6dIvWj/9QktSg\nfwd1ePE+hUTXVnFOvrJ2HNQS55Vfm9zWTa1GDZRMUylLtmjTi5+7LebgKuRfVcT2bqtrnPmx//Pl\n2vm3WWrlzI80Z350mj5Ckc78WOOSH1c+NkhN7rpeZqlNm13yo+c3ExQcWVv2klJtee6Tsg9C0Z0u\nV9Lk+2RYLbIVlWjjX95X9tYDbmlHsRvzo+PL9yuuZxvZKuTDTQtf0lyXfOjqkg8/OfMhKDJcPd4e\npbCEaOWlHNfK4dPLtgxoemcPxfVqo1Uj/lHu9/X9eoKCI8NlLynVhuc/LfuQcCnclR+uYnu3VVtn\nrhxw5spVT96urAq5cvpcstYlV25a96YCw0NlCQpQ8cl8/TDkFeXuTlFYYow6Th/hWIVyIkfrx8wo\ntzebO3jqb3aXMnYGVOiPFUNeUWlugW7ZOF05e1JkL3LsM7j3/QXa/+kyt8btzrFS0aWMncT+HdTx\nxfsU7HIuXeo8lw5a+0ZZf5WczNfiIa8oZ0+qW2IO99BXrevfcI1aO/Pj0GfLtPtvs3TlU3coe3Oy\n0p350e7vf1KdqxupJDtPPw2frvxDx5R4R3e1GHWrzJJSmXZTu6Z+rfR5jlVXEa0aKWnqQzICA5R/\n8Jg2jX5HJSfz3Bq3p/LD3ePFtdAclhij7h89oQW9xrk9bk+NFk+cTzv988+q26qRJOnnqV/pyCz/\n/YbR+Vxs31w5erCuHDVQp5LPXC/gh7teOesbJu5kc+NreXO+HuOcj1mc87ENf3lfWW6aj3mCu/sm\nptPlumHWJGX/fKjs4rXbpnyhNGe/uctt2ya79fV+rScnvaL1m7YqOztH0VF19acH79XtA/v5NKbA\nmKY+/f3wa56boAKXqFtCb/9dBnoJVqUs8ctxV9Via7hpmhd1eW13FVtrCk8WW6sjTxTTqjNPFpCq\nI/LjDHqiPMZKeZ4qtlZX5Ed59AbOx53FVtQ8vi62+iOKrTgP3nLhtyi2eldAFY8rNQzjz5JaSQo5\nfadpmg94JCoAAAAAAAAAqGaqtGerpI8kxUrqJ2m5pERJued9BgAAAAAAAACf8vWFrLhAVuWam6Y5\nQVKeaZofSLpZUmfPhQUAAAAAAAAA1UtVi60lzn+zDcO4WlIdSfU9ExIAAAAAAAAAVD9V3bN1hmEY\nkZKelfStpHBJEzwWFQAAAAAAAABUM+ctthqG8bjLzWHOf//h/LeWRyICAAAAAAAA4Bam6b/7m9ZE\nF1rZWtv57xWSOsqxqlWSBkpa56mgAAAAAAAAAKC6OW+x1TTN5yXJMIwVktqZppnrvP2cpNkejw4A\nAAAAAAAAqomqXiDrMknFLreLnfcBAAAAAAAAAFT1C2R9KGmdYRhfO28PlvQfj0QEAAAAAAAAwC3s\nYs9Wb6pSsdU0zZcMw5grqYfzrmGmaW7yXFgAAAAAAAAAUL1UdWWrTNPcKGmjB2MBAAAAAAAAgGqr\nqnu2AgAAAAAAAADOo8orWwEAAAAAAABULyZ7tnoVK1sBAAAAAAAAwA0otgIAAAAAAACAG1BsBQAA\nAAAAAAA3oNgKAAAAAAAAAG7ABbIAAAAAAACAGso0uUCWN7GyFQAAAAAAAADcgGIrAAAAAAAAALgB\nxVYAAAAAAAAAcAP2bAUAAAAAAABqKLvYs9WbWNkKAAAAAAAAAG5AsRUAAAAAAAAA3IBiKwAAAAAA\nAAC4AXu2AgAAAAAAADWUabJnqzexshUAAAAAAAAA3IBiKwAAAAAAAAC4gce3ESg1DE//imrFKpZu\nu7L7OgA/Y2O4lNPIyPd1CH7DbpIcrt4J4m+FrkaU2Hwdgl9JbJLt6xD8SnA93m1dWTh/lDP3h3hf\nh+BX7OL91tXMNhN8HYJfuWPrZJUcT/Z1GH4lMKapr0MAAL/Dnq0AAAAAAABADWVn4Z9X8ad9AAAA\nAAAAAHADiq0AAAAAAAAA4AYUWwEAAAAAAADADSi2AgAAAAAAAIAbcIEsAAAAAAAAoIYyuUCWV7Gy\nFQAAAAAAAADcgGIrAAAAAAAAALgBxVYAAAAAAAAAcAP2bAUAAAAAAABqKLvJnq3exMpWAAAAAAAA\nAHADiq0AAAAAAAAA4AYUWwEAAAAAAADADdizFQAAAAAAAKihTLFnqzexshUAAAAAAAAA3IBiKwAA\nAAAAAAC4AcVWAAAAAAAAAHAD9mwFAAAAAAAAaii7yZ6t3sTKVgAAAAAAAABwAz68O1MAACAASURB\nVIqtAAAAAAAAAOAGFFsBAAAAAAAAwA0otgIAAAAAAACAG3CBLAAAAAAAAKCGMsUFsryJla0AAAAA\nAAAA4AYUWwEAAAAAAADADSi2AgAAAAAAAIAbsGcrAAAAAAAAUEPZTfZs9SZWtgIAAAAAAACAG1Bs\nBQAAAAAAAAA3qFbbCLSffK8Sel+j0oIirR4zQ1nbDpx1TFTrxur65nBZQ4KUsmSzNkz4SJIUVLeW\nur89UrUS6ynvSIZWDp+u4pP5kqT6XVuq/Qt/kCXAqqLMXC26/SVJ0qC1b6j0VKHsdrvMUpvm3TTR\na209l3aT71N877ayFRRrzZh3Ku2DyNaN1eXNR2QNCVTqki3aOOFDSY4+6Pb2KJc+mKYSZx9U9rph\nCTHq8e/RMiwWWQKs2v3vBdr70WJJUu+Z4xV6WV3ZCkskSUvvekVFJ3K80wmViO3VRkkv3CvDalHy\np8u08+/flXvcEhSgztNGKLJNYxVnndKPw6cr/8hxSVLLUbeqyZDrZdrs2jThQ6Uv26bQ+Ch1njZC\nIfXqSKapfR8v0Z5350uS6rZqpA6vPiBLcKBMm00bxr2vzM3J3m7yr9bxBcf4sRUUadWYGcrcfuCs\nY6JaN1a3N86Mn/UTHeOn/bNDlNg3SfbiUuUePKZVj89QSU6+oq9pqq6vPeh4siFtef1rHZ73kxdb\ndWkieiap4QsPyrBYlPHZIqX/46tyj4d3vkoNn39AYS0ba9+fXlfW7NVlj3U4NFMFOw9JkopSMrR3\n2BSvxu4JdXomqdHkB2RYLDr22SKl/f3rco/X7nyVGr3wgMJaNtLeEVOV6dIfkmQND1WbZdOUOX+t\nDo5/15uhe8zdkx5Q615JKi4o1ntP/F2Hduwv93hQSJBG/HOs6jeKld1m15bFP2nmq59IkqLiY/Tg\n6yMVFlFLFotFM1/9WNuWbfJFM9yC8XJ+wZ07KuKxkZLFqvzvZyvv48/KPR42aKDCbhss2e0yCwp0\n8rXXVXrgoI+idb/ApE4Ke3CUZLGoaNFsFX71abnHg/vdquCbfifZbTILC5T3z/+V/chByWpVrT8/\nJWvTy2VYrSpaOl+FX33io1Z4RkDbjgod6siN4iWzVTTrs0qPC+x0nWqNfV65fxkuW/JuL0fpPp6a\nq0pSVNum6vvdc/pxxN91ePY61W3VSB2nDFNg7VCZNrt2TJulQ9+u8VZTq8Tbn1+ufKi/mt3dUzJN\nZe88otVjZsheVOKt5p5XXM82ajf5XhkWi/Z9tky/VDJf7zJthKJaN1ZR1in9+Mh05Tnn61eNvFVN\nh1wv027Xhmc/VPrybZKkzlMfUnyfJBUez9Hc3uPKXqvBLZ3UeuztimgRrwUDJipza/n37+rq2Zen\nasWqdYqKrKtvPn7b1+EAAM6h2qxsje/dVhFNYvVtt7Fa+9R76jRlaKXHdXxlmNY8+a6+7TZWEU1i\nFd+rjSSp1ciBSl/5s77r/oTSV/6sq0YOlCQFRoSp05ShWj50qmb3GqcfHp5e7vUW/f4lze073i8K\nrXG926p2k1h9322s1j31njpMGVbpcR1feUDrnnxX33cbq9pNYhXXq60kxyQlfeUOfd99rNJX7tBV\nI2897+sWHsvSwoHPaV7fZ7Tg5olqOXKgQi+rW/Z7Vv/5n5rX9xnN6/uMTwuthsVQ+5eHasU9r2ne\n9U+p0eCuirg8odwxTYf0VPHJPM25dqx2zZirts8OkSRFXJ6ghoO6aF7Pp7Xi7tfUfsowGRZDZqld\nW57/RPOuf0qLbp6kFkP7lr1m2wlDtH3qV1rQ9xltf22m2k4Y4vU2/1oJzvHzTfexWv30e+p8jvHT\nZcowrX7qXX3Tvfz4SV2xTd/2Hqfv+j6jnOQ0tXaOn+ydRzT7pgn6/sbxWnzPX9Xl1WEyrNXktGKx\nqNFLD2vPHyZre69HFT24u0JaJJY7pDglQ/vHTNeJb1ac9XR7YbF23Pi4dtz4eM0oHFksavzyQ9p1\nz4va2vMxRQ/qodAK/VGUkqF9o6fr+Nc/VPoSiU8NUc7aHd6I1ita90zSZU3i9Jeeo/TBM2/rvpce\nrvS4+f/6VuNveEzP3fykmre/Uq17JkmSBo68Xetn/6jnb35S74x6Q/e++JA3w3cvxsv5WSyKePwx\nZT4xThl/GKrQPjcooHGjcocULFys4/c/qOPDHtKpTz5X7VF/8lGwHmCxKOzh0cqd/JROPnq/grrf\nIEti+fYXrViknNHDlPP4H1X49WcKG/ZnSVLQtb2kgEDljB6mk2MfUnC/gbLUi/VFKzzDsCj0gceU\nN2Wcch8fqqBuN8iS0Ojs40JCFTzgNpXu+dn7MbqRp+aqkmO+d834u8qKbJJkKyjS6sfe0pxeT2vZ\nPa+q3fN/UGBEmGcb+St4+/NLaGykrnjwRs27aYJm9/6LDItFjQd18UpbL+T0fH3ZPa9pTs+n1GhQ\nV0W0qGS+np2n77uN1a5/uczXWzjm63N6Pa1ld7+mDs75uiQlf/GDlt3z2lm/7+TOI/rhj2/q2Jqd\nnm+cFw0e0FdvT33R12EAqIbMGvqfv6omVREpsV97Jc9cKUk6sXGfgurUUkj9uuWOCalfV4G1Q3Vi\n4z5JUvLMlUrs3+HM8790FAiSv/xBDZz3N/7dtTo8Z73yU05Ikk+LhheS2K+9Dsx0tOHExr0KqhN2\nnj7YK0k6MPMHJfZvL0lK6NdO+519sP/LM/ef63XtJTbZi0slSZbgwLJJjb+JSmqm3ANHlXcoQ/YS\nmw7NWqOEfu3LHRPfv70OfOkoABz5fp0u69FKkpTQr70OzVoje3Gp8g5nKPfAUUUlNVPhseyylQel\neYXK2ZOq0NhISZJpmgoMD5XkmOwWpGd7qaUXr0G/9trnHD/HneMntELuhDpz57hz/OybuVINneMk\nbcV2mTa7JClj4z6FxUVJkmyFxWX3W4MD5cfnurPUSmqhogNpKjp0VGZJqTJnrVRkv07ljik+kqGC\nXw5K9mrUsIsUntRchVXuD/tZzw9r3VSB9erq5PIt3grZ45Ju7Kgfv1omSUretEdhtcNUp175cVNc\nWKydqx0FZltJqQ7uSFZkbLQkx4QmNNzxoT80IkzZR7O8F7ybMV7OL7DllbIdSZUtNU0qLVXBoiUK\n7t6t3DFm/pnVeUZoiFSDLlIQ0KKl7Gkpsh91tL945RIFdepe/qACl/YHh5653zRlhIRKFquM4GCp\ntFRmQZ6XIvc8a/MrZT+aKvuxNMlWquIflyiwY7ezjgv9nwdUOOtzqbjYB1G6j6fmqpJ0+QP9dHjO\nehUePzNXz01O16n9RyVJBUezVXg8R8HRtT3XwF/JF59fjACrrCFBMqwWBYQGKd9P3nuikprpVIX5\nemKF+Xpiv/ba/1/HfP3w9+sU271V2f2u8/VTzvm6JGWs3anirFNn/b6cvanK3Zfm4VZ5X4drWqtO\nhP/kOACgchcsthqGYTUMY6k3gjmfsNhI5aeeKLudn5qpMGfxq9wxaZmVHhMSE6HCY46iWOGxbIXE\nREiSIprGKqhuLfWZOV79501WkztcPhyYpnp/Nk79501W83t6eappVRYaG6W8i+iD0FhHYSwkpk6F\nPqhzwdcNi4/STYumaNBP0/TLP75XwdEzhcXObwxX/4Uvq9XowW5u6a8TGhulghSX+NMyywqjpzny\nx9Evps2ukpx8BUWFK7RCXhW49FfZcxNjVLd1o7JJ8KaJH6ntxCEa+NM0tZ14t7ZO+cJTTXObs8ZP\nWhVyp5JjJKn5XdcpZenWstsxSc1065JXNHDxFK0Z935Z8dXfBcVGqTj1eNnt4rQTCnQWyarCEhyk\nq+b8VS2/e0V1KxSdqqOg2GgVu+RIcdoJBcZFnecZLgxDjSYN1aEXPvBQdL4ReVm0Ml36JDM9s6yQ\nWpnQiDBdc0MH/bLKMT5mvfGlug7uof9d/Y5Gv/+MPpn0nsdj9hTGy/lZ68XIduxY2W17Roas9WLO\nOi7stsGq98XHihgxXDlvTj/r8erKiIqR7bhL+09kyBJ9dvuDbxqsOm99qtD7H1H+u3+TJBWvXiaz\nsEB1//2V6s74UoXffCHzVK7XYvc0S1SM7Ccq9E1k+b6xNmkhI7q+Sjf519ffL4bn5qqRSrypg/Z8\nsOicvzvqmqayBAXo1IFj5zzG27z9+aUgPUu/vDVHg9f/Tbdt/ruKc/OVvny7R9tYVWGxUWfNRUPj\nyvdFaIX5evHp+XpcZfPYKs5RAADwgQvu2Wqaps0wDLthGHVM0zzpjaC84fSCEiPAoqjWTbTozikK\nCA3Ujd8+p+Mb9yo3OV0LBk9WQXqWgqMjdMPnTytnb6qOrd3l28DdqQqLavJTMzW3z18Uelld9fj3\n4zr8/VoVHs/R6pH/VEF6lgJqhaj7u6PV+I7uOuD8y31NEhAWrG7vjdamiR+p9FSBJKn5fX20edLH\nOjJ7vRoM7KyOrz+k5f9TA78WW4nWj94qs9Su/V+tKrvv+KZ9+rb3ONVpHq9ubw5XytItfrM3mCdt\n6fywStIzFdzwMl3x5Qsq2HlIRQfTfR2WT1w2tL+yl2xUcdqJCx9cQ1msFj0ybYwW/WeOMg47Puh3\nvrW7Vs1cpvnvfqdm7S7XQ2+M0oQbH5dZg1Y0VhXjxSH/q2+U/9U3Cul7g8Lvv1cnX3rF1yF5VdHc\nb1Q09xsF9eij0N/fp7xpUxTQoqVktyv7wdtkhNdWxEvTVbL1J8cq2d8Cw1DovX9S/lu/rVyoMufp\nst3z92rzS5+fc0V4SP266jp9hNY89k6NWjVe0YU+vxSdyFFiv3aa1XmMinPy1WPGKDW+rZsOuMzb\nAACA51X1AlmnJG0zDGOhpLLvdpmm+WhlBxuG8bCkhyXpgTqd1DusxUUFd/nQPmrmXFGauTlZYfFn\nVtGExUcpP73812Ly07PKvt5c8ZjC4zkKqV/X8Vfh+nXLvm6Tn5aloqytshUUyVZQpGNrdyryqobK\nTU5XgfO5RSdydHjeBkUnNfN6sbXF0L5lfXBic7JqxUfr9NqiqvZBQbrjL8SFx0+W64PCE47aeUF6\n5gVft+Botk7uOqx6na/U4dnryvqmNK9QB7/+UdFJzXxWbC1Iz1RogktuxEWVxXdafnqWoy/SMmVY\nLQqMCFNx5ikVpGeVy6tQl/4yAqy69r3ROvjVKqXMOXPRp8Z39tAm54UcDn+3Vh1f9899GK+4v49a\nuOROufETV4XcqXBMszt7KLFPkhbcWXlh+eTeVJXkFyryikSdqAYXIShOz1RQ/JnVRUFx0SpJr3qx\nsMSZJ0WHjip39XaFXd2kWhePitNPKMglR4LiolXistLmfMLbX6HanVvqsvv7y1IrRJbAANnzCnX4\n5Y89Fa7H9L63v64bcoMkaf+WfYpy6ZOo2ChlnSNH7p/yiI7uT9PCf88uu6/H/9ygqfc79lXbt3G3\nAoODFB5VW7l+vF3NuTBezs+WcVzW+vXLblvq1ZMt4/g5jy9ctER1xo5WTfkLtpl5XNYYl/ZH15P9\nxLnbX7xyscKGj5EkBV3XRyWb1kk2m8yT2SrduV0Bza5UcQ0pttozj8sSXaFvslz6JiRMlgZNFD7x\nTUmSUTdKtZ58SXl/HV9tLpLljblqVNsmuvatkZKk4Kjair+hrew2m1LmbVBAeKiu/+gJbX3lv2Vb\nE/iSLz+/SNKpwxkqynSsDj885yfV69DCL4qt+emZZ81FC9IqfN6oMF8POj1fT8uqZB5btTkKAMDB\nXoP/GOmPqrpn61eSJkhaIWmDy0+lTNOcYZpmB9M0O1xsoVWSdv9nkeb2Ha+5fcfr8LwNaur8ikx0\nu2Yqzskv+1rNaYXHslWSW6Dodo49fJre0V1H5jvCPLJgo5re2cNx/509ztw/b4Pqd7xChtUia2iQ\nYpKa6eSeVFlDgxVQK0SSZA0NVtz1Vyt755GLbsvF2vOfhWUXoUqZ95Ma3+FoQ3S75irJKThPHzSX\nJDW+40xbUxZsVBNnHzS5s4dS5m8su7+y1w2Ni5I1JFCSFFgnTDEdr1DOvjTH5CcqXJKjIBnfJ0kn\nfdA3p2VuTlbtJrGq1aCeLIFWNRzURSnzy6dn6vyNanzndZKkxFs66ehKxx6LKfM3qOGgLrIEBahW\ng3qq3SRWmZsc2wV0mvqQcvekaPc7c8u9VuHRLNXr2lKSVL97K+Xu98+Cwa4PFun7G8fr+xvH69D8\nDWrmHD8x7ZqpJCdfBRVyp8CZOzHO8dPsju467OzH+J5t1GrELVoydKpshWf2kwtvUK/sgli1EqJV\np1m8Th3O8EbzLlne5j0KbhKnoAb1ZQQGKGpQd2UtWF+l51rr1JIR5PhbVUBkbYV3vFIFuw97MlyP\nO7V5r0KaxCn4Ivpj38g3tbnjcG3u/IgOvfCBMmYuq5aFVkla8tE8PTfgST034EltWrBO197WU5LU\nNKmF8nPzdTLj7D2afzf2LoXWDtNnL7xf7v7M1OO6qltrSVJcswQFBgdWy0KrxHi5kJKdO2VtkCBr\nXKwUEKDQPr1VtOrHcsdYE89cCCb42i4qPZLi7TA9pnTPTlniEmWp72h/UPfeKllfvrhjiTvT/sD2\nXWVPc8wb7BlHFdi6neOB4BAFXH6VbCkHvRa7p9n27ZQlNsFx0S9rgIKu7a2Sn1xyoyBPOQ8NVs6o\nIcoZNUS2PT9Xq0Kr5J256nddxui7zqP1XefROvz9Ov30l/8oZd4GWQKt6vHeaB3470odnr3OW00+\nL19+fslLOaGYds1lDQ2SJMV2b6WTe/3jXFPZfP3IgvLz9ZQFG9Xk9475egOX+fqRBeeerwMA4I8M\nT3+d8ZP4P7jtF3R8+X7F9WwjW0GxVo+ZoUzn6rmbFr6kuX3HS5Ki2jRR1zcfljUkSKlLt+in8Y4V\niEGR4erx9iiFJUQrL+W4Vg6fruJsxyLdliNuVrP/uU6m3a69ny7TrnfnK7xhPV333mhJjoLiga9/\n1I5p315yGyyXeAWh9i8PLeuDtWPeKeuD/gtf1ry+z0hy9EHnN4fLGhKktKVbtGG8Yx/FoMhwdXt7\nlGolxCgv5bhWDZ9W1geVvW7sdVcraeI9Mk1ThmFo9/sLtO+TpbKGBqvP1xNkCbDKsFqU/sN2bXru\nY5kXcVEUi5uyI653WyW9cK8Mq0XJny/XL3+bpaufvF2ZW/YrdcFGWYID1WX6CNW9upGKs/O0+pHp\nyjvkKAq2fGyQmt51veylNm2a9LHSl2xRTKfLdcOsScr++VBZu7ZN+UJpzseSJt8ni9UiW1GJNvzl\nfWVtPeCWdhR58CJknV66Xwk926i0oFg/Pj6jbPXpLQte0vc3OsZPdJsmuvaNhxUQEqSUpVu07lnH\n+Bm88nVZgwNU5LwAQcbGvVo77n01vb2brv7zQNlLbTLtpra+8XVZgdYdWsqzF0mp07udGj7/oGSx\n6PgXi5U2babinxii/C17lb1wvWq1ba7m7z0ta51wmUUlKjmWpe29H1N4hyvU6JURkmmXDIuOvvud\njn++2KOx2k3PX6CuTu92avT8AzKsFmV8vlip0/5PCU/epbwt+5S9wNEfl7/3tKx1a8leWKKSjCxt\n6zW63GvE3NlLtdo208Hx73o01neCvHN9xz+88Eddff01Ki4o0r+f/KcObHN8uHtuzl/13IAnFRkb\npdfXzFDq3iMqLXZsn7H4g3n64YvFim+eqPtfeUQhtUJkmqb+O+Vj7fjBMxcQG1Fi88jruqpO4yWx\nifcvXBjcpbMiHvuzZLGoYPZcnfrwE4U/OEwlO3epaNWPinhspII6tJdKS2XPzVXOG9NUuv+Ad2Kr\n5/m9tAPbdVbYg6Mki0VFi+eocObHCh3ygEr37lTJ+h8V9uAoBbRpL9lKZZ46pfx/vSnb4QNSSKjC\nR42TJbGRDMNQ0ZK5Kvzmc4/GavHS+eO0gGs6K/R+R24UL5uroq8/Ucjvh6k0eZdKN5QvyodPfEMF\nH7/l1WLr3B/i3fp6npqrntb5jeFKXbRJh2evU+PbuqnzGw/r5O4zBcU1o99R9o6LL9jb5d73W29+\nfpGk1k/cpka3dpFZalPW9oNa88S7ZRe8vRiX+tnFVVzvtmr3/Jn5+s/TZqm1c76e4pyvd502QpHO\n+fqqEWfm61c96pivmzabNk78WGlLHe+n1/7zz6rftaWCo2qrMCNH216fqeTPliuxfwe1f/F+BUfX\nVklOvrJ2HNSyu1+95DbcsXXyJb/GpXhy0itav2mrsrNzFB1VV3968F7dPrCfT2MKjGnq09/vZ/zz\nitKApGYx7Wrk0tZ9xzf65birUrHVMIz9qmSHT9M0L3hmdWextSZw54SlJnBXsbWm8GSxtTrydLG1\nOvFGsbU68VaxtbrwRrG1OvFFsdWfeaPYWp14u9jq79xdbK3u3F1sre747FKer4ut/ohiazmcQOC3\nKLZ6V1X3bO3g8v8hkn4viUtAAgAAAAAAAIBTlYqtpmlWvArGm4ZhbJA00f0hAQAAAAAAAHAHk28q\neFWViq2GYbRzuWmRY6VrVVfFAgAAAAAAAECNV9WC6esu/18q6YCkO90eDQAAAAAAAABUU1XdRqCX\npwMBAAAAAAAAgOqsqtsI1JE0SdJ1zruWS3rBNM2TngoMAAAAAAAAwKUxTbuvQ/hNsVTxuH9LypVj\n64A7JeVIet9TQQEAAAAAAABAdVPVPVubmaZ5u8vt5w3D2OyJgAAAAAAAAACgOqrqytYCwzC6n75h\nGEY3SQWeCQkAAAAAAAAAqp+qrmwdIekD596tkpQl6X7PhAQAAAAAAADAHewyfR3Cb0pVi62/SHpN\nUjNJdSWdlDRY0lYPxQUAAAAAAAAA1UpVi62zJGVL2igpxXPhAAAAAAAAAED1VNVia6Jpmv09GgkA\nAAAAAAAAVGNVLbb+aBhGa9M0t3k0GgAAAAAAAABuY5rs2epN5y22GoaxTZLpPG6YYRjJkookGZJM\n0zTbeD5EAAAAAAAAAPB/F1rZeotXogAAAAAAAACAau68xVbTNA96KxAAAAAAAAAAqM4svg4AAAAA\nAAAAAGqCql4gCwAAAAAAAEA1YxcXyPImVrYCAAAAAAAAgBtQbAUAAAAAAAAAN6DYCgAAAAAAAABu\nwJ6tAAAAAAAAQA1lmuzZ6k2sbAUAAAAAAAAAN6DYCgAAAAAAAABuQLEVAAAAAAAAANyAPVsBAAAA\nAACAGsrOnq1excpWAAAAAAAAAL8ZhmFEGYax0DCMPc5/I89xXEPDMBYYhvGLYRg/G4bR+EKvTbEV\nAAAAAAAAwG/JOEmLTdNsIWmx83ZlPpT0V9M0W0rqJOnYhV7YMD28lPiT+D+wVtnFliCbr0PwK1NT\nV/g6BL/yVv1evg7BrwRw9ihjN3wdgX+xkhvl8JfT8rpHXXD+85syO7u+r0PwKzE2TiBAVdnFBMSV\nRZw/XN2xdbKvQ/ArgTFNGTDwW3F1r6qRJ7C07J8vetwZhrFLUk/TNNMMw4iTtMw0zSsqHHOVpBmm\naXb/Na/Nnq0AAAAAAABADWXyx6LKXGaaZprz/9MlXVbJMZdLyjYM4ytJTSQtkjTONM3zrqSk2AoA\nAAAAAACgWjEM42FJD7vcNcM0zRkujy+SFFvJU8e73jBN0zQMo7KKdICkHpKSJB2S9IWkoZLeO19c\nFFsBAAAAAAAAVCvOwuqM8zze51yPGYZx1DCMOJdtBCrbi+yIpM2maSY7n/ONpC66QLGVbd4AAAAA\nAAAA/JZ8K+l+5//fL2lWJcesl1TXMIx6ztu9Jf18oRem2AoAAAAAAADgt+QVSX0Nw9gjqY/ztgzD\n6GAYxruS5Nyb9QlJiw3D2CbJkPSvC70w2wgAAAAAAAAANZRpcoGsikzTPCHphkru/0nSH11uL5TU\n5te8NitbAQAAAAAAAMANKLYCAAAAAAAAgBtQbAUAAAAAAAAAN2DPVgAAAAAAAKCGsos9W72Jla0A\nAAAAAAAA4AYUWwEAAAAAAADADSi2AgAAAAAAAIAbsGcrAAAAAAAAUEOZJnu2ehMrWwEAAAAAAADA\nDSi2AgAAAAAAAIAbUGwFAAAAAAAAADdgz1YAAAAAAACghrKzZ6tXsbIVAAAAAAAAANyAYisAAAAA\nAAAAuAHFVgAAAAAAAABwA4qtAAAAAAAAAOAGXCALAAAAAAAAqKFMLpDlVaxsBQAAAAAAAAA3oNgK\nAAAAAAAAAG5AsRUAAAAAAAAA3IA9WwEAAAAAAIAayi72bPUmVrYCAAAAAAAAgBtQbAUAAAAAAAAA\nN6jW2wi0n3yvEnpfo9KCIq0eM0NZ2w6cdUxU68bq+uZwWUOClLJkszZM+EiS1PCWTmo99jbVaRGv\neQMmKXPrfklSUGS4esx4VNHXNFXylyv00/gPvdkkt7l10v26stc1Kiko1pdPvKWUHQfOOqbfE3eq\n/W3XKbROLU1oNazs/roJMfr9a8MVHhWh/JOn9Pnof+hkeqYXo/esN6a+oJv691Z+QYEefHCMNm3e\nXu7x8PBaWrb067LbiQlx+uTTrzT2iUneDtWtur5wrxo4x8vyMTN0YvuBs46Jad1Y17/hGC+Hl2zW\n6okflXu89cM3qcvEe/Rh60dUlHVKgbVD1WvaCIUnRMtitWrrO3O0+8sVXmrRpen8wr1KdPbHynP0\nR3Trxurh7I8jSzZrrbM/kp68Qw1vbCfTNFV4PEc/jHlHBUezFVg7VNdNd/SHYbVq+9tztLea9Ier\nLi65suI8fXPdG8MV4MyVNRVy5eqHb1LniffoY2euVCedKuRG5jna390lN9Y529/h2SFq0DdJtuJS\n5R48plWPz1BxTr6a/u5aXT3i5rLnR7ZsoO/6P6vMHYe81ayL1vEFx3utraBIq87RH1GtG6vbG2fe\na9c7+6P9s0OU2DdJdpf+KMnJV63EGA1a9ppyktMkSRkb92rtuPe92axLFtqtg6KfHiHDalHOV/N0\n8r0vyj1e577bVfu2/jJtNtkzTypj4usqTTsmSWqyea6K9xyQJJWmHdPRaBx2hAAAIABJREFUR6vv\n+8t1z9+rRs7xsujxGcqoJD/qtW6sPlMd54uDSzZrxSRHfsRc1VC9pjwga3Cg7Dablo//j45uTi57\nXv22TfX7byZp3p//rn1z1nurSb9au8n3Kb53W9kKirVmzDuVzkcjWzdWlzcfkTUkUP/f3n3HSV3c\nfxx/fY7ee0eliB1EqjQFlaKxkIgtagA1ltg1KkJsiaiJBU30Z6LYJTYERJRiQamCAtJEpar0Ih2k\n3fz+mLm73WP3bpHdu1vyfvK4B7vfnf3ufD8735n5zs73+1356Wxm3uP7lyUrl6PDv2+kXP0abF++\njknX/JM9m3dwxG/bc9z154AZe7bv5Kt+L7Hpmx/JKFWCM4bdQ0bJ4mQUL8aPH0xn3mPvFvAW5y0V\n8ajXvSXN7uiFc47MvfuYed9rrJ/+PQDN/3IJdU9vDhnG6gnzstdVVKh8xKdjuYItHwBHXdmdxpd2\nwcxYPGQ83w0eU5Cbm3R/eegJJkyeTtUqlRnx+r8LOzsiItnSdmZr3dNOpGLD2ozscDvT7nyBNg/3\niZmu9SN9+eKOwYzscDsVG9ambpdmAGz6djkTrnqKtV98F5V+3y97mPPoUGb99b+p3oSUOaZzc6o3\nrM0/Ot/Ku/2f57cDr4yZbsEnM/nXeX/Zb/nZ/S9l5rCJDDrzLj5+ahg97rw41VkuMGf2OI0mRzbk\nmOM6ct11d/HM0w/vl2bbtu20at0t+++HH5czYsSHhZDb5DnstBOp1LA2b3e8nUl3vUDHOPtLh4f7\nMvHOwbzd8XYqNaxN/bC/AJSrU5X6pzRl6/L12cuO792VTQtXMKzbAEZdMJC29/6ejBLFUr05B61+\nqD/e7Xg7U+56gXZx4tHu4b5MvnMw73b09Ue9EI95z37Ae137M7LbAH76eBbNb/0tAMf26crm71fw\nXtcBjO41kDZpEo9IWbF5J5SV9nmUlUl3DuadEJvcZaXeKU3ZFlFW0kW9sP3DOt7O1DzKxskP92XK\nnYMZlqtsrJwwlxGn9WNk1/5sWbKKpjecA8CS4VMY2W0AI7sNYMJNz7L1x3VpMdCaFY8RIR5t84jH\n1DsHM6JjdFu7csJcRp7Wj/dzxQNg6w9rGNVtAKO6DUi7gVYyMqg+4AZW/2kAP533R8qf2ZkSjQ6P\nSrJrwSJWXHwDK86/lm0fTaTqbVdlv+Z27WbFBdex4oLr0nqg9YguJ1K5YW1e63Q7n971Ap0f6hMz\nXZeH+vLpnYN5rdPtVG5YmyM6+/LRYcAlTB80jDd7DGDaY+/Svv8l2e+xDKP93Rfx44S5BbEpv1qd\n006kQsPajOpwO9PvfIFWD/eNma71I1cw/Y7BjOpwOxUa1qZOlxMBOO6Gc1k9aT6jOt7O6knzOe6G\ncwHY/tM6Pj7/b4w+vR/zB42g9T98Xy5z1x4+vWAgY7r2Z3TX/tTp3IxqLY4smI1NQKrisWbiPEaf\ncTdjuvZn+m3P0faxPwJQvVUTqrc+itGn92N0l7uodmIjarY7tmA2NgEqH/HpWK7gy0elo+vT+NIu\njPvNvYw+427qdj2J8g1qFczGpkjPs7ry7yceLOxsiKQF59wh+VdUpe1ga/3uLVkydBIAG2YupmSl\ncpSuWTkqTemalSlRoQwbZi4GYMnQSdTv0QqALYtWsnXxqv3Wu2/nLtZN/559u/akeAtS57huLZk5\nbCIAP85aRJkKZalQo/J+6X6ctYit6zbtt7xmk/osmuJney6eOp/ju7ZMbYYL0DnndOe1IUMBmDZ9\nJpUqV6J27Zpx0zdp0oiaNaozcdK0gspiShzRrSULw/6yduZiSlYsR5lc+0uZmpUpWb4Ma8P+snDo\nJBp0b5X9+sn3X8a0gW9CRIXmnKNEuTIAlChXml2btpO5NzPVm3PQDu/ekkUhHutC/RErHiUqlGFd\niMeioZM4ItQfe7btzE5XvGyp7Jg45yhePv3iEemIbrliE6eslCifKzYRZaXt/Zfx5cA3i3TjF8/h\n3VuyOIGyUTKibCweOonDQ9lYOWEebl9m9vvL1qm632c06tmepSO/SOVmJM1hEfFYn8++sj5GPFYl\nEI90VKrp0ez5cSV7l6+GvXvZPvpzynVpH5Xmly9n437ZBcCuOQsoXqtGYWQ1pRp1a8mCd335WDNr\nMaUqlqNsrvJRNrQta2b58rHg3Uk0CvWFc46SFXydWbJiWbav2Zj9vmZ9u7F49Jfs3LClIDblV6vf\nvSXLhvo+14aZiyhZqWwe/dFFACwbOpH6PXzfql73Fix9279/6ds5y9d/tZA9m3f4xzMXRu07e3f4\ncpVRopj/Qa8I1bWpikfWNgMUK1squ31xzlGsVAk/k7NUCaxEMX5Ztzm1G3kAVD7i07FcwZePik3q\nsmHWYvbt3I3bl8naqQs47KzWqd/QFGrVvCmVKlYo7GyIiOwnocFWM/trrufFzGxIarKUmLK1q7Bj\n5Ybs5ztW/kzZ2lX2T7Pq5zzTHIoq1arKpojYbFr9M5VqJ36Au2rBD5zQow0AJ3RvTekKZSlbuXzS\n81kY6tWtzfKfVmY/X7F8FfXq1o6b/qILz+Wdd0YWRNZSqlztKmyLKBPbV/1MuVz7QrnaVdgesb9E\npjmiWwt2rN7IzwuiZ+J98/JHVG5Sl0tnPM35Hz/sLztQRDv1kcrWrsL2XPHIt/7IlabFXRdw4ZdP\n0fi37Zn5qD9Fb8FLPh4XzXyanp88zLT70iMekXLHZkeCZSUrNofHKSvpItGyEW/7IzW5+BRWjJ+z\n3/IG57Rl6YipScx16uzX1v6KfSXLkbniUf7wGpw99kG6DR1AzTZHpyD3qVO8ZnX2rl6X/XzvmnUU\nq1UtbvoKv+vBjkk5p8FbyZLUe/Np6r7+FGVPax/3fUVd7rZl26qfKZ/ruy9fuwrb4rQtE+9/nQ4D\nLqHPtKfo+JdLmPrIW9nrbdyjFXNf/aQAtuLglKldNbrOTLA/Wib0y0pXr8Qva/0P37+s3UTp6pX2\n+4zGl3Rm1fjZ2c8tw+jx0UP8ds6zrJ4wjw1hILsoSGU86vdoxW8mPMqpr97BtNueA2DDjEWsmfIN\nPWc9Q89Zz7D6szlsWbSSokLlIz4dyxV8+dj87XJqtDmaklXKU6xMSeqe1pyydQ+NH0FFRIqaRGe2\nHmZmdwOYWSlgGLAwZbmSQvXBwCE0anssN3/wMI1OPpZNqzaQmZles/OS5cILz+PNt0YUdjYKVbHS\nJWl+47l89djQ/V6r37kpG+b/wJCWNzCs+wA6PPgHSoSZnYe6mX9/h7db38zi4VM4tm9XAOp1bsrP\n83/grRY38F63AZz8PxQP8GXlxBvPZUaMsvK/ptlN55K5N5MlwyZHLa9+UmP27dzNpu+WF1LOCkfT\nm87F7c1kaYjHzrWbGNbmFkZ1/wtfPTCETs/86ZDdV8qffTqljjuKTS+9k73sx+6XseLiG1jb72Gq\n3XktxevXKcQcFp6ml5/OxAeG8HLbm5n4wBBOf9SfGt7pvsuY/NCbafdjVVLk2uSa7Y+j0SWd+Xrg\nmzlJMh1juvbnvZY3Uq15YyodXb+AM1mAIuKxfMxXfHDKHUy8YhDN7rwAgPINalHxyLq81/JG3mtx\nA7U6HE+NNPvx5oCofEhe8ikfWxatZMH/vU+XN/rRechdbJz/Q/bZJyIiklyJ3iDrCmBIGHDtAnzo\nnHsyXmIzuxq4GuCKSm04rWyTg84owFF9zqDxpV0A+PnrJZStmzOLpGzdquxYvTEq/Y7VG6NOq4mV\n5lDR7vKutL3kNAB+mr2EyhGxqVy76gHd4GrL2o28du0gAEqWLcUJPdrwy5Ydyc1wAbru2t5ceeWl\nAHz11dfUP6xu9mv16tdhxcrVMd/XrNlxFC9enJmzivb14uI5rvcZHPN7v7+sm72E8nWrsSa8Vq5O\nVbbn2he2r95IuYj9JStNxQY1qXBYDc4f91D28t+NeZARZ9/HUReeyuxn3gdgy7I1bP1pHZWPrMO6\niBucFBXH9D6Do0L9sf7rJZSL2EfK1Umg/oiRBmDJsCl0fe3PfP34MJpcdCpzn/bx2LpsDdt+Wkel\nI+uwvgjGI9Kxvc/g6FBW1s+Ojk3ZBMvKjoiy8tuIstJzzIOMPPs+dhah0zpz+zVlI9b2Zznywk7U\nP+Mkxl64/zWhG553MkveK9qzWo/ufQZNQjw25G5rf8W+0jjEY1xEPDJ372XXbn/jtJ/nLmPrsrVU\nbFSbDeEGJ0Xd3rXrKV4757IAxWvVYN+aDfulK3PySVT+4yWs7Ptn2JNzSuu+tT7t3uWr+eWrOZQ6\n9kj2Lt//dNiiqGnvMzj+El8+1oa2JUv5OlXZlqt8bFu9kfIx2haAY3p1yr5Z1qJR0zj9H/66tjWb\nNaTHMzcAULpqBY7ociJuXyZLxs5I3YYdgCZ9umb3RzeEOiPrCtWJ9kd3hn7ZL+s3U7pmZT8rrWZl\nftmQU1dWPvYw2jx2FZ9f9g92x7jR4J4tO1gz5RvqdGnG5kL8Aaeg4pFl3bRvKX94TUpWLU/9M1ux\nYeai7FPnV46fTfVWTVg3/bv93ldQVD7i07Fc4ZePJW98zpI3PgegWb8Lo2bNisihLfN/8UfsQpTn\nzFYza2FmLYCTgKeAi/AzWieE5TE5555zzrVyzrVK1kArwPcvf8zorgMY3XUAP42ZQaNeHQGo1qIx\nu7fsyD6NIssvazexZ+tOqrVoDECjXh1ZXkQ66sk29bWPePKsu3nyrLuZP+4rWvyuEwCHn3QkO7fu\niHlt1njKVqmAmQHQ5U/n8dXbn6UiywXm2X+/kn2zq5Ejx3L5pb0AaNumBVs2b2H16rUx33fxRefx\nVhrPav3mlY8Z1n0Aw7oPYNmYGTQJ+0vNFo3ZvXUHO3PtLzvXbmL3tp3UDPtLk14d+WHcDDZ+u5zX\nm1/Pm+1u5c12t7J91c8M6/EXdq7bzLYV66nb8XgAylSvSKXGddjyQ+x4FrZvX/k4+wZFP46dwZEh\nHjVC/RErHnu27qRGiMeRvTryY6g/KjbMuZnA4d1bsDlcM2z7ivXUCfEoXb0iFRvVYWsRjUekBa98\nzIjuAxjRfQA/jImOzZ44ZWXPtujYZJWV/za/nrfb3crboayMCGWlKMtdNhonUDZ2R5SNxhFlo17n\nZpxw3dl80ucJ9v2yO/qDzGhwdluWFvHB1u9e+Tj7xlWR8ajeojF78thXqkfE46cQj7qdm3H8dWfz\naa54lKpaAcvw7Uz5w2tQsWEttv5Y9PeVLLvmfUeJI+pRvF5tKF6ccmeeyvbPor/Xksc0pvq9N7P6\nxnvJ/DknZhkVy0OJEv5x5YqUbn48uxf/UKD5PxhzX/mYN3sM4M0eA1gydgbHnu/LR62TfNuyI1f5\n2BHallon+fJx7PkdWTLOl4/tazZS72R/M6P6HY5n01L/4+erHW7jlfa38kr7W1n84XQ+G/BykRlo\nBVj48keM6dqfMV37s2LMVzTo5ftc1VocyZ4tO/Poj/obFTXo1Sm7P7pi3EwaXujf3/DCTqwYOxOA\nsvWq0XHwLXxx07NsXZLzo3CpqhUoUbEsAMVKl6D2KSewZVHhDtQXRDwib+JTpWkDMkoWZ/fP29ix\nYgM12x2LFcvAihej5snHsHnhipRvc15UPuLTsVzhlg+AUtUqZqc57KzW/DB8Suo2VkTkf5jldQMT\nMxufx3udc+60/D5gSN3LUjZ83vqh3tTp3Ix9O3cz9dbn+DnMiDnzo4GM7joAgKrNGtLuyaspVrok\nK8fP5qsBrwL+uk+tH/wDpapVYPeWHWyc/wPjf/8PAM6bNogS5cuQUbI4ezbv4JNLHmHLwuRc/2l2\nyX1JWU9+ev61L0efeiK7d+7inTv+w/K5fmbdLR8+zJNn3Q3AWf1+T/Pz2lOxVhW2rNnIl2+N56Mn\n36XpmW04886LcQ6WTl/A8HtfYt/uvSnJ5xMrJ6RkvXn551MD6d6tMzt27uSqq25jxkx/DcGvvhxH\nq9bdstN9/+0Uzjnvcr77ruCudfVszS4pW3f7B3tzWOdm7P1lN5/f9hzrw/7yu7EDGdbd7y/VmzXk\n1Ceupnjpkvz02Wym/OXV/dZz8dRBDD/rHnZt3EbZWpU59YlrKFvLX8x/9v+NYlGu06YPRvEU/vh2\n8sDe1Av1x8TbnsueUXfuuIGM7ObjUa1ZQzoN8vXHivGz+SLEo8tzN1GpcR1cpmPbivVM7fcSO1Zv\npEytynQadI2/QYzBnGdG7Xca+a+VaUlZTULaPdib+qGsTIwoKz3HDmRERFk55Qkfm+WfzWZqjLJy\n4dRBvBfKSrIVS2HZaBtRNiblUTY6RpSNaWH7fzfpcYqVKp69zetmLmJqv5cAqN3uWFr2v4gPzrk/\n6XlO5d0u24R47N25mykR8Th73EBGRcSj/SBfd6wYP5vpIR49Y8RjWr+XOPys1jT/8/lk7t2Hy3TM\nfvxdln80K2l57lg19QO3ZTq1ptqd12HFMtg6fCybnn+DKtf/gV3zv2fHZ19Q+/lHKNmkIfvW+VlD\ne1etZc1N91HqxOOocd/NuMxMLCODza8NZ+vwMSnN6web4t8I8mCd+mBvjujcjD07d/PJ7c+xNpSP\ni8cM5M0evnzUbNaQM0Lb8sP42Xx+jy8fdVofxSn3X05G8Qz27trDZwNeZt3cZVHrP+OJq1n68SwW\nf/glyVJ9X3IrkJYP9cnuj0679T/Z/dEeHz3EmK79Ad8fbfvkNRQrXZJV42czY8ArAJSsUp4O/76R\ncvWqs33FeiZf8092b9pOm8eu4rCz2rB9hZ/zlrl3H+POvIfKxx7GyU9di2VkQIbx4/vTmD9oeFK3\n52ClIh7HXn82DXt1InPvPvbt3M2sB//L+unfYxlGq4f7UuPkY8DBqvGzmfVAod5WYj/pXj4ySV0H\nJB2P5TJyn6t/kAqyfACcPvweSlWpQOaevcx6YAhrJs0/qPz3mvO3g3r/wbrjvkf4ctYcNm3aQrWq\nlfnTlZdz/jndCy0/Jao3KsAeu8iBKV+24SE5tXXbjqVFcr/Lc7A1GVI52JqOCmqwNV0UxmBrUZbK\nwdZ0lMrB1nRTkIOt6SCVg63pKJWDremoIAZb00kqB1vTUbIHW0UOZakcbE1HyR5sTXeFPdha1Giw\nVYoyDbYWrISOz8yslpm9YGajw/PjzOzK1GZNREREREREREREJH0kOhnmZWAskHVnoe+BW1KRIRER\nEREREREREUkOd4j+K6oSHWyt7px7G8gEcM7tBXQ+vIiIiIiIiIiIiEiQ6GDrdjOrBn7Y2MxOBor2\n7aVFREREREREREREClDxBNPdBowEGpvZZKAG0CtluRIRERERERERERFJMwkNtjrnZprZqcDRgAHf\nOef2pDRnIiIiIiIiIiIiclAyXdG9vumhKKHLCJhZWaAfcItzbh7QwMzOTmnORERERERERERERNJI\notdsfQnYDbQLz1cAD6YkRyIiIiIiIiIiIiJpKNHB1sbOuX8AewCcczvwlxMQERERERERERERERK/\nQdZuMysDOAAzawzsSlmuRERERERERERE5KA5XbO1QCU62Ho/MAY4zMyGAB2APinKk4iIiIiIiIiI\niEjaSWiw1Tk3zsxmACfjLx9ws3NufUpzJiIiIiIiIiIiIpJGEhpsNbPXgc+Bic65b1ObJRERERER\nEREREZH0k+hlBF4AOgH/CtdrnQVMcM49lbKciYiIiIiIiIiIyEFx6JqtBSnRywiMN7MJQGugC3At\ncDygwVYREREREREREREREr+MwCdAOWAqMBFo7Zxbm8qMiYiIiIiIiIiIiKSTjATTzQF2AycAzYAT\nzKxMynIlIiIiIiIiIiIikmYSvYzArQBmVgHoA7wE1AZKpSxnIiIiIiIiIiIiImkk0csI3Ah0BFoC\ny4AX8ZcTEBERERERERERkSLKOd0gqyDlOdhqZg2dc0vxM1ifAGY45/YWSM5ERERERERERERE0kh+\n12wdGv4/0zk3TQOtIiIiIiIiIiIiIrHldxmBDDPrDxxlZrflftE590RqsiUiIiIiIiIiIiKSXvIb\nbL0Y6BnSVUh9dkRERERERERERCRZdM3WgpXnYKtz7jvg72Y2xzk3uoDyJCIiIiIiIiIiIpJ28rtm\na5YpZvaEmX0V/h43s0opzZmIiIiIiIiIiIhIGkl0sPVFYCtwYfjbAryUqkyJiIiIiIiIiIiIpJv8\nrtmapbFz7vyI5w+Y2depyJCIiIiIiIiIiIgkh67YWrASndm608w6Zj0xsw7AztRkSURERERERERE\nRCT9JDqz9TrglYjrtG4EeqcmSyIiIiIiIiIiIiLpJ9HB1rnOuRPNrCKAc25LCvMkIiIiIiIiIiIi\nknbMufyv3GBmS4B3gRedcwtSnqsUMLOrnXPPFXY+igrFI5riEU3xiKZ4RFM8oike0RSPaIpHNMUj\nmuIRTfGIpnhEUzxyKBbRFA8RKWoSvWbricD3wAtm9oWZXZ01yzWNXF3YGShiFI9oikc0xSOa4hFN\n8YimeERTPKIpHtEUj2iKRzTFI5riEU3xyKFYRFM8RKRISWiw1Tm31Tn3vHOuPXAXcB+wysxeMbMj\nU5pDERERERERERERkTSQ0GCrmRUzs3PNbDjwJPA40Ah4H/gwhfkTERERERERERERSQuJ3iBrITAe\neNQ5NyVi+VAzOyX52UoJXcMlmuIRTfGIpnhEUzyiKR7RFI9oikc0xSOa4hFN8YimeERTPKIpHjkU\ni2iKh4gUKYneIKu8c25bAeRHREREREREREREJC0lOthaGrgSOB4onbXcOXdF6rImIiIiIiIiIiIi\nkj4SumYr8BpQG+gOfA7UB7amKlOSNzNrYGbzDiD9y2bWKzwebGbHxUjTx8yeTmY+C5uZLTOz6jGW\nT4mVPpmfke5Ceagb8fyQ2U4zq2xmfyrsfBRVZta/sPOQSgdafx7Aev9qZmfEWN7ZzEaFx+eaWb/w\nuGesuriwmNmHZlb5ANKnJI4JfvYhf6ZNZLudTiLLeJzXm5vZWSn8/PvN7M+pWn9hMrNbzKxsYedD\nCl/ufkxkO3MoOZT357wUZvtaEJL9vZrZMWb2tZnNMrPGyVpvxPo/M7NWyV6viBz6Eh1sPdI5dw+w\n3Tn3CvAboG3qsiWp4py7yjn3TWHnI9XMrFi815xz7QsyL2mqD1A3v0SJMLNErw1dUCoDGmyN75Ae\nbE0V59y9zrmP80kz0jn3SHjaEygyg63OubOcc5sKOx9SdJiXaD8R2K+Mx9IcOKDB1iLYhhSWWwAN\ntgZ59fP+B6gfIwfkEK9HewJDnXMnOecWF3ZmRESyJNqJ3hP+32RmJwCVgJqpydL+zKycmX1gZrPN\nbJ6ZXWRmLc3sczObYWZjzaxOSPtHM/sypH03axaAmV0Q3jvbzCaEZaXN7CUzmxt+DesSlvcxs2Fm\nNsbMFprZPwpqWw9AMTN73szmm9k4MysTZox8YWZzzGy4mVXJ/abIX+fMrK+ZfW9m04EOEWnOMbNp\nISYfm1ktM8sIsagR0mSY2aKs58lkZneY2U3h8SAz+zQ8Ps3MhpjZJeE7m2dmf4943zYze9zMZgPt\nIpaXMbPRZvbHrHTh/84hHkPN7NuwbguvnRWWzTCzf1rOzLRqId7zzWwwYBGfMyKkn29mV4dlV5jZ\nkxFp/mhmgwohZt3MbKqZzTSzd8ysfHj93rC/zDOz58LBdS+gFTDE/C/FZcLH3BjeP9fMjgnvL2dm\nL5rZ9FBezgvL+5jZyJCPT5K9vQfpEaBx2LZHQ+y+DPvNA5A9q+Bb87PLvg8xPMPMJof9oE1Id7+Z\nvRZiuzCrjKWL3GXWzB4ByoTYDAlpLgvf79dm9h8LB7hhf3s0vPdjM2sT9qclZnZuSNPHzN4Lyxea\n2X2FuLmRYtWfkXVjdTNbFh73CXH6yPwM7xvM7LZQ3r8ws6ohXeQZBD1C+ZkJ/C7rQ8O6njaz9sC5\nwKMhro1D2qx0TSKfJ0MCdcSysN0NzGxB7viEtC3Nt6Gzgesj1n18RBmZE/KftQ8NCesbajntcbz2\nu7H5dneGmU2MqGcahn1srpk9mMy4JMrM/hC2bXbY5/drJ0O6U0McsmbZVLBcs85CGegTHu9XBxfG\n9kXkrYGZfWdmrwLzgMstdtsRr43MPkvGcvW7zKwk8FfgohCfi+wA2hCLUVeH5QPM19OTgKMLMl65\nxSgnDczs07DsEzM7PKSLmrls+fRLwr5bFxhvZuMLZ+t+PfMz/2+JeD7QzG7O4zvdrz8Vlsfs5xVl\nlkB/wsyqhm2eY75daRbee3/YP7La1pvCaqP6MWFZ+dzlplA2+CDF2p8txrFdqFuXmlmJkKZi5PND\nQMLHeZZ3/6VI9MWT8b3G2n7zZ0rcAlxnZuMtn75OeBzvmChm3yRiGzLCflwo/RARSUPOuXz/gKuA\nKsApwBJgLXBNIu9Nxh9wPvB8xPNKwBSgRnh+EfBieFwtIt2DwI3h8VygXnhcOfx/e8T7jgF+xF+T\ntk/Yzkrh+Q/AYQW1vQnEowGwF2genr8NXAbMAU4Ny/4KPBkevwz0Co8/ww+k1QnbWwMoCUwGng5p\nqkD29XyvAh4Pj+8DbgmPuwHvpmj7TgbeCY8nAtOBEuHz74vId3HgU6BnSOuACyPWsyzE6mPgDxHL\nt4X/OwOb8ZfFyACmAh3Dd/4T0DCkewMYFR7/E7g3PP5N+Mzq4XnV8H8Z/EFqNaA8sBgoEV6bAjQt\n4JjdBUwAyoXX74rYhqoR63gNOCeynOSKZda+9CdgcHj8EHBZ1n4FfA+Uw+9DyyPXX1T+QpmYF1GO\nn8MPmmcAo/D1XAP8PtY0LJ8BvBjSnQeMCO+/H5gdvvPqodzULextPIBYxCqz2yJePxZ4P6L8/l/W\nvhTK/pnh8XBgXChzJwJfh+V9gFVhvVmf0aogti2f7z9W/Zld5sN3uSxiGxYBFfD1zmbg2vDaIHLq\nxJeBXuTUH01CeXmbnPqjDzn17MuEejk8Hx+Rp4ey9rckbndedcS4BJ5oAAAL+0lEQVQ1+H28erz4\nhMdzgFPC40fJ2Y/+BVwaHpcM33WDUEY6hOUvAn8Onxmv/f4EaBIetwU+DY9HRpS764koowVUZo7H\n123ZdT3x28n3I7a5PL6d6pxVBsLyp4E+kftgeBxZB0eVjwLePzJDealOjLaDvNvIyDIeq9+V/XpE\nWc+3DSF+Xd0yfE5ZoCJ+X/1zQcctj3LyPtA7PL+CnLYj6vsln35JeG1Z1rrT7S+Uq5nhcQa+X3RR\nrO80cr8gom0Kz6P6eenwRwL9CXwdel9Ifxo5bej9+PqyVNgfN+Dr0AaE+je/cpNOf/H2Z+If271E\nzjHA1YR6ON3/OPDjvM+I338p9L54sr7XPLb/fkK9T/59nXjtWl59k8/Cet8ABhR2+dCf/vSXPn95\nzmw1P3vntlAx9sUP0j0D/B3fGS4oc4GuZvZ3M+sEHAacAHxkZl8Df8F3MABOMD8jZi5wKb7zC34w\n8WXzM8+yTj3qCLwO4Jz7Fj+oelR47RPn3Gbn3C/AN8ARKd3CA7fUOfd1eDwDaIw/mPk8LHsFfyAS\nT1vgM+fcOufcbuCtiNfqA2NDDO8gJ4YvAn8Ij6/AN4apMANoaWYVgV34TmMroBOwKSLfe4Eh5Gzn\nPuDdXOt6D3jJOfdqnM+a7pxb7pzLBL7Gd3COAZY455aGNG9EpD+FnDLzAbAx4rWbwmyLL/BltIlz\nbht+QPhs87O0Sjjn5iYeioTlFbOd+NOVJ4f9pTc55bmL+dlZc/Ed/OP3W3OOYRGf1SA87gb0C+v9\nDH8Qfnh47SPn3M8Hv2kp1S38zQJm4r/7JuG1pc65uaFszMfXCQ5fHzWIWMd7zrmdzrn1+AGzNgWV\n+STYr8zmev10fCf5y/Adnw40Cq/tBsaEx3OBz51ze9g/Ph855zY453biy1DHVGzIAcpdfzbIJ/14\n59xW59w6/AHt+2F57m0FX4aWOucWhvLyeoJ5Ggz0NT9z+CLgvwm+L1F51RETc6XdLz7mr+da2Tk3\nISx/LSL9VKC/md0FHBG+a4CfnHOTw+PX8d/90cRov8PMkvbAO2H5f/A/CoI/8yKrHo783IJyGv7g\nbT1AqNfitZOTgSfCzJrKoZ3Ky4HUwQXlB+fcF/iDy1htR15tZKRY/a7cEm1D4tXVnYDhzrkdzrkt\n+IH5whKrnLQjZ19+jcTqv1j9krTmnFsGbDCzk8j5HlsTv/2N1zbF6uelg/z6Ex0JdZtz7lOgWqir\nAT5wzu0K5WotUCvOZxwK5Sbe/hzv2G4w/viU8H+qjksKw8Ee52UpCn3xg/5ezawSiW1/fn2deO1a\nzL5JxHr/g/+BY+BBxEFE/sfkd/2WCuH/o/GdoqzK8Rz8L0UFwjn3vZm1wF/n60H84NV851ysU4he\nxv8aNtv8aXqdwzquNbO2+NmIM8ysZT4fuyvi8T7yj1VBy52/hG9skoB/AU8450aaWWf8L4Y4534y\nszVmdhp+QOnSJH5mNufcHjNbiv9Fdgr+l8wuwJH4mR3xvrtfnHP7ci2bDPQws/+Gjm1uSfmeQ5zO\nANo553aY2Wf4g0bwnYb+wLekqCOYT8yW4jtbl+TKc2n8TMVW4bu9PyLPsWTFKjJOBpzvnPsu17rb\nAtsPZpsKiAEPO+f+E7XQrAHRZSMz4nkm0eUkd7mKVc6KnHzKbHYy4BXn3N0xVrEnYp/Kjo9zLtOi\nrw1WFOOTe78vg59FkvUDZO44JFoWDsa7+JkXnwIznHMbkrReIN86YkGu5LHik9e6/2tm0/Dt64dm\ndg3+7JBY370Ro/0OB0abnHPN431MXnkoBPHayUfM7AN8f2WymXUnumxBKF+/og4uKFl1txG77Yj3\nHUVJsN+VaBsSr66+hfSUXSbMXxe3ZMRrRb3/+WsNxtc/tfE/3p9O7O+0M/Hbplj9vHSQXxuyZ793\nxH5vXuXhUC03EP/YbrL5yzR0Boo55w6lm0odyHFeXv2XotwXf5kEv9cw2JqvBPo6jYndrjUl/tgC\nYV1dzOzxMBFLRCRfec5sdc494Jx7AP/LTgvn3O3Oudvxg12H5/XeZDJ/V/QdzrnX8acutgVqmFm7\n8HoJM8v6NawCsMr8tV4ujVhHY+fcNOfcvcA6/C/lE7PSmNlRYZuiOvxpZDOwMcz8Bbgc+DyP9NOA\nU81fg7QEcEHEa5WAFeFx71zvG4yfofROiju8E/GnmEwIj6/Fz36YHvJdPcwAu4S8t/Ne/OzTZw7g\ns78DGoUBN/CzzLJMAH4PYGZn4k8lBR+zjeHA4Bj8L6cAOOem4cvb74k/AygZ4sXsC6CDmR0Z8l0u\nlPesDtn6MKss8s7XW8n5sSUvY/HXcs261u1JydiQFIvctrHAFRHXa6pnZgd6PerzzF//uRq+o/hl\n0nKaWvHK7B7LuebZJ0CvrJiYv67cgc7y7xreVwZ/E4PJ+b2hkCwj54ecg7kL/Lf4maBZd8S9JE66\nqH0sdN7HAs+Sutk5MeuIOD9ERXH+5lmbzCxrZl5k+9oIP9Pxn/izCZqFlw7Paqfx9d8kfP26X/sd\nZrssNbMLwnIzsxPDeycDF+f+3AL0KXBB2Mcxf53emO1k6GvMdc79HV8XHIM/a+Y4MysVZgifHpLn\nVQcXBfHajrzayGxx+l2525ZE25B4dfUEoKf56xlWwE8GKCyxyskUostu1izyZeTUN+fiT2HNT6Lt\nclE1HOiBn7wxlvjfadz+1CEs8nikM7A+1InxpHtZiCfe/hzz2C54FT97/FCa1RpLXsd5y0hO/yVV\nDvp7dc4dyHFuXn2dvNq1eGMLAC8AHwJv26F9szERSaJEb5BVC3/KaJbdxD+NJRWaAtPNT+u/Dz+A\n1gv4u/nTjL7Gn34IcA9+IHEy/qA3y6MWbqqE7/zOxs8oyTB/+sJb+GuoRf6SmG5647dzDv6Ov3+N\nl9A5two/E2cqPlaRM5vux5/KOQNYn+utI/HXoUt1p2Yi/hTSqc65NcAvwMSQ737407Vn42eAvZfP\num7G3/QnoRudhVNg/wSMCTHYiu/kADwAnGJm8/E3vvkxLB8DFDezBfgbF3yRa7VvA5OdcxtJnXgx\nW4f/hfeNUDamAseEwZPn8ddDG0v0IOHLwL8t+gZZsfwNf5A4J8Tkb8ndpOQLMwYnh7qgK74zNzXU\nA0M58AOYOfjy+AXwN+fcymTmN4Xildnn8N/nEOfcN/hTqcaFsvMROad2J2o6ftbmHPx1nr9KSu6T\n7zH8DRZm4a/p9auEQdOrgQ/M3+RqbZykbwJ3mL8pUNbA7BD8TKdxv/bz8xGzjjiA9/cFngltceTN\nVy4E5oXlJ+APksAfvFwfylgV4FnnL1sTr/2+FLgyLJ+Pv54h+Dr8+rCP1juQDU4G59x8YCDwecjb\nE8RvJ28xf1OoOfjZaqOdcz/h24B54f9ZYb151cGFLo+2I682MlKsftd4/MDz12Z2EQm2Ic65ccSo\nq51zM/H9t9nAaAoxhnHKyY34y4PMwQ8O3BySP4//4TjrRk+JzD57Dh/z8UnPfAEI+/544G3n3L54\n3yn596cORffjT32eg9/m3BMdokT2YyznBllpL4/9Od6xHfh2swqpncxQVMQ7zktK/yVVkvi9Jnqc\nG7evk0e7llffJGs7nsC336+ZPyNBRCRPWTd3yDuR2QD8wdTwsKgn8JZz7uEU5k2KIPN3uxzknOuU\nb+I0ZmblnXPbwmybZ4CFzrlBB7G+Ufi4FerdQCW5zJ/2u80591hh56UoMn9aWCvn3A2FnZd0YGZ/\nBio55+4p7LwcrDDrcZRz7oRCzoqkQLLbSDn0hcGJmcAFzrmFhZ0fOTSYWS/gPOfc5YWdF0kefa8i\ncihIaBq8c26gmY3GX1waoK9zblbqsiVFkZn1A66jcE7jLGh/NLPe+OuozcJfGP2AhVNGpwOzNdAq\nIvGY2XD8tcROK+y8iCQgKW2k/G8ws+OAUfib5GigVZLCzP4FnIm/RrYcIvS9isihIqGZrSIiIiIi\nIiIiIiKSN11vRERERERERERERCQJNNgqIiIiIiIiIiIikgQabBURERERERERERFJAg22ioiIiIiI\niIiIiCSBBltFREREREREREREkkCDrSIiIiIiIiIiIiJJ8P+We21QaD7VVAAAAABJRU5ErkJggg==\n",
            "text/plain": [
              "<Figure size 4320x1440 with 2 Axes>"
            ]
          },
          "metadata": {
            "tags": []
          }
        }
      ]
    },
    {
      "cell_type": "code",
      "metadata": {
        "id": "IWRVTrqqU9uG",
        "colab_type": "code",
        "colab": {}
      },
      "source": [
        "#Transform Data\n",
        "#Normalize weather data\n",
        "data, mean_temp, sd_temp=normalize(data,[\"temp\"])\n",
        "data,mean_atemp,sd_atemp=normalize(data,[\"atemp\"])\n",
        "data,mean_humidity,sd_humidity=normalize(data,[\"humidity\"])\n",
        "data,mean_windspeed,sd_windspeed=normalize(data,[\"windspeed\"])\n",
        "\n",
        "#One hot-encode categorical data\n",
        "data = dummy_data(data, [\"season\",\"weather\",\"hour\",\"dayofweek\",\"month\"]) #\"day\" not included because of incomplete data\n",
        "#TODO: Check which all features require hot encoding, and which work better without hot encoding"
      ],
      "execution_count": 0,
      "outputs": []
    },
    {
      "cell_type": "code",
      "metadata": {
        "id": "RYFTtiuCUfkg",
        "colab_type": "code",
        "outputId": "12642de4-3adf-4b98-de91-4b9ee92ddc6c",
        "colab": {
          "base_uri": "https://localhost:8080/",
          "height": 337
        }
      },
      "source": [
        ""
      ],
      "execution_count": 0,
      "outputs": [
        {
          "output_type": "display_data",
          "data": {
            "image/png": "iVBORw0KGgoAAAANSUhEUgAAA6UAAAFACAYAAABEN9peAAAABHNCSVQICAgIfAhkiAAAAAlwSFlz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\nSUVORK5CYII=\n",
            "text/plain": [
              "<Figure size 1152x360 with 2 Axes>"
            ]
          },
          "metadata": {
            "tags": []
          }
        }
      ]
    },
    {
      "cell_type": "code",
      "metadata": {
        "id": "awuxCbq6dxMg",
        "colab_type": "code",
        "colab": {}
      },
      "source": [
        "#Shuffle data and split into training+validation, and testing\n",
        "#Training and Validation data kept together as Keras will do the auto split\n",
        "data=shuffle(data,random_state=1) #Seed=1 applied for ability to repeat same tests with parameters tuning\n",
        "\n",
        "testDataSplit=0.2 #0.3 means 30% data will be taken out for test and remaining for training+validation\n",
        "nrows = len(data)\n",
        "training_validation_rows = int(nrows*(1-testDataSplit))\n",
        "training_validation_data=data[0:training_validation_rows-1]\n",
        "test_data=data[training_validation_rows:]"
      ],
      "execution_count": 0,
      "outputs": []
    },
    {
      "cell_type": "code",
      "metadata": {
        "id": "Q6fL547YeY9W",
        "colab_type": "code",
        "colab": {}
      },
      "source": [
        "#Drop casual and registered users columns\n",
        "training_validation_data = drop_redundantcolumns(training_validation_data)\n",
        "\n",
        "#Separate target variable, and convert features data into a numpy array\n",
        "data_x, data_y = create_targetvariable(training_validation_data)"
      ],
      "execution_count": 0,
      "outputs": []
    },
    {
      "cell_type": "code",
      "metadata": {
        "id": "cKDHHP0wfagY",
        "colab_type": "code",
        "colab": {}
      },
      "source": [
        "#Generate NN Sequential Model\n",
        "NN_model = Sequential()\n",
        "\n",
        "# The Input Layer :\n",
        "NN_model.add(Dense(128, kernel_initializer='normal',input_dim = data_x.shape[1], activation='relu'))\n",
        "\n",
        "# The Hidden Layers :\n",
        "NN_model.add(Dense(256, kernel_initializer='normal',activation='relu'))\n",
        "NN_model.add(Dense(256, kernel_initializer='normal',activation='relu'))\n",
        "NN_model.add(Dense(256, kernel_initializer='normal',activation='relu'))\n",
        "\n",
        "# The Output Layer :\n",
        "NN_model.add(Dense(1, kernel_initializer='normal',activation='softplus'))\n",
        "\n",
        "#Define optimizer\n",
        "adam = Adam(lr=1e-3, decay=1e-3 / 200)\n",
        "\n",
        "# Compile the network :\n",
        "NN_model.compile(loss='mean_squared_logarithmic_error', optimizer=adam, metrics=['mean_absolute_error','mean_squared_error'])\n",
        "#NN_model.summary()"
      ],
      "execution_count": 0,
      "outputs": []
    },
    {
      "cell_type": "code",
      "metadata": {
        "id": "VFqrlKX-geLl",
        "colab_type": "code",
        "colab": {}
      },
      "source": [
        "#Define callbacks for model training\n",
        "checkpoint_name = 'Weights-{epoch:03d}--{val_loss:.5f}.hdf5' \n",
        "checkpoint = ModelCheckpoint(checkpoint_name, monitor='val_loss', verbose =1, save_best_only = True, mode ='auto')\n",
        "early_stop=EarlyStopping(monitor='val_loss',patience=10)\n",
        "callbacks_list = [checkpoint,early_stop]"
      ],
      "execution_count": 0,
      "outputs": []
    },
    {
      "cell_type": "code",
      "metadata": {
        "id": "pKfpV__-fal1",
        "colab_type": "code",
        "colab": {}
      },
      "source": [
        "#Define plot function to show training and validation losses\n",
        "def plot_history(history):\n",
        "  hist = pd.DataFrame(history.history)\n",
        "  hist['epoch'] = history.epoch\n",
        "  \n",
        "  plt.figure()\n",
        "  plt.xlabel('Epoch')\n",
        "  plt.ylabel('Mean Abs Error')\n",
        "  plt.plot(hist['epoch'], hist['mean_absolute_error'],\n",
        "           label='Train Error')\n",
        "  plt.plot(hist['epoch'], hist['val_mean_absolute_error'],\n",
        "           label = 'Val Error')\n",
        "  plt.ylim([0,5])\n",
        "  plt.legend()\n",
        "  plt.show()"
      ],
      "execution_count": 0,
      "outputs": []
    },
    {
      "cell_type": "code",
      "metadata": {
        "id": "UPQpyEsPg2Gu",
        "colab_type": "code",
        "outputId": "9903dc83-5457-4fa4-dcad-ed059c335d1b",
        "colab": {
          "base_uri": "https://localhost:8080/",
          "height": 1000
        }
      },
      "source": [
        "#TRAIN MODEL\n",
        "history=NN_model.fit(data_x, data_y, epochs=1000, batch_size=32, validation_split = 0.2, callbacks=callbacks_list)\n"
      ],
      "execution_count": 0,
      "outputs": [
        {
          "output_type": "stream",
          "text": [
            "Train on 8708 samples, validate on 2177 samples\n",
            "Epoch 1/1000\n",
            "8708/8708 [==============================] - 2s 214us/step - loss: 2.1842 - mean_absolute_error: 143.6277 - mean_squared_error: 41780.7941 - val_loss: 2.0549 - val_mean_absolute_error: 138.0659 - val_mean_squared_error: 37253.7161\n",
            "\n",
            "Epoch 00001: val_loss improved from inf to 2.05492, saving model to Weights-001--2.05492.hdf5\n",
            "Epoch 2/1000\n",
            "8708/8708 [==============================] - 1s 129us/step - loss: 1.9091 - mean_absolute_error: 139.7101 - mean_squared_error: 40606.2521 - val_loss: 1.4221 - val_mean_absolute_error: 122.5117 - val_mean_squared_error: 33679.4904\n",
            "\n",
            "Epoch 00002: val_loss improved from 2.05492 to 1.42214, saving model to Weights-002--1.42214.hdf5\n",
            "Epoch 3/1000\n",
            "8708/8708 [==============================] - 1s 125us/step - loss: 1.1057 - mean_absolute_error: 111.1046 - mean_squared_error: 28079.4938 - val_loss: 0.9438 - val_mean_absolute_error: 105.9648 - val_mean_squared_error: 26933.0099\n",
            "\n",
            "Epoch 00003: val_loss improved from 1.42214 to 0.94380, saving model to Weights-003--0.94380.hdf5\n",
            "Epoch 4/1000\n",
            "8708/8708 [==============================] - 1s 132us/step - loss: 1.0192 - mean_absolute_error: 108.6709 - mean_squared_error: 27068.8096 - val_loss: 0.9207 - val_mean_absolute_error: 103.6632 - val_mean_squared_error: 24887.9562\n",
            "\n",
            "Epoch 00004: val_loss improved from 0.94380 to 0.92069, saving model to Weights-004--0.92069.hdf5\n",
            "Epoch 5/1000\n",
            "8708/8708 [==============================] - 1s 131us/step - loss: 1.0195 - mean_absolute_error: 109.0211 - mean_squared_error: 27364.7977 - val_loss: 1.1777 - val_mean_absolute_error: 106.5288 - val_mean_squared_error: 24166.5539\n",
            "\n",
            "Epoch 00005: val_loss did not improve from 0.92069\n",
            "Epoch 6/1000\n",
            "8708/8708 [==============================] - 1s 132us/step - loss: 0.9187 - mean_absolute_error: 105.2227 - mean_squared_error: 26147.3012 - val_loss: 0.7905 - val_mean_absolute_error: 94.9605 - val_mean_squared_error: 20690.8858\n",
            "\n",
            "Epoch 00006: val_loss improved from 0.92069 to 0.79050, saving model to Weights-006--0.79050.hdf5\n",
            "Epoch 7/1000\n",
            "8708/8708 [==============================] - 1s 124us/step - loss: 0.7633 - mean_absolute_error: 99.0634 - mean_squared_error: 23738.2430 - val_loss: 0.5741 - val_mean_absolute_error: 86.9606 - val_mean_squared_error: 16917.8197\n",
            "\n",
            "Epoch 00007: val_loss improved from 0.79050 to 0.57415, saving model to Weights-007--0.57415.hdf5\n",
            "Epoch 8/1000\n",
            "8708/8708 [==============================] - 1s 131us/step - loss: 0.5755 - mean_absolute_error: 90.9021 - mean_squared_error: 20660.6337 - val_loss: 0.5269 - val_mean_absolute_error: 82.9138 - val_mean_squared_error: 17287.1233\n",
            "\n",
            "Epoch 00008: val_loss improved from 0.57415 to 0.52695, saving model to Weights-008--0.52695.hdf5\n",
            "Epoch 9/1000\n",
            "8708/8708 [==============================] - 1s 128us/step - loss: 0.4689 - mean_absolute_error: 85.1088 - mean_squared_error: 18400.0841 - val_loss: 0.7452 - val_mean_absolute_error: 88.6774 - val_mean_squared_error: 19524.9663\n",
            "\n",
            "Epoch 00009: val_loss did not improve from 0.52695\n",
            "Epoch 10/1000\n",
            "8708/8708 [==============================] - 1s 125us/step - loss: 0.4301 - mean_absolute_error: 82.7380 - mean_squared_error: 17587.2220 - val_loss: 0.3827 - val_mean_absolute_error: 78.8321 - val_mean_squared_error: 15893.5629\n",
            "\n",
            "Epoch 00010: val_loss improved from 0.52695 to 0.38269, saving model to Weights-010--0.38269.hdf5\n",
            "Epoch 11/1000\n",
            "8708/8708 [==============================] - 1s 130us/step - loss: 0.4493 - mean_absolute_error: 86.1941 - mean_squared_error: 18940.2219 - val_loss: 0.3861 - val_mean_absolute_error: 78.5947 - val_mean_squared_error: 15798.1566\n",
            "\n",
            "Epoch 00011: val_loss did not improve from 0.38269\n",
            "Epoch 12/1000\n",
            "8708/8708 [==============================] - 1s 123us/step - loss: 0.3879 - mean_absolute_error: 80.9688 - mean_squared_error: 16971.1547 - val_loss: 0.4620 - val_mean_absolute_error: 80.9492 - val_mean_squared_error: 14281.4611\n",
            "\n",
            "Epoch 00012: val_loss did not improve from 0.38269\n",
            "Epoch 13/1000\n",
            "8708/8708 [==============================] - 1s 124us/step - loss: 0.3697 - mean_absolute_error: 79.3628 - mean_squared_error: 16218.0557 - val_loss: 0.5437 - val_mean_absolute_error: 104.3604 - val_mean_squared_error: 20150.7058\n",
            "\n",
            "Epoch 00013: val_loss did not improve from 0.38269\n",
            "Epoch 14/1000\n",
            "8708/8708 [==============================] - 1s 124us/step - loss: 0.4153 - mean_absolute_error: 84.2429 - mean_squared_error: 18362.1842 - val_loss: 0.3242 - val_mean_absolute_error: 76.3519 - val_mean_squared_error: 14417.3557\n",
            "\n",
            "Epoch 00014: val_loss improved from 0.38269 to 0.32424, saving model to Weights-014--0.32424.hdf5\n",
            "Epoch 15/1000\n",
            "8708/8708 [==============================] - 1s 125us/step - loss: 0.3556 - mean_absolute_error: 78.3546 - mean_squared_error: 15957.3133 - val_loss: 0.4099 - val_mean_absolute_error: 79.5643 - val_mean_squared_error: 16897.1777\n",
            "\n",
            "Epoch 00015: val_loss did not improve from 0.32424\n",
            "Epoch 16/1000\n",
            "8708/8708 [==============================] - 1s 133us/step - loss: 0.3592 - mean_absolute_error: 77.7360 - mean_squared_error: 15660.9378 - val_loss: 0.3005 - val_mean_absolute_error: 72.1001 - val_mean_squared_error: 13657.8697\n",
            "\n",
            "Epoch 00016: val_loss improved from 0.32424 to 0.30052, saving model to Weights-016--0.30052.hdf5\n",
            "Epoch 17/1000\n",
            "8708/8708 [==============================] - 1s 132us/step - loss: 0.3249 - mean_absolute_error: 75.0128 - mean_squared_error: 14772.7169 - val_loss: 0.3559 - val_mean_absolute_error: 72.3830 - val_mean_squared_error: 13021.3005\n",
            "\n",
            "Epoch 00017: val_loss did not improve from 0.30052\n",
            "Epoch 18/1000\n",
            "8708/8708 [==============================] - 1s 127us/step - loss: 0.3409 - mean_absolute_error: 75.4050 - mean_squared_error: 14671.9870 - val_loss: 0.3078 - val_mean_absolute_error: 72.4348 - val_mean_squared_error: 14279.5549\n",
            "\n",
            "Epoch 00018: val_loss did not improve from 0.30052\n",
            "Epoch 19/1000\n",
            "8708/8708 [==============================] - 1s 122us/step - loss: 0.3227 - mean_absolute_error: 73.6196 - mean_squared_error: 14132.8877 - val_loss: 0.3093 - val_mean_absolute_error: 69.3279 - val_mean_squared_error: 12558.3929\n",
            "\n",
            "Epoch 00019: val_loss did not improve from 0.30052\n",
            "Epoch 20/1000\n",
            "8708/8708 [==============================] - 1s 123us/step - loss: 0.3056 - mean_absolute_error: 71.8590 - mean_squared_error: 13436.5668 - val_loss: 0.2974 - val_mean_absolute_error: 66.9669 - val_mean_squared_error: 12318.3263\n",
            "\n",
            "Epoch 00020: val_loss improved from 0.30052 to 0.29738, saving model to Weights-020--0.29738.hdf5\n",
            "Epoch 21/1000\n",
            "8708/8708 [==============================] - 1s 123us/step - loss: 0.3201 - mean_absolute_error: 71.9497 - mean_squared_error: 13465.3213 - val_loss: 0.3058 - val_mean_absolute_error: 70.7824 - val_mean_squared_error: 13393.3537\n",
            "\n",
            "Epoch 00021: val_loss did not improve from 0.29738\n",
            "Epoch 22/1000\n",
            "8708/8708 [==============================] - 1s 124us/step - loss: 0.2825 - mean_absolute_error: 67.7581 - mean_squared_error: 11971.9648 - val_loss: 0.2786 - val_mean_absolute_error: 65.9226 - val_mean_squared_error: 10285.3899\n",
            "\n",
            "Epoch 00022: val_loss improved from 0.29738 to 0.27856, saving model to Weights-022--0.27856.hdf5\n",
            "Epoch 23/1000\n",
            "8708/8708 [==============================] - 1s 125us/step - loss: 0.3312 - mean_absolute_error: 70.7821 - mean_squared_error: 13011.4989 - val_loss: 0.4127 - val_mean_absolute_error: 76.3887 - val_mean_squared_error: 13872.8707\n",
            "\n",
            "Epoch 00023: val_loss did not improve from 0.27856\n",
            "Epoch 24/1000\n",
            "8708/8708 [==============================] - 1s 126us/step - loss: 0.2727 - mean_absolute_error: 66.1412 - mean_squared_error: 11236.5169 - val_loss: 0.3997 - val_mean_absolute_error: 68.9648 - val_mean_squared_error: 11676.0729\n",
            "\n",
            "Epoch 00024: val_loss did not improve from 0.27856\n",
            "Epoch 25/1000\n",
            "8708/8708 [==============================] - 1s 126us/step - loss: 0.2798 - mean_absolute_error: 65.9492 - mean_squared_error: 11173.8672 - val_loss: 0.2354 - val_mean_absolute_error: 60.3395 - val_mean_squared_error: 10114.4095\n",
            "\n",
            "Epoch 00025: val_loss improved from 0.27856 to 0.23537, saving model to Weights-025--0.23537.hdf5\n",
            "Epoch 26/1000\n",
            "8708/8708 [==============================] - 1s 124us/step - loss: 0.2506 - mean_absolute_error: 62.9837 - mean_squared_error: 10216.9984 - val_loss: 0.3360 - val_mean_absolute_error: 65.6248 - val_mean_squared_error: 10609.9380\n",
            "\n",
            "Epoch 00026: val_loss did not improve from 0.23537\n",
            "Epoch 27/1000\n",
            "8708/8708 [==============================] - 1s 137us/step - loss: 0.2974 - mean_absolute_error: 66.5413 - mean_squared_error: 11433.7273 - val_loss: 0.2327 - val_mean_absolute_error: 59.4020 - val_mean_squared_error: 8998.9497\n",
            "\n",
            "Epoch 00027: val_loss improved from 0.23537 to 0.23275, saving model to Weights-027--0.23275.hdf5\n",
            "Epoch 28/1000\n",
            "8708/8708 [==============================] - 1s 127us/step - loss: 0.2299 - mean_absolute_error: 59.9400 - mean_squared_error: 9156.6935 - val_loss: 0.2553 - val_mean_absolute_error: 57.5921 - val_mean_squared_error: 8125.3358\n",
            "\n",
            "Epoch 00028: val_loss did not improve from 0.23275\n",
            "Epoch 29/1000\n",
            "8708/8708 [==============================] - 1s 124us/step - loss: 0.2408 - mean_absolute_error: 60.3312 - mean_squared_error: 9212.0522 - val_loss: 0.2388 - val_mean_absolute_error: 58.6634 - val_mean_squared_error: 8531.8358\n",
            "\n",
            "Epoch 00029: val_loss did not improve from 0.23275\n",
            "Epoch 30/1000\n",
            "8708/8708 [==============================] - 1s 125us/step - loss: 0.2390 - mean_absolute_error: 59.6463 - mean_squared_error: 8943.6158 - val_loss: 0.2280 - val_mean_absolute_error: 58.0987 - val_mean_squared_error: 8583.1227\n",
            "\n",
            "Epoch 00030: val_loss improved from 0.23275 to 0.22803, saving model to Weights-030--0.22803.hdf5\n",
            "Epoch 31/1000\n",
            "8708/8708 [==============================] - 1s 127us/step - loss: 0.2415 - mean_absolute_error: 61.1065 - mean_squared_error: 9416.1221 - val_loss: 0.3230 - val_mean_absolute_error: 62.4934 - val_mean_squared_error: 9077.5572\n",
            "\n",
            "Epoch 00031: val_loss did not improve from 0.22803\n",
            "Epoch 32/1000\n",
            "8708/8708 [==============================] - 1s 129us/step - loss: 0.2332 - mean_absolute_error: 59.5337 - mean_squared_error: 8850.0561 - val_loss: 0.2114 - val_mean_absolute_error: 54.4194 - val_mean_squared_error: 7502.2957\n",
            "\n",
            "Epoch 00032: val_loss improved from 0.22803 to 0.21138, saving model to Weights-032--0.21138.hdf5\n",
            "Epoch 33/1000\n",
            "8708/8708 [==============================] - 1s 126us/step - loss: 0.2409 - mean_absolute_error: 60.6202 - mean_squared_error: 9109.9508 - val_loss: 0.3099 - val_mean_absolute_error: 62.6497 - val_mean_squared_error: 9953.7802\n",
            "\n",
            "Epoch 00033: val_loss did not improve from 0.21138\n",
            "Epoch 34/1000\n",
            "8708/8708 [==============================] - 1s 127us/step - loss: 0.2383 - mean_absolute_error: 59.9274 - mean_squared_error: 8896.6274 - val_loss: 0.2315 - val_mean_absolute_error: 60.5266 - val_mean_squared_error: 9943.8817\n",
            "\n",
            "Epoch 00034: val_loss did not improve from 0.21138\n",
            "Epoch 35/1000\n",
            "8708/8708 [==============================] - 1s 124us/step - loss: 0.2262 - mean_absolute_error: 58.5496 - mean_squared_error: 8533.4238 - val_loss: 0.2359 - val_mean_absolute_error: 57.3609 - val_mean_squared_error: 8402.4298\n",
            "\n",
            "Epoch 00035: val_loss did not improve from 0.21138\n",
            "Epoch 36/1000\n",
            "8708/8708 [==============================] - 1s 127us/step - loss: 0.2279 - mean_absolute_error: 58.8812 - mean_squared_error: 8639.2567 - val_loss: 0.2610 - val_mean_absolute_error: 61.2417 - val_mean_squared_error: 9330.5366\n",
            "\n",
            "Epoch 00036: val_loss did not improve from 0.21138\n",
            "Epoch 37/1000\n",
            "8708/8708 [==============================] - 1s 131us/step - loss: 0.2395 - mean_absolute_error: 59.4465 - mean_squared_error: 8729.3288 - val_loss: 0.2956 - val_mean_absolute_error: 56.8045 - val_mean_squared_error: 7023.7385\n",
            "\n",
            "Epoch 00037: val_loss did not improve from 0.21138\n",
            "Epoch 38/1000\n",
            "8708/8708 [==============================] - 1s 126us/step - loss: 0.2378 - mean_absolute_error: 59.0853 - mean_squared_error: 8575.7801 - val_loss: 0.2225 - val_mean_absolute_error: 54.7073 - val_mean_squared_error: 7455.8425\n",
            "\n",
            "Epoch 00038: val_loss did not improve from 0.21138\n",
            "Epoch 39/1000\n",
            "8708/8708 [==============================] - 1s 127us/step - loss: 0.2092 - mean_absolute_error: 56.2582 - mean_squared_error: 7812.1188 - val_loss: 0.2187 - val_mean_absolute_error: 52.0015 - val_mean_squared_error: 6267.4166\n",
            "\n",
            "Epoch 00039: val_loss did not improve from 0.21138\n",
            "Epoch 40/1000\n",
            "8708/8708 [==============================] - 1s 123us/step - loss: 0.2247 - mean_absolute_error: 57.9082 - mean_squared_error: 8370.2837 - val_loss: 0.2578 - val_mean_absolute_error: 58.1293 - val_mean_squared_error: 8658.3333\n",
            "\n",
            "Epoch 00040: val_loss did not improve from 0.21138\n",
            "Epoch 41/1000\n",
            "8708/8708 [==============================] - 1s 126us/step - loss: 0.2102 - mean_absolute_error: 56.6967 - mean_squared_error: 7947.1307 - val_loss: 0.2036 - val_mean_absolute_error: 51.8818 - val_mean_squared_error: 6308.6434\n",
            "\n",
            "Epoch 00041: val_loss improved from 0.21138 to 0.20365, saving model to Weights-041--0.20365.hdf5\n",
            "Epoch 42/1000\n",
            "8708/8708 [==============================] - 1s 125us/step - loss: 0.2172 - mean_absolute_error: 57.4528 - mean_squared_error: 8050.2778 - val_loss: 0.2400 - val_mean_absolute_error: 57.5194 - val_mean_squared_error: 8134.0625\n",
            "\n",
            "Epoch 00042: val_loss did not improve from 0.20365\n",
            "Epoch 43/1000\n",
            "8708/8708 [==============================] - 1s 130us/step - loss: 0.2138 - mean_absolute_error: 56.1136 - mean_squared_error: 7692.6305 - val_loss: 0.2200 - val_mean_absolute_error: 54.2354 - val_mean_squared_error: 6653.2693\n",
            "\n",
            "Epoch 00043: val_loss did not improve from 0.20365\n",
            "Epoch 44/1000\n",
            "8708/8708 [==============================] - 1s 125us/step - loss: 0.2185 - mean_absolute_error: 57.4614 - mean_squared_error: 8022.6429 - val_loss: 0.2041 - val_mean_absolute_error: 53.3689 - val_mean_squared_error: 7371.4663\n",
            "\n",
            "Epoch 00044: val_loss did not improve from 0.20365\n",
            "Epoch 45/1000\n",
            "8708/8708 [==============================] - 1s 133us/step - loss: 0.2178 - mean_absolute_error: 57.0232 - mean_squared_error: 8001.4593 - val_loss: 0.2230 - val_mean_absolute_error: 56.9553 - val_mean_squared_error: 8426.2739\n",
            "\n",
            "Epoch 00045: val_loss did not improve from 0.20365\n",
            "Epoch 46/1000\n",
            "8708/8708 [==============================] - 1s 132us/step - loss: 0.2547 - mean_absolute_error: 59.7403 - mean_squared_error: 8805.1366 - val_loss: 0.2048 - val_mean_absolute_error: 53.3405 - val_mean_squared_error: 7056.4849\n",
            "\n",
            "Epoch 00046: val_loss did not improve from 0.20365\n",
            "Epoch 47/1000\n",
            "8708/8708 [==============================] - 1s 128us/step - loss: 0.2057 - mean_absolute_error: 55.5605 - mean_squared_error: 7533.5450 - val_loss: 0.2016 - val_mean_absolute_error: 51.7192 - val_mean_squared_error: 6012.5996\n",
            "\n",
            "Epoch 00047: val_loss improved from 0.20365 to 0.20156, saving model to Weights-047--0.20156.hdf5\n",
            "Epoch 48/1000\n",
            "8708/8708 [==============================] - 1s 126us/step - loss: 0.2093 - mean_absolute_error: 55.8160 - mean_squared_error: 7505.1147 - val_loss: 0.2124 - val_mean_absolute_error: 51.4350 - val_mean_squared_error: 6046.0932\n",
            "\n",
            "Epoch 00048: val_loss did not improve from 0.20156\n",
            "Epoch 49/1000\n",
            "8708/8708 [==============================] - 1s 124us/step - loss: 0.1994 - mean_absolute_error: 54.9800 - mean_squared_error: 7353.6716 - val_loss: 0.2086 - val_mean_absolute_error: 52.1111 - val_mean_squared_error: 6386.9745\n",
            "\n",
            "Epoch 00049: val_loss did not improve from 0.20156\n",
            "Epoch 50/1000\n",
            "8708/8708 [==============================] - 1s 131us/step - loss: 0.2121 - mean_absolute_error: 56.2182 - mean_squared_error: 7765.1363 - val_loss: 0.2566 - val_mean_absolute_error: 54.5926 - val_mean_squared_error: 6890.7903\n",
            "\n",
            "Epoch 00050: val_loss did not improve from 0.20156\n",
            "Epoch 51/1000\n",
            "8708/8708 [==============================] - 1s 125us/step - loss: 0.2117 - mean_absolute_error: 55.8756 - mean_squared_error: 7606.9326 - val_loss: 0.2272 - val_mean_absolute_error: 57.9149 - val_mean_squared_error: 7617.3545\n",
            "\n",
            "Epoch 00051: val_loss did not improve from 0.20156\n",
            "Epoch 52/1000\n",
            "8708/8708 [==============================] - 1s 129us/step - loss: 0.2278 - mean_absolute_error: 57.4728 - mean_squared_error: 8092.2990 - val_loss: 0.4625 - val_mean_absolute_error: 68.8491 - val_mean_squared_error: 11559.5232\n",
            "\n",
            "Epoch 00052: val_loss did not improve from 0.20156\n",
            "Epoch 53/1000\n",
            "8708/8708 [==============================] - 1s 131us/step - loss: 0.2172 - mean_absolute_error: 56.0883 - mean_squared_error: 7571.0692 - val_loss: 0.2168 - val_mean_absolute_error: 53.7451 - val_mean_squared_error: 7112.8999\n",
            "\n",
            "Epoch 00053: val_loss did not improve from 0.20156\n",
            "Epoch 54/1000\n",
            "8708/8708 [==============================] - 1s 128us/step - loss: 0.2099 - mean_absolute_error: 55.4914 - mean_squared_error: 7495.0230 - val_loss: 0.2225 - val_mean_absolute_error: 55.8354 - val_mean_squared_error: 7388.3490\n",
            "\n",
            "Epoch 00054: val_loss did not improve from 0.20156\n",
            "Epoch 55/1000\n",
            "8708/8708 [==============================] - 1s 140us/step - loss: 0.1997 - mean_absolute_error: 54.8925 - mean_squared_error: 7371.4325 - val_loss: 0.2953 - val_mean_absolute_error: 70.0221 - val_mean_squared_error: 10380.7499\n",
            "\n",
            "Epoch 00055: val_loss did not improve from 0.20156\n",
            "Epoch 56/1000\n",
            "8708/8708 [==============================] - 1s 126us/step - loss: 0.2094 - mean_absolute_error: 55.6973 - mean_squared_error: 7503.5271 - val_loss: 0.2196 - val_mean_absolute_error: 54.8472 - val_mean_squared_error: 7027.5134\n",
            "\n",
            "Epoch 00056: val_loss did not improve from 0.20156\n",
            "Epoch 57/1000\n",
            "8708/8708 [==============================] - 1s 125us/step - loss: 0.2234 - mean_absolute_error: 56.6278 - mean_squared_error: 7887.1674 - val_loss: 0.2556 - val_mean_absolute_error: 59.1789 - val_mean_squared_error: 8274.2631\n",
            "\n",
            "Epoch 00057: val_loss did not improve from 0.20156\n"
          ],
          "name": "stdout"
        }
      ]
    },
    {
      "cell_type": "code",
      "metadata": {
        "id": "Yld7jrdxg2J5",
        "colab_type": "code",
        "outputId": "054b1a1f-b5af-43f6-932b-ce03460bb651",
        "colab": {
          "base_uri": "https://localhost:8080/",
          "height": 35
        }
      },
      "source": [
        "#Save the trained model to a pickle file\n",
        "import pickle\n",
        "from sklearn.externals import joblib\n",
        "\n",
        "joblib.dump(NN_model,'BounceDemandPredictionv001.pkl')"
      ],
      "execution_count": 0,
      "outputs": [
        {
          "output_type": "execute_result",
          "data": {
            "text/plain": [
              "['BounceDemandPredictionv001.pkl']"
            ]
          },
          "metadata": {
            "tags": []
          },
          "execution_count": 139
        }
      ]
    },
    {
      "cell_type": "code",
      "metadata": {
        "id": "ztRmZBdzhxFq",
        "colab_type": "code",
        "colab": {}
      },
      "source": [
        "#TODO: Export calculated means and sd to a parameters file\n",
        "#STEP 1 DONE\n",
        "# Proceed if you want to evaluate test data"
      ],
      "execution_count": 0,
      "outputs": []
    },
    {
      "cell_type": "code",
      "metadata": {
        "id": "sjxqXbImhxIb",
        "colab_type": "code",
        "colab": {}
      },
      "source": [
        "#Define transformation functions\n",
        "def transform_temp(temp):\n",
        "  return ((temp-mean_temp[0])/sd_temp[0])\n",
        "\n",
        "def transform_atemp(atemp):\n",
        "  return ((atemp-mean_atemp[0])/sd_atemp[0])\n",
        "\n",
        "def transform_humidity(humidity):\n",
        "  return ((humidity-mean_humidity[0])/sd_humidity[0])\n",
        "\n",
        "def transform_windspeed(windspeed):\n",
        "   return ((windspeed-mean_windspeed[0])/sd_windspeed[0])"
      ],
      "execution_count": 0,
      "outputs": []
    },
    {
      "cell_type": "code",
      "metadata": {
        "id": "iMswIHRZirY6",
        "colab_type": "code",
        "colab": {}
      },
      "source": [
        "#Evaluate on test data\n",
        "\n",
        "#Drop casual and registered users columns\n",
        "test_data = drop_redundantcolumns(test_data)\n",
        "\n",
        "#Separate target variable, and convert features data into a numpy array\n",
        "test_data_x, test_data_y = create_targetvariable(test_data)"
      ],
      "execution_count": 0,
      "outputs": []
    },
    {
      "cell_type": "code",
      "metadata": {
        "id": "yaG78syOirhK",
        "colab_type": "code",
        "outputId": "80c24db0-0022-4d54-954f-757fe4c17ce6",
        "colab": {
          "base_uri": "https://localhost:8080/",
          "height": 35
        }
      },
      "source": [
        "scores=NN_model.evaluate(test_data_x,test_data_y)"
      ],
      "execution_count": 0,
      "outputs": [
        {
          "output_type": "stream",
          "text": [
            "2178/2178 [==============================] - 0s 37us/step\n"
          ],
          "name": "stdout"
        }
      ]
    },
    {
      "cell_type": "code",
      "metadata": {
        "id": "VAmOOv7nkJ17",
        "colab_type": "code",
        "outputId": "88821592-e626-4d3c-895e-df5d4ab2c2a0",
        "colab": {
          "base_uri": "https://localhost:8080/",
          "height": 35
        }
      },
      "source": [
        "test1_loss=scores[0]\n",
        "test1_mae=scores[1]\n",
        "test1_mse=scores[2]\n",
        "\n",
        "test1_mae\n",
        "\n",
        "#Evaluate on Test Data Complete"
      ],
      "execution_count": 0,
      "outputs": [
        {
          "output_type": "execute_result",
          "data": {
            "text/plain": [
              "66.0256134985345"
            ]
          },
          "metadata": {
            "tags": []
          },
          "execution_count": 60
        }
      ]
    },
    {
      "cell_type": "code",
      "metadata": {
        "id": "jqHHPciAkJ5_",
        "colab_type": "code",
        "colab": {}
      },
      "source": [
        ""
      ],
      "execution_count": 0,
      "outputs": []
    },
    {
      "cell_type": "code",
      "metadata": {
        "id": "L--WIAJFkdhf",
        "colab_type": "code",
        "colab": {}
      },
      "source": [
        "#Kaggle submission\n",
        "test=pd.read_csv(\"test.csv\")\n",
        "test_original=test.copy()"
      ],
      "execution_count": 0,
      "outputs": []
    },
    {
      "cell_type": "code",
      "metadata": {
        "id": "p17NxDxBkp_k",
        "colab_type": "code",
        "colab": {}
      },
      "source": [
        "#Transform Test Data\n",
        "#Add new features of date time\n",
        "test=datetime(test)\n",
        "test=test.drop('datetime',axis=1)\n"
      ],
      "execution_count": 0,
      "outputs": []
    },
    {
      "cell_type": "code",
      "metadata": {
        "id": "2MoeVzXUmdrw",
        "colab_type": "code",
        "colab": {}
      },
      "source": [
        "\n",
        "#Normalize weather data\n",
        "test[\"temp\"] = transform_temp(test[\"temp\"])\n",
        "test[\"atemp\"] = transform_temp(test[\"atemp\"])\n",
        "test[\"humidity\"] = transform_temp(test[\"humidity\"])\n",
        "test[\"windspeed\"] = transform_temp(test[\"windspeed\"])\n",
        "\n"
      ],
      "execution_count": 0,
      "outputs": []
    },
    {
      "cell_type": "code",
      "metadata": {
        "id": "0U7ceaIQolZw",
        "colab_type": "code",
        "colab": {}
      },
      "source": [
        "\n",
        "#test, mean_temp, sd_temp=normalize(test,[\"temp\"])\n",
        "#test,mean_atemp,sd_atemp=normalize(test,[\"atemp\"])\n",
        "#test,mean_humidity,sd_humidity=normalize(test,[\"humidity\"])\n",
        "#test,mean_windspeed,sd_windspeed=normalize(test,[\"windspeed\"])\n"
      ],
      "execution_count": 0,
      "outputs": []
    },
    {
      "cell_type": "code",
      "metadata": {
        "id": "T5IW52FNmmIL",
        "colab_type": "code",
        "colab": {}
      },
      "source": [
        "\n",
        "#One hot-encode categorical data\n",
        "test = dummy_data(test, [\"season\",\"weather\",\"hour\",\"dayofweek\",\"month\"]) #\"day\" not included because of incomplete data\n"
      ],
      "execution_count": 0,
      "outputs": []
    },
    {
      "cell_type": "code",
      "metadata": {
        "id": "hfHI_qAPmO6k",
        "colab_type": "code",
        "colab": {}
      },
      "source": [
        "prediction=NN_model.predict(test)"
      ],
      "execution_count": 0,
      "outputs": []
    },
    {
      "cell_type": "code",
      "metadata": {
        "id": "1vcmvD2rnLy8",
        "colab_type": "code",
        "outputId": "3246dd38-45ae-424e-df8b-6f5e6fb1ab59",
        "colab": {
          "base_uri": "https://localhost:8080/",
          "height": 348
        }
      },
      "source": [
        "evaluation=test_original['datetime'].to_frame()\n",
        "evaluation[\"count\"]=prediction\n",
        "evaluation[\"count\"] = evaluation[\"count\"].astype(int)\n",
        "evaluation[:10]"
      ],
      "execution_count": 0,
      "outputs": [
        {
          "output_type": "execute_result",
          "data": {
            "text/html": [
              "<div>\n",
              "<style scoped>\n",
              "    .dataframe tbody tr th:only-of-type {\n",
              "        vertical-align: middle;\n",
              "    }\n",
              "\n",
              "    .dataframe tbody tr th {\n",
              "        vertical-align: top;\n",
              "    }\n",
              "\n",
              "    .dataframe thead th {\n",
              "        text-align: right;\n",
              "    }\n",
              "</style>\n",
              "<table border=\"1\" class=\"dataframe\">\n",
              "  <thead>\n",
              "    <tr style=\"text-align: right;\">\n",
              "      <th></th>\n",
              "      <th>datetime</th>\n",
              "      <th>count</th>\n",
              "    </tr>\n",
              "  </thead>\n",
              "  <tbody>\n",
              "    <tr>\n",
              "      <th>0</th>\n",
              "      <td>2011-01-20 00:00:00</td>\n",
              "      <td>6</td>\n",
              "    </tr>\n",
              "    <tr>\n",
              "      <th>1</th>\n",
              "      <td>2011-01-20 01:00:00</td>\n",
              "      <td>5</td>\n",
              "    </tr>\n",
              "    <tr>\n",
              "      <th>2</th>\n",
              "      <td>2011-01-20 02:00:00</td>\n",
              "      <td>2</td>\n",
              "    </tr>\n",
              "    <tr>\n",
              "      <th>3</th>\n",
              "      <td>2011-01-20 03:00:00</td>\n",
              "      <td>1</td>\n",
              "    </tr>\n",
              "    <tr>\n",
              "      <th>4</th>\n",
              "      <td>2011-01-20 04:00:00</td>\n",
              "      <td>1</td>\n",
              "    </tr>\n",
              "    <tr>\n",
              "      <th>5</th>\n",
              "      <td>2011-01-20 05:00:00</td>\n",
              "      <td>7</td>\n",
              "    </tr>\n",
              "    <tr>\n",
              "      <th>6</th>\n",
              "      <td>2011-01-20 06:00:00</td>\n",
              "      <td>50</td>\n",
              "    </tr>\n",
              "    <tr>\n",
              "      <th>7</th>\n",
              "      <td>2011-01-20 07:00:00</td>\n",
              "      <td>140</td>\n",
              "    </tr>\n",
              "    <tr>\n",
              "      <th>8</th>\n",
              "      <td>2011-01-20 08:00:00</td>\n",
              "      <td>178</td>\n",
              "    </tr>\n",
              "    <tr>\n",
              "      <th>9</th>\n",
              "      <td>2011-01-20 09:00:00</td>\n",
              "      <td>58</td>\n",
              "    </tr>\n",
              "  </tbody>\n",
              "</table>\n",
              "</div>"
            ],
            "text/plain": [
              "              datetime  count\n",
              "0  2011-01-20 00:00:00      6\n",
              "1  2011-01-20 01:00:00      5\n",
              "2  2011-01-20 02:00:00      2\n",
              "3  2011-01-20 03:00:00      1\n",
              "4  2011-01-20 04:00:00      1\n",
              "5  2011-01-20 05:00:00      7\n",
              "6  2011-01-20 06:00:00     50\n",
              "7  2011-01-20 07:00:00    140\n",
              "8  2011-01-20 08:00:00    178\n",
              "9  2011-01-20 09:00:00     58"
            ]
          },
          "metadata": {
            "tags": []
          },
          "execution_count": 144
        }
      ]
    },
    {
      "cell_type": "code",
      "metadata": {
        "id": "Lpa7EWLNngP5",
        "colab_type": "code",
        "colab": {}
      },
      "source": [
        "evaluation.to_csv(\"submission_anupam.csv\",index=False)"
      ],
      "execution_count": 0,
      "outputs": []
    },
    {
      "cell_type": "code",
      "metadata": {
        "id": "3FZp--YblL2f",
        "colab_type": "code",
        "outputId": "ef88bb3b-2ec2-4a52-cbea-98eff844d0de",
        "colab": {
          "base_uri": "https://localhost:8080/",
          "height": 1000
        }
      },
      "source": [
        ""
      ],
      "execution_count": 0,
      "outputs": [
        {
          "output_type": "execute_result",
          "data": {
            "text/plain": [
              "0      -1.228358\n",
              "1      -1.228358\n",
              "2      -1.228358\n",
              "3      -1.228358\n",
              "4      -1.228358\n",
              "5      -1.333599\n",
              "6      -1.438841\n",
              "7      -1.438841\n",
              "8      -1.438841\n",
              "9      -1.333599\n",
              "10     -1.228358\n",
              "11     -1.123116\n",
              "12     -1.017874\n",
              "13     -1.123116\n",
              "14     -1.017874\n",
              "15     -0.912633\n",
              "16     -1.017874\n",
              "17     -1.017874\n",
              "18     -1.228358\n",
              "19     -1.228358\n",
              "20     -1.228358\n",
              "21     -1.333599\n",
              "22     -1.333599\n",
              "23     -1.333599\n",
              "24     -1.333599\n",
              "25     -1.333599\n",
              "26     -1.333599\n",
              "27     -1.438841\n",
              "28     -1.438841\n",
              "29     -1.333599\n",
              "          ...   \n",
              "6463   -1.333599\n",
              "6464   -0.807391\n",
              "6465   -1.438841\n",
              "6466   -1.544083\n",
              "6467   -1.544083\n",
              "6468   -1.544083\n",
              "6469   -1.649324\n",
              "6470   -1.649324\n",
              "6471   -1.754566\n",
              "6472   -1.754566\n",
              "6473   -1.859808\n",
              "6474   -1.754566\n",
              "6475   -1.754566\n",
              "6476   -1.754566\n",
              "6477   -1.859808\n",
              "6478   -1.649324\n",
              "6479   -1.544083\n",
              "6480   -1.438841\n",
              "6481   -1.333599\n",
              "6482   -1.228358\n",
              "6483   -1.123116\n",
              "6484   -1.123116\n",
              "6485   -1.228358\n",
              "6486   -1.228358\n",
              "6487   -1.228358\n",
              "6488   -1.228358\n",
              "6489   -1.228358\n",
              "6490   -1.228358\n",
              "6491   -1.228358\n",
              "6492   -1.228358\n",
              "Name: temp, Length: 6493, dtype: float64"
            ]
          },
          "metadata": {
            "tags": []
          },
          "execution_count": 72
        }
      ]
    },
    {
      "cell_type": "code",
      "metadata": {
        "id": "w-xtDn0VbkRV",
        "colab_type": "code",
        "colab": {}
      },
      "source": [
        "\n",
        "#For debugging only\n",
        "#print(mean_temp, sd_temp, mean_atemp, sd_atemp, mean_humidity, sd_humidity, mean_windspeed, sd_windspeed)\n",
        "print(data_x[0:2])\n",
        "#\n"
      ],
      "execution_count": 0,
      "outputs": []
    },
    {
      "cell_type": "code",
      "metadata": {
        "id": "V30RCC7xdBjW",
        "colab_type": "code",
        "colab": {}
      },
      "source": [
        "#For debugging only\n",
        "data.describe()"
      ],
      "execution_count": 0,
      "outputs": []
    }
  ]
}