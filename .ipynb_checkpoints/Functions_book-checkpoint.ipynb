{
 "cells": [
  {
   "cell_type": "code",
   "execution_count": 229,
   "metadata": {},
   "outputs": [],
   "source": [
    "import pandas as pd"
   ]
  },
  {
   "cell_type": "code",
   "execution_count": 262,
   "metadata": {},
   "outputs": [],
   "source": [
    "df=pd.read_csv(r\"output.csv\")"
   ]
  },
  {
   "cell_type": "code",
   "execution_count": 231,
   "metadata": {
    "scrolled": true
   },
   "outputs": [
    {
     "data": {
      "text/plain": [
       "Index(['Unnamed: 0', 'app_temp', 'clouds', 'clouds_hi', 'clouds_low',\n",
       "       'clouds_mid', 'datetime', 'dewpt', 'dhi', 'dni', 'ghi', 'ozone', 'pod',\n",
       "       'pop', 'precip', 'pres', 'rh', 'slp', 'snow', 'snow_depth', 'solar_rad',\n",
       "       'temp', 'timestamp_local', 'timestamp_utc', 'ts', 'uv', 'vis',\n",
       "       'weather.code', 'weather.description', 'weather.icon', 'wind_cdir',\n",
       "       'wind_cdir_full', 'wind_dir', 'wind_gust_spd', 'wind_spd', 'city',\n",
       "       'lon', 'lat', 'place', 'weather_code', 'season', 'season_code',\n",
       "       'dayofweek', 'workingday', 'holiday', 'year', 'month', 'day', 'hour'],\n",
       "      dtype='object')"
      ]
     },
     "execution_count": 231,
     "metadata": {},
     "output_type": "execute_result"
    }
   ],
   "source": [
    "df.columns"
   ]
  },
  {
   "cell_type": "code",
   "execution_count": 232,
   "metadata": {},
   "outputs": [],
   "source": [
    "from datetime import datetime"
   ]
  },
  {
   "cell_type": "code",
   "execution_count": 233,
   "metadata": {},
   "outputs": [],
   "source": [
    "df['datetime'] = pd.to_datetime(df['datetime'])\n",
    "df['date'] = df['datetime'].dt.date"
   ]
  },
  {
   "cell_type": "code",
   "execution_count": 234,
   "metadata": {
    "scrolled": true
   },
   "outputs": [
    {
     "data": {
      "text/plain": [
       "Index(['Unnamed: 0', 'app_temp', 'clouds', 'clouds_hi', 'clouds_low',\n",
       "       'clouds_mid', 'datetime', 'dewpt', 'dhi', 'dni', 'ghi', 'ozone', 'pod',\n",
       "       'pop', 'precip', 'pres', 'rh', 'slp', 'snow', 'snow_depth', 'solar_rad',\n",
       "       'temp', 'timestamp_local', 'timestamp_utc', 'ts', 'uv', 'vis',\n",
       "       'weather.code', 'weather.description', 'weather.icon', 'wind_cdir',\n",
       "       'wind_cdir_full', 'wind_dir', 'wind_gust_spd', 'wind_spd', 'city',\n",
       "       'lon', 'lat', 'place', 'weather_code', 'season', 'season_code',\n",
       "       'dayofweek', 'workingday', 'holiday', 'year', 'month', 'day', 'hour',\n",
       "       'date'],\n",
       "      dtype='object')"
      ]
     },
     "execution_count": 234,
     "metadata": {},
     "output_type": "execute_result"
    }
   ],
   "source": [
    "df.columns"
   ]
  },
  {
   "cell_type": "code",
   "execution_count": 235,
   "metadata": {},
   "outputs": [],
   "source": [
    "def filtering_the_data(df,location,date,hour):\n",
    "    \n",
    "    if df['place'].str.contains(location).any():\n",
    "        df=df[df['datetime'].dt.date.astype(str) == date]\n",
    "        df=df[df['hour']==(hour)]\n",
    "        return df\n",
    "    else:\n",
    "        print('Location not present')"
   ]
  },
  {
   "cell_type": "code",
   "execution_count": 236,
   "metadata": {},
   "outputs": [
    {
     "data": {
      "text/html": [
       "<div>\n",
       "<style scoped>\n",
       "    .dataframe tbody tr th:only-of-type {\n",
       "        vertical-align: middle;\n",
       "    }\n",
       "\n",
       "    .dataframe tbody tr th {\n",
       "        vertical-align: top;\n",
       "    }\n",
       "\n",
       "    .dataframe thead th {\n",
       "        text-align: right;\n",
       "    }\n",
       "</style>\n",
       "<table border=\"1\" class=\"dataframe\">\n",
       "  <thead>\n",
       "    <tr style=\"text-align: right;\">\n",
       "      <th></th>\n",
       "      <th>Unnamed: 0</th>\n",
       "      <th>app_temp</th>\n",
       "      <th>clouds</th>\n",
       "      <th>clouds_hi</th>\n",
       "      <th>clouds_low</th>\n",
       "      <th>clouds_mid</th>\n",
       "      <th>datetime</th>\n",
       "      <th>dewpt</th>\n",
       "      <th>dhi</th>\n",
       "      <th>dni</th>\n",
       "      <th>...</th>\n",
       "      <th>season</th>\n",
       "      <th>season_code</th>\n",
       "      <th>dayofweek</th>\n",
       "      <th>workingday</th>\n",
       "      <th>holiday</th>\n",
       "      <th>year</th>\n",
       "      <th>month</th>\n",
       "      <th>day</th>\n",
       "      <th>hour</th>\n",
       "      <th>date</th>\n",
       "    </tr>\n",
       "  </thead>\n",
       "  <tbody>\n",
       "    <tr>\n",
       "      <th>20</th>\n",
       "      <td>20</td>\n",
       "      <td>26.0</td>\n",
       "      <td>72</td>\n",
       "      <td>22</td>\n",
       "      <td>10</td>\n",
       "      <td>66</td>\n",
       "      <td>2019-07-20 05:00:00</td>\n",
       "      <td>18.9</td>\n",
       "      <td>116.06</td>\n",
       "      <td>910.36</td>\n",
       "      <td>...</td>\n",
       "      <td>Monsoon</td>\n",
       "      <td>3</td>\n",
       "      <td>5</td>\n",
       "      <td>1</td>\n",
       "      <td>0</td>\n",
       "      <td>2019</td>\n",
       "      <td>7</td>\n",
       "      <td>10</td>\n",
       "      <td>10</td>\n",
       "      <td>2019-07-20</td>\n",
       "    </tr>\n",
       "  </tbody>\n",
       "</table>\n",
       "<p>1 rows × 50 columns</p>\n",
       "</div>"
      ],
      "text/plain": [
       "    Unnamed: 0  app_temp  clouds  clouds_hi  clouds_low  clouds_mid  \\\n",
       "20          20      26.0      72         22          10          66   \n",
       "\n",
       "              datetime  dewpt     dhi     dni  ...   season  season_code  \\\n",
       "20 2019-07-20 05:00:00   18.9  116.06  910.36  ...  Monsoon            3   \n",
       "\n",
       "   dayofweek  workingday  holiday  year  month  day  hour        date  \n",
       "20         5           1        0  2019      7   10    10  2019-07-20  \n",
       "\n",
       "[1 rows x 50 columns]"
      ]
     },
     "execution_count": 236,
     "metadata": {},
     "output_type": "execute_result"
    }
   ],
   "source": [
    "filtering_the_data(df,'Bellandur','2019-07-20',10)"
   ]
  },
  {
   "cell_type": "code",
   "execution_count": 201,
   "metadata": {},
   "outputs": [
    {
     "ename": "SyntaxError",
     "evalue": "'return' outside function (<ipython-input-201-56b9175fa12e>, line 2)",
     "output_type": "error",
     "traceback": [
      "\u001b[1;36m  File \u001b[1;32m\"<ipython-input-201-56b9175fa12e>\"\u001b[1;36m, line \u001b[1;32m2\u001b[0m\n\u001b[1;33m    return render_template(\u001b[0m\n\u001b[1;37m    ^\u001b[0m\n\u001b[1;31mSyntaxError\u001b[0m\u001b[1;31m:\u001b[0m 'return' outside function\n"
     ]
    }
   ],
   "source": [
    "def length_of_dataframe(df):\n",
    "    if len(df)==0:\n",
    "    return render_template(\n",
    "        'contact.html')\n",
    "elif len(df)>1:\n",
    "    return render_template(\n",
    "        'contact.html')\n",
    "else:\n",
    "    return df\n",
    "    "
   ]
  },
  {
   "cell_type": "code",
   "execution_count": 243,
   "metadata": {},
   "outputs": [
    {
     "name": "stdout",
     "output_type": "stream",
     "text": [
      "test was invoked\n"
     ]
    }
   ],
   "source": [
    "def test ():\n",
    "   print(\"test was invoked\")\n",
    "\n",
    "def invoker(func):\n",
    "   func()\n",
    "\n",
    "invoker(test)"
   ]
  },
  {
   "cell_type": "code",
   "execution_count": 278,
   "metadata": {},
   "outputs": [
    {
     "data": {
      "text/plain": [
       "False"
      ]
     },
     "execution_count": 278,
     "metadata": {},
     "output_type": "execute_result"
    }
   ],
   "source": [
    "df['holiday'].isnull().values.any()"
   ]
  },
  {
   "cell_type": "code",
   "execution_count": 281,
   "metadata": {},
   "outputs": [],
   "source": [
    "def holiday(df):\n",
    "    flag=True\n",
    "    if df['holiday'].isnull().values.any()==flag:\n",
    "         return render_template('contact.html')\n",
    "    else:\n",
    "        holiday=df['holiday'].astype(int)\n",
    "        return holiday\n",
    "    "
   ]
  },
  {
   "cell_type": "code",
   "execution_count": 283,
   "metadata": {},
   "outputs": [],
   "source": [
    "def workingday(df):\n",
    "    flag=True\n",
    "    if df['workingday'].isnull().values.any()==flag:\n",
    "         return render_template('contact.html')\n",
    "    else:\n",
    "        workingday=df['workingday'].astype(int)\n",
    "        return workingday\n",
    "    "
   ]
  },
  {
   "cell_type": "code",
   "execution_count": 285,
   "metadata": {},
   "outputs": [],
   "source": [
    "def temp(df):\n",
    "    flag=True\n",
    "    if df['temp'].isnull().values.any()==flag:\n",
    "         return render_template('contact.html')\n",
    "    else:\n",
    "        temp=df['temp'].astype(float)\n",
    "        return temp"
   ]
  },
  {
   "cell_type": "code",
   "execution_count": 286,
   "metadata": {},
   "outputs": [],
   "source": [
    "def atemp(df):\n",
    "    flag=True\n",
    "    if df['app_temp'].isnull().values.any()==flag:\n",
    "         return render_template('contact.html')\n",
    "    else:\n",
    "        atemp=df['app_temp'].astype(float)\n",
    "        return atemp"
   ]
  },
  {
   "cell_type": "code",
   "execution_count": 287,
   "metadata": {},
   "outputs": [],
   "source": [
    "def humidity(df):\n",
    "    flag=True\n",
    "    if df['rh'].isnull().values.any()==flag:\n",
    "         return render_template('contact.html')\n",
    "    else:\n",
    "        humidity=df['rh'].astype(float)\n",
    "        return humidity"
   ]
  },
  {
   "cell_type": "code",
   "execution_count": 288,
   "metadata": {},
   "outputs": [],
   "source": [
    "def weather(df):\n",
    "    flag=True\n",
    "    if df['weather_code'].isnull().values.any()==flag:\n",
    "         return render_template('contact.html')\n",
    "    else:\n",
    "        weather=df['weather_code'].astype(int)\n",
    "        return weather"
   ]
  },
  {
   "cell_type": "code",
   "execution_count": 289,
   "metadata": {},
   "outputs": [],
   "source": [
    "def season(df):\n",
    "    flag=True\n",
    "    if df['season_code'].isnull().values.any()==flag:\n",
    "         return render_template('contact.html')\n",
    "    else:\n",
    "        season=df['season_code'].astype(int)\n",
    "        return season"
   ]
  },
  {
   "cell_type": "code",
   "execution_count": 290,
   "metadata": {},
   "outputs": [],
   "source": [
    "def windspeed(df):\n",
    "    flag=True\n",
    "    if df['windspeed'].isnull().values.any()==flag:\n",
    "         return render_template('contact.html')\n",
    "    else:\n",
    "        windspeed=df['windspeed'].astype(int)\n",
    "        return windspeed"
   ]
  },
  {
   "cell_type": "code",
   "execution_count": 291,
   "metadata": {},
   "outputs": [],
   "source": [
    "def windspeed(df):\n",
    "    flag=True\n",
    "    if df['windspeed'].isnull().values.any()==flag:\n",
    "         return render_template('contact.html')\n",
    "    else:\n",
    "        windspeed=df['windspeed'].astype(int)\n",
    "        return windspeed"
   ]
  },
  {
   "cell_type": "code",
   "execution_count": 292,
   "metadata": {},
   "outputs": [],
   "source": [
    "def year(df):\n",
    "    flag=True\n",
    "    if df['year'].isnull().values.any()==flag:\n",
    "         return render_template('contact.html')\n",
    "    else:\n",
    "        year=df['year'].astype(int)\n",
    "        return year"
   ]
  },
  {
   "cell_type": "code",
   "execution_count": 293,
   "metadata": {},
   "outputs": [],
   "source": [
    "def day(df):\n",
    "    flag=True\n",
    "    if df['day'].isnull().values.any()==flag:\n",
    "         return render_template('contact.html')\n",
    "    else:\n",
    "        year=df['day'].astype(int)\n",
    "        return year"
   ]
  },
  {
   "cell_type": "code",
   "execution_count": 295,
   "metadata": {},
   "outputs": [],
   "source": [
    "def hour(df):\n",
    "    flag=True\n",
    "    if df['hour'].isnull().values.any()==flag:\n",
    "         return render_template('contact.html')\n",
    "    else:\n",
    "        hour=df['hour'].astype(int)\n",
    "        return hour"
   ]
  },
  {
   "cell_type": "code",
   "execution_count": 296,
   "metadata": {},
   "outputs": [],
   "source": [
    "def dayofweek(df):\n",
    "    flag=True\n",
    "    if df['dayofweek'].isnull().values.any()==flag:\n",
    "         return render_template('contact.html')\n",
    "    else:\n",
    "        dayofweek=df['dayofweek'].astype(int)\n",
    "        return dayofweek"
   ]
  },
  {
   "cell_type": "code",
   "execution_count": null,
   "metadata": {},
   "outputs": [],
   "source": [
    "def month(df):\n",
    "    flag=True\n",
    "    if df['month'].isnull().values.any()==flag:\n",
    "         return render_template('contact.html')\n",
    "    else:\n",
    "        month=df['month'].astype(int)\n",
    "        return month"
   ]
  }
 ],
 "metadata": {
  "kernelspec": {
   "display_name": "Python 3",
   "language": "python",
   "name": "python3"
  },
  "language_info": {
   "codemirror_mode": {
    "name": "ipython",
    "version": 3
   },
   "file_extension": ".py",
   "mimetype": "text/x-python",
   "name": "python",
   "nbconvert_exporter": "python",
   "pygments_lexer": "ipython3",
   "version": "3.7.3"
  }
 },
 "nbformat": 4,
 "nbformat_minor": 2
}
