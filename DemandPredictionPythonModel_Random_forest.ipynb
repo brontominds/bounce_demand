{
  "nbformat": 4,
  "nbformat_minor": 0,
  "metadata": {
    "colab": {
      "name": "Copy of DemandPredictionPythonModel.ipynb",
      "version": "0.3.2",
      "provenance": [],
      "collapsed_sections": [],
      "include_colab_link": true
    },
    "kernelspec": {
      "display_name": "Python 3",
      "language": "python",
      "name": "python3"
    },
    "language_info": {
      "codemirror_mode": {
        "name": "ipython",
        "version": 3
      },
      "file_extension": ".py",
      "mimetype": "text/x-python",
      "name": "python",
      "nbconvert_exporter": "python",
      "pygments_lexer": "ipython3",
      "version": "3.7.3"
    }
  },
  "cells": [
    {
      "cell_type": "markdown",
      "metadata": {
        "id": "view-in-github",
        "colab_type": "text"
      },
      "source": [
        "<a href=\"https://colab.research.google.com/github/brontominds/bounce_demand/blob/v0.01/DemandPredictionPythonModel_Random_forest.ipynb\" target=\"_parent\"><img src=\"https://colab.research.google.com/assets/colab-badge.svg\" alt=\"Open In Colab\"/></a>"
      ]
    },
    {
      "cell_type": "code",
      "metadata": {
        "colab_type": "code",
        "id": "-utKQafzbKAm",
        "outputId": "dc4a9ac7-d8ce-4741-a748-dc5d5b8b33c7",
        "colab": {
          "base_uri": "https://localhost:8080/",
          "height": 35
        }
      },
      "source": [
        "import pandas as pd\n",
        "import seaborn as sns\n",
        "from sklearn.utils import shuffle\n",
        "import matplotlib.pyplot as plt  # For plotting graphs \n",
        "from datetime import datetime    # To access datetime \n",
        "import numpy as np\n",
        "\n",
        "from keras.models import Sequential\n",
        "from keras.layers import Dense, Activation\n",
        "from keras.callbacks import ModelCheckpoint,EarlyStopping\n",
        "from keras.optimizers import Adam,SGD,RMSprop,Adagrad\n",
        "\n",
        "\n",
        "\n",
        "#Add date time specific columns to the dataframe\n",
        "def datetime(df):\n",
        "  from datetime import datetime\n",
        "  df['datetime'] = pd.to_datetime(df['datetime'])\n",
        "  df['year'] = df['datetime'].dt.year\n",
        "  df['month']=df['datetime'].dt.month\n",
        "  df['day'] = df['datetime'].dt.day \n",
        "  df['hour'] = df['datetime'].dt.hour\n",
        "  df['dayofweek'] = df['datetime'].dt.dayofweek\n",
        "  return df\n",
        "\n",
        "#Normalize a column of dataframe and return mean and sd\n",
        "def normalize(df,feature_name):\n",
        "  mean_value = df[feature_name].mean()\n",
        "  std_value = df[feature_name].std()\n",
        "  df[feature_name] = (df[feature_name] - mean_value) / std_value        \n",
        "  return (df, mean_value, std_value)\n",
        "\n",
        "\n",
        "#One hot encode data\n",
        "def dummy_data(data, columns):\n",
        "    for column in columns:\n",
        "        data = pd.concat([data, pd.get_dummies(data[column], prefix=column)], axis=1)\n",
        "        data = data.drop(column, axis=1)\n",
        "    return data\n",
        "\n",
        "#Drop Redundant Columns\n",
        "def drop_redundantcolumns(data):\n",
        "  return (data.drop([\"casual\",\"registered\"], axis=1))  \n",
        "\n",
        "#Create target variable and convert features dataframe to a numpy array\n",
        "def create_targetvariable(data, fraction=0.2):\n",
        "    data_y = data[\"count\"]\n",
        "    data_x = data.drop([\"count\"], axis=1)\n",
        "    return data_x.values, data_y\n",
        "\n",
        "\n"
      ],
      "execution_count": 0,
      "outputs": [
        {
          "output_type": "stream",
          "text": [
            "Using TensorFlow backend.\n"
          ],
          "name": "stderr"
        }
      ]
    },
    {
      "cell_type": "code",
      "metadata": {
        "colab_type": "code",
        "id": "j0YEUZ1IUKSe",
        "colab": {}
      },
      "source": [
        "#PLotting functions\n",
        "%matplotlib inline\n",
        "def plotOutliers(df):\n",
        "  plt.figure(1)\n",
        "  plt.subplot(121)\n",
        "  sns.distplot(df); \n",
        "  plt.subplot(122)\n",
        "  df.plot.box(figsize=(16,5)) \n",
        "  plt.show()\n",
        "  \n",
        "def plotScatter(df1, dfTarget):\n",
        "  plt.scatter(df1,dfTarget,alpha=0.1,cmap='viridis')\n",
        "  \n",
        "def plotCorrelationHeatmap(df):\n",
        "  matrix = df.corr()\n",
        "  f, ax = plt.subplots(figsize=(30, 10))\n",
        "  sns.heatmap(matrix, vmax=.8, square=True, cmap=\"Greens\")\n",
        "  \n",
        "def plotCorrelationHeatMap1d(df):\n",
        "  corrMat = df.corr()\n",
        "  mask = np.array(corrMat)\n",
        "  mask[np.tril_indices_from(mask)] = False\n",
        "  fig, ax= plt.subplots(figsize=(60, 20))\n",
        "  sns.heatmap(corrMat, mask=mask,vmax=1., square=True,annot=True)\n",
        " \n",
        "  def plotCorrelationwithTarget(df):\n",
        "    corr_matrix = df.corr()\n",
        "    corr_target=corr_matrix[\"count\"].sort_values(ascending=False)\n",
        "    corr_target.plot.bar()\n",
        "  "
      ],
      "execution_count": 0,
      "outputs": []
    },
    {
      "cell_type": "code",
      "metadata": {
        "colab_type": "code",
        "id": "s5Zl-EG3cBUI",
        "colab": {}
      },
      "source": [
        "#Read Training Data\n",
        "data=pd.read_csv(\"train.csv\")\n",
        "data_original=data\n",
        "\n",
        "#Add new features of date time\n",
        "data=datetime(data)\n",
        "data=data.drop('datetime',axis=1)\n",
        "\n"
      ],
      "execution_count": 0,
      "outputs": []
    },
    {
      "cell_type": "code",
      "metadata": {
        "colab_type": "code",
        "id": "hv_OBBjFVEE8",
        "colab": {}
      },
      "source": [
        "#Plot graphs if required\n",
        "#plotOutliers(data['atemp'])\n",
        "#plotScatter(data['humidity'], data['count'])\n",
        "#plotCorrelationHeatmap(data)\n",
        "#plotCorrelationHeatMap1d(data)"
      ],
      "execution_count": 0,
      "outputs": []
    },
    {
      "cell_type": "code",
      "metadata": {
        "colab_type": "code",
        "id": "IWRVTrqqU9uG",
        "colab": {}
      },
      "source": [
        "#Transform Data\n",
        "#Normalize weather data\n",
        "data, mean_temp, sd_temp=normalize(data,[\"temp\"])\n",
        "data,mean_atemp,sd_atemp=normalize(data,[\"atemp\"])\n",
        "data,mean_humidity,sd_humidity=normalize(data,[\"humidity\"])\n",
        "data,mean_windspeed,sd_windspeed=normalize(data,[\"windspeed\"])\n",
        "\n",
        "#One hot-encode categorical data\n",
        "data = dummy_data(data, [\"season\",\"weather\",\"hour\",\"dayofweek\",\"month\"]) #\"day\" not included because of incomplete data\n",
        "#TODO: Check which all features require hot encoding, and which work better without hot encoding"
      ],
      "execution_count": 0,
      "outputs": []
    },
    {
      "cell_type": "code",
      "metadata": {
        "colab_type": "code",
        "id": "awuxCbq6dxMg",
        "colab": {}
      },
      "source": [
        "#Shuffle data and split into training+validation, and testing\n",
        "#Training and Validation data kept together as Keras will do the auto split\n",
        "data=shuffle(data,random_state=1) #Seed=1 applied for ability to repeat same tests with parameters tuning\n",
        "\n",
        "testDataSplit=0.2 #0.3 means 30% data will be taken out for test and remaining for training+validation\n",
        "nrows = len(data)\n",
        "training_validation_rows = int(nrows*(1-testDataSplit))\n",
        "training_validation_data=data[0:training_validation_rows-1]\n",
        "test_data=data[training_validation_rows:]\n",
        "test_data=test_data.drop(['count'],1)"
      ],
      "execution_count": 0,
      "outputs": []
    },
    {
      "cell_type": "code",
      "metadata": {
        "colab_type": "code",
        "id": "Q6fL547YeY9W",
        "colab": {}
      },
      "source": [
        "#Drop casual and registered users columns\n",
        "training_validation_data = drop_redundantcolumns(training_validation_data)\n",
        "\n",
        "#Separate target variable, and convert features data into a numpy array\n",
        "data_x, data_y = create_targetvariable(training_validation_data)"
      ],
      "execution_count": 0,
      "outputs": []
    },
    {
      "cell_type": "code",
      "metadata": {
        "colab_type": "code",
        "id": "cKDHHP0wfagY",
        "outputId": "cee96766-b46e-4b8a-e200-f4c6cbfa6f44",
        "colab": {
          "base_uri": "https://localhost:8080/",
          "height": 141
        }
      },
      "source": [
        "#Generate Random Forest Model\n",
        "from sklearn.ensemble import RandomForestRegressor\n",
        "\n",
        "regressor = RandomForestRegressor(n_estimators = 100, random_state = 42)\n",
        "regressor.fit(data_x, data_y)\n",
        "\n"
      ],
      "execution_count": 0,
      "outputs": [
        {
          "output_type": "execute_result",
          "data": {
            "text/plain": [
              "RandomForestRegressor(bootstrap=True, criterion='mse', max_depth=None,\n",
              "                      max_features='auto', max_leaf_nodes=None,\n",
              "                      min_impurity_decrease=0.0, min_impurity_split=None,\n",
              "                      min_samples_leaf=1, min_samples_split=2,\n",
              "                      min_weight_fraction_leaf=0.0, n_estimators=100,\n",
              "                      n_jobs=None, oob_score=False, random_state=42, verbose=0,\n",
              "                      warm_start=False)"
            ]
          },
          "metadata": {
            "tags": []
          },
          "execution_count": 9
        }
      ]
    },
    {
      "cell_type": "code",
      "metadata": {
        "colab_type": "code",
        "id": "Yld7jrdxg2J5",
        "outputId": "589379ba-451f-4bfb-bd45-1c402f65088d",
        "colab": {
          "base_uri": "https://localhost:8080/",
          "height": 90
        }
      },
      "source": [
        "#Save the trained model to a pickle file\n",
        "import pickle\n",
        "from sklearn.externals import joblib\n",
        "\n",
        "joblib.dump(regressor,'BounceDemandPrediction_Random_forest.pkl')"
      ],
      "execution_count": 0,
      "outputs": [
        {
          "output_type": "stream",
          "text": [
            "/usr/local/lib/python3.6/dist-packages/sklearn/externals/joblib/__init__.py:15: DeprecationWarning: sklearn.externals.joblib is deprecated in 0.21 and will be removed in 0.23. Please import this functionality directly from joblib, which can be installed with: pip install joblib. If this warning is raised when loading pickled models, you may need to re-serialize those models with scikit-learn 0.21+.\n",
            "  warnings.warn(msg, category=DeprecationWarning)\n"
          ],
          "name": "stderr"
        },
        {
          "output_type": "execute_result",
          "data": {
            "text/plain": [
              "['BounceDemandPrediction_Random_forest.pkl']"
            ]
          },
          "metadata": {
            "tags": []
          },
          "execution_count": 10
        }
      ]
    },
    {
      "cell_type": "code",
      "metadata": {
        "colab_type": "code",
        "id": "7lN0leLJEKk_",
        "colab": {}
      },
      "source": [
        "import pandas as pd\n",
        "lst=[mean_temp[0],mean_humidity[0],mean_windspeed[0],mean_atemp[0],sd_temp[0],sd_humidity[0],sd_windspeed[0],sd_atemp[0]]\n",
        " \n",
        "df = pd.DataFrame([lst],columns =['mean_temp', 'mean_humidity','mean_windspeed','mean_atemp','sd_temp','sd_humidity','sd_windspeed','sd_atemp']) \n",
        "df.to_csv('data_mean_std.csv',index=False)"
      ],
      "execution_count": 0,
      "outputs": []
    },
    {
      "cell_type": "code",
      "metadata": {
        "colab_type": "code",
        "id": "sjxqXbImhxIb",
        "colab": {}
      },
      "source": [
        "#Define transformation functions\n",
        "def transform_temp(temp):\n",
        "  return ((temp-mean_temp[0])/sd_temp[0])\n",
        "\n",
        "def transform_atemp(atemp):\n",
        "  return ((atemp-mean_atemp[0])/sd_atemp[0])\n",
        "\n",
        "def transform_humidity(humidity):\n",
        "  return ((humidity-mean_humidity[0])/sd_humidity[0])\n",
        "\n",
        "def transform_windspeed(windspeed):\n",
        "   return ((windspeed-mean_windspeed[0])/sd_windspeed[0])"
      ],
      "execution_count": 0,
      "outputs": []
    },
    {
      "cell_type": "code",
      "metadata": {
        "colab_type": "code",
        "id": "iMswIHRZirY6",
        "colab": {}
      },
      "source": [
        "#Evaluate on test data\n",
        "\n",
        "#Drop casual and registered users columns\n",
        "test_data = drop_redundantcolumns(test_data)\n",
        "\n"
      ],
      "execution_count": 0,
      "outputs": []
    },
    {
      "cell_type": "code",
      "metadata": {
        "colab_type": "code",
        "id": "yaG78syOirhK",
        "colab": {}
      },
      "source": [
        "scores=regressor.predict(test_data)"
      ],
      "execution_count": 0,
      "outputs": []
    },
    {
      "cell_type": "code",
      "metadata": {
        "colab_type": "code",
        "id": "VAmOOv7nkJ17",
        "outputId": "b3e623f8-2e10-4f82-d675-72df86c08564",
        "colab": {
          "base_uri": "https://localhost:8080/",
          "height": 35
        }
      },
      "source": [
        "test1_loss=scores[0]\n",
        "test1_mae=scores[1]\n",
        "test1_mse=scores[2]\n",
        "\n",
        "test1_mae\n",
        "\n",
        "#Evaluate on Test Data Complete"
      ],
      "execution_count": 0,
      "outputs": [
        {
          "output_type": "execute_result",
          "data": {
            "text/plain": [
              "32.13"
            ]
          },
          "metadata": {
            "tags": []
          },
          "execution_count": 15
        }
      ]
    },
    {
      "cell_type": "code",
      "metadata": {
        "colab_type": "code",
        "id": "jqHHPciAkJ5_",
        "colab": {}
      },
      "source": [
        ""
      ],
      "execution_count": 0,
      "outputs": []
    },
    {
      "cell_type": "code",
      "metadata": {
        "colab_type": "code",
        "id": "L--WIAJFkdhf",
        "colab": {}
      },
      "source": [
        "#Kaggle submission\n",
        "test=pd.read_csv(\"test.csv\")\n",
        "test_original=test.copy()"
      ],
      "execution_count": 0,
      "outputs": []
    },
    {
      "cell_type": "code",
      "metadata": {
        "colab_type": "code",
        "id": "p17NxDxBkp_k",
        "colab": {}
      },
      "source": [
        "#Transform Test Data\n",
        "#Add new features of date time\n",
        "test=datetime(test)\n",
        "test=test.drop('datetime',axis=1)\n"
      ],
      "execution_count": 0,
      "outputs": []
    },
    {
      "cell_type": "code",
      "metadata": {
        "colab_type": "code",
        "id": "2MoeVzXUmdrw",
        "colab": {}
      },
      "source": [
        "\n",
        "#Normalize weather data\n",
        "test[\"temp\"] = transform_temp(test[\"temp\"])\n",
        "test[\"atemp\"] = transform_atemp(test[\"atemp\"])\n",
        "test[\"humidity\"] = transform_humidity(test[\"humidity\"])\n",
        "test[\"windspeed\"] = transform_windspeed(test[\"windspeed\"])\n",
        "\n"
      ],
      "execution_count": 0,
      "outputs": []
    },
    {
      "cell_type": "code",
      "metadata": {
        "colab_type": "code",
        "id": "0U7ceaIQolZw",
        "colab": {}
      },
      "source": [
        "\n",
        "#test, mean_temp, sd_temp=normalize(test,[\"temp\"])\n",
        "#test,mean_atemp,sd_atemp=normalize(test,[\"atemp\"])\n",
        "#test,mean_humidity,sd_humidity=normalize(test,[\"humidity\"])\n",
        "#test,mean_windspeed,sd_windspeed=normalize(test,[\"windspeed\"])\n"
      ],
      "execution_count": 0,
      "outputs": []
    },
    {
      "cell_type": "code",
      "metadata": {
        "colab_type": "code",
        "id": "T5IW52FNmmIL",
        "colab": {}
      },
      "source": [
        "\n",
        "#One hot-encode categorical data\n",
        "test = dummy_data(test, [\"season\",\"weather\",\"hour\",\"dayofweek\",\"month\"]) #\"day\" not included because of incomplete data\n"
      ],
      "execution_count": 0,
      "outputs": []
    },
    {
      "cell_type": "code",
      "metadata": {
        "colab_type": "code",
        "id": "hfHI_qAPmO6k",
        "colab": {}
      },
      "source": [
        "prediction=NN_model.predict(test)"
      ],
      "execution_count": 0,
      "outputs": []
    },
    {
      "cell_type": "code",
      "metadata": {
        "colab_type": "code",
        "id": "1vcmvD2rnLy8",
        "colab": {}
      },
      "source": [
        "evaluation=test_original['datetime'].to_frame()\n",
        "evaluation[\"count\"]=prediction\n",
        "evaluation[\"count\"] = evaluation[\"count\"].astype(int)\n",
        "evaluation[:10]"
      ],
      "execution_count": 0,
      "outputs": []
    },
    {
      "cell_type": "code",
      "metadata": {
        "colab_type": "code",
        "id": "Lpa7EWLNngP5",
        "colab": {}
      },
      "source": [
        "evaluation.to_csv(\"submission_anupam.csv\",index=False)"
      ],
      "execution_count": 0,
      "outputs": []
    },
    {
      "cell_type": "code",
      "metadata": {
        "colab_type": "code",
        "id": "3FZp--YblL2f",
        "colab": {}
      },
      "source": [
        ""
      ],
      "execution_count": 0,
      "outputs": []
    },
    {
      "cell_type": "code",
      "metadata": {
        "colab_type": "code",
        "id": "w-xtDn0VbkRV",
        "colab": {}
      },
      "source": [
        "\n",
        "#For debugging only\n",
        "#print(mean_temp, sd_temp, mean_atemp, sd_atemp, mean_humidity, sd_humidity, mean_windspeed, sd_windspeed)\n",
        "print(data_x[0:2])\n",
        "#\n"
      ],
      "execution_count": 0,
      "outputs": []
    },
    {
      "cell_type": "code",
      "metadata": {
        "colab_type": "code",
        "id": "V30RCC7xdBjW",
        "colab": {}
      },
      "source": [
        "#For debugging only\n",
        "data.describe()"
      ],
      "execution_count": 0,
      "outputs": []
    }
  ]
}